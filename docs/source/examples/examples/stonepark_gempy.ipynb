{
  "cells": [
    {
      "cell_type": "code",
      "execution_count": null,
      "metadata": {
        "collapsed": false
      },
      "outputs": [],
      "source": [
        "%matplotlib inline\nfrom pyvista import set_plot_theme\nset_plot_theme('document')"
      ]
    },
    {
      "cell_type": "markdown",
      "metadata": {},
      "source": [
        "\nStonepark Geological Model\n--------------------------  \n\n\nConstruct a 3D geological model of the Stonepark deposit using GemPy.\n"
      ]
    },
    {
      "cell_type": "code",
      "execution_count": null,
      "metadata": {
        "collapsed": false
      },
      "outputs": [],
      "source": [
        "import time\n\nstart_time = time.time()  # start timer\n\nimport numpy as np"
      ]
    },
    {
      "cell_type": "markdown",
      "metadata": {},
      "source": [
        "Read nc from subsurface\n\n"
      ]
    },
    {
      "cell_type": "code",
      "execution_count": null,
      "metadata": {
        "collapsed": false
      },
      "outputs": [],
      "source": [
        "import os\nfrom dotenv import dotenv_values\n\nimport matplotlib.pyplot as plt\nimport pyvista as pv\n\nfrom vector_geology.omf_to_gempy import process_file\nimport gempy as gp\nimport gempy_viewer as gpv\n\nconfig = dotenv_values()\npath = config.get(\"PATH_TO_STONEPARK_Subsurface\")\nstructural_elements = []\naccumulated_roi = []\nglobal_extent = None\ncolor_gen = gp.data.ColorsGenerator()\n\nfor e, filename in enumerate(os.listdir(path)):\n    base, ext = os.path.splitext(filename)\n    if ext == '.nc':\n        structural_element, global_extent = process_file(os.path.join(path, filename), global_extent, color_gen)\n        structural_elements.append(structural_element)"
      ]
    },
    {
      "cell_type": "markdown",
      "metadata": {},
      "source": [
        "Element 1 is an intrusion\n\n"
      ]
    },
    {
      "cell_type": "code",
      "execution_count": null,
      "metadata": {
        "collapsed": false
      },
      "outputs": [],
      "source": [
        "#  %%\n# Setup gempy object\n# structural_elements.pop(1)\n\nstructural_group_red = gp.data.StructuralGroup(\n    name=\"Red\",\n    # elements=[structural_elements[i] for i in [0, 4, 6, 8]],\n    elements=[structural_elements[i] for i in [0, 4, 8]],\n    structural_relation=gp.data.StackRelationType.ERODE\n)\n\nstructural_group_green = gp.data.StructuralGroup(\n    name=\"Green\",\n    elements=[structural_elements[i] for i in [5]],\n    structural_relation=gp.data.StackRelationType.ERODE\n)\n\nstructural_group_blue = gp.data.StructuralGroup(\n    name=\"Blue\",\n    elements=[structural_elements[i] for i in [2, 3]],\n    structural_relation=gp.data.StackRelationType.ERODE\n)\n\nstructural_group_intrusion = gp.data.StructuralGroup(\n    name=\"Intrusion\",\n    elements=[structural_elements[i] for i in [1]],\n    structural_relation=gp.data.StackRelationType.ERODE\n)\n\nstructural_groups = [structural_group_intrusion, structural_group_green, structural_group_blue, structural_group_red]\nstructural_frame = gp.data.StructuralFrame(\n    structural_groups=structural_groups[3:],\n    color_gen=color_gen\n)\n# TODO: If elements do not have color maybe loop them on structural frame constructor?\n\ngeo_model: gp.data.GeoModel = gp.create_geomodel(\n    project_name='Tutorial_ch1_1_Basics',\n    extent=global_extent,\n    resolution=[20, 10, 20],\n    refinement=4,  # * Here we define the number of octree levels. If octree levels are defined, the resolution is ignored.\n    structural_frame=structural_frame\n)"
      ]
    },
    {
      "cell_type": "code",
      "execution_count": null,
      "metadata": {
        "collapsed": false
      },
      "outputs": [],
      "source": [
        "geo_model"
      ]
    },
    {
      "cell_type": "markdown",
      "metadata": {},
      "source": [
        "gpv.plot_3d(geo_model)\n\n"
      ]
    },
    {
      "cell_type": "code",
      "execution_count": null,
      "metadata": {
        "collapsed": false
      },
      "outputs": [],
      "source": [
        "geo_model.interpolation_options.mesh_extraction = True\ngeo_model.interpolation_options.kernel_options.compute_condition_number = True\ngeo_model.interpolation_options.kernel_options.range = 0.7\ngeo_model.interpolation_options.kernel_options.c_o = 4\n\nsurface_points_copy = geo_model.surface_points\n\ngeo_model.update_transform()\n\nif REUSE_NUGGETS := True:\n    loaded_nuggets = np.load(\"nuggets.npy\")\n    gp.modify_surface_points(\n        geo_model,\n        slice=None,\n        nugget=loaded_nuggets\n    )\n\n    geo_model.interpolation_options.kernel_options.compute_condition_number = False\n    gp.compute_model(\n        geo_model,\n        engine_config=gp.data.GemPyEngineConfig(\n            backend=gp.data.AvailableBackends.PYTORCH,\n        ),\n    )\nelse:\n    gp.API.compute_API.optimize_and_compute(\n        geo_model=geo_model,\n        engine_config=gp.data.GemPyEngineConfig(\n            backend=gp.data.AvailableBackends.PYTORCH,\n        ),\n        max_epochs=100,\n        convergence_criteria=1e5\n    )\n\ngpv.plot_2d(geo_model, show_scalar=True)\n\nnugget_effect = geo_model.taped_interpolation_input.surface_points.nugget_effect_scalar\nnp.save(\"nuggets\", nugget_effect.detach().numpy())\n\nsurface_points_xyz = geo_model.surface_points.df[['X', 'Y', 'Z']].to_numpy()\n\nnugget_numpy = nugget_effect.detach().numpy()[:]\n\narray_to_plot = nugget_numpy\n\nplt.hist(nugget_numpy, bins=50, color='black', alpha=0.7, log=True)\nplt.xlabel('Eigenvalue')\nplt.ylabel('Frequency')\nplt.title('Histogram of Eigenvalues (nugget-grad)')\nplt.show()\nclean_sp = surface_points_xyz[1:]\n\nend_time = time.time()\nexecution_time = end_time - start_time\n\nprint(f\"The function executed in {execution_time} seconds.\")\n\ngempy_vista = gpv.plot_3d(\n    model=geo_model,\n    show=False,\n    kwargs_plot_structured_grid={'opacity': 0.3}\n)\n\nif ADD_ORIGINAL_MESH := False:\n    gempy_vista.p.add_mesh(triangulated_mesh, color=\"red\", opacity=0.5)\n\n# Create a point cloud mesh\npoint_cloud = pv.PolyData(surface_points_xyz[0:])\npoint_cloud['values'] = array_to_plot  # Add the log values as a scalar array\n\ngempy_vista.p.add_mesh(\n    point_cloud,\n    scalars='values',\n    cmap='inferno',\n    point_size=25,\n)\n\ngempy_vista.p.show()"
      ]
    }
  ],
  "metadata": {
    "kernelspec": {
      "display_name": "Python 3",
      "language": "python",
      "name": "python3"
    },
    "language_info": {
      "codemirror_mode": {
        "name": "ipython",
        "version": 3
      },
      "file_extension": ".py",
      "mimetype": "text/x-python",
      "name": "python",
      "nbconvert_exporter": "python",
      "pygments_lexer": "ipython3",
      "version": "3.10.12"
    }
  },
  "nbformat": 4,
  "nbformat_minor": 0
}