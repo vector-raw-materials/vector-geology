{
  "cells": [
    {
      "cell_type": "code",
      "execution_count": null,
      "metadata": {
        "collapsed": false
      },
      "outputs": [],
      "source": [
        "%matplotlib inline\nfrom pyvista import set_plot_theme\nset_plot_theme('document')"
      ]
    },
    {
      "cell_type": "markdown",
      "metadata": {},
      "source": [
        "\n# Reading COLLINSTOWN OMF project\n\nThis tutorial demonstrates how to read an OMF project file in COLLINSTOWN.\n"
      ]
    },
    {
      "cell_type": "markdown",
      "metadata": {},
      "source": [
        "## Required Libraries:\n\nImport the required libraries. \n\n"
      ]
    },
    {
      "cell_type": "code",
      "execution_count": null,
      "metadata": {
        "collapsed": false
      },
      "outputs": [],
      "source": [
        "import omfvista\nimport pyvista\nimport subsurface\nfrom subsurface import TriSurf\nfrom subsurface.visualization import to_pyvista_mesh, pv_plot\nfrom subsurface.writer import base_structs_to_binary_file\nfrom dotenv import dotenv_values"
      ]
    },
    {
      "cell_type": "markdown",
      "metadata": {},
      "source": [
        "## Load OMF Project:\n\nLoad the OMF project using a fixture.\n\n"
      ]
    },
    {
      "cell_type": "code",
      "execution_count": null,
      "metadata": {
        "collapsed": false
      },
      "outputs": [],
      "source": [
        "def load_omf():\n    config = dotenv_values()\n    path = config.get('PATH_TO_COLLINSTOWN')\n    omf = omfvista.load_project(path)\n    return omf\n\nomf = load_omf()"
      ]
    },
    {
      "cell_type": "markdown",
      "metadata": {},
      "source": [
        "## Read OMF with PyVista:\n\nVisualize the OMF project with PyVista.\n\n"
      ]
    },
    {
      "cell_type": "code",
      "execution_count": null,
      "metadata": {
        "collapsed": false
      },
      "outputs": [],
      "source": [
        "omf.plot(multi_colors=True, show_edges=True, notebook=False)"
      ]
    },
    {
      "cell_type": "markdown",
      "metadata": {},
      "source": [
        "## Convert OMF to Unstructured Single Block:\n\nConvert the loaded OMF project into an unstructured single block for further analysis.\n\n"
      ]
    },
    {
      "cell_type": "code",
      "execution_count": null,
      "metadata": {
        "collapsed": false
      },
      "outputs": [],
      "source": [
        "block_name = omf.get_block_name(4)\npolydata_obj: pyvista.PolyData = omf[block_name]\nunstruct_pyvista: pyvista.UnstructuredGrid = polydata_obj.cast_to_unstructured_grid()\ncells_pyvista = unstruct_pyvista.cells.reshape(-1, 4)[:, 1:]\n\nunstruct: subsurface.UnstructuredData = subsurface.UnstructuredData.from_array(\n    vertex=unstruct_pyvista.points,\n    cells=cells_pyvista,\n)\n\nif False:  # Replace with condition for exporting to Liquid Earth\n    base_structs_to_binary_file(\"leapfrog1\", unstruct)"
      ]
    },
    {
      "cell_type": "markdown",
      "metadata": {},
      "source": [
        "## Visualize Unstructured Data:\n\nUse Subsurface and PyVista to visualize the unstructured data.\n\n"
      ]
    },
    {
      "cell_type": "code",
      "execution_count": null,
      "metadata": {
        "collapsed": false
      },
      "outputs": [],
      "source": [
        "ts = TriSurf(mesh=unstruct)\ns = to_pyvista_mesh(ts)\npv_plot([s], image_2d=False)"
      ]
    }
  ],
  "metadata": {
    "kernelspec": {
      "display_name": "Python 3",
      "language": "python",
      "name": "python3"
    },
    "language_info": {
      "codemirror_mode": {
        "name": "ipython",
        "version": 3
      },
      "file_extension": ".py",
      "mimetype": "text/x-python",
      "name": "python",
      "nbconvert_exporter": "python",
      "pygments_lexer": "ipython3",
      "version": "3.10.12"
    }
  },
  "nbformat": 4,
  "nbformat_minor": 0
}