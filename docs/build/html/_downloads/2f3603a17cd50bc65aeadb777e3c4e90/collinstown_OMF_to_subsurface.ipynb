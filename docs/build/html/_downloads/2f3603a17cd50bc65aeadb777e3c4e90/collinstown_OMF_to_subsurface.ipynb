{
  "cells": [
    {
      "cell_type": "code",
      "execution_count": null,
      "metadata": {
        "collapsed": false
      },
      "outputs": [],
      "source": [
        "%matplotlib inline\nfrom pyvista import set_plot_theme\nset_plot_theme('document')"
      ]
    },
    {
      "cell_type": "markdown",
      "metadata": {},
      "source": [
        "\n# Reading COLLINSTOWN OMF project\n\nThis tutorial demonstrates how to read an OMF project file in COLLINSTOWN.\n"
      ]
    },
    {
      "cell_type": "markdown",
      "metadata": {},
      "source": [
        "## Required Libraries:\n\nImport the required libraries. \n\n"
      ]
    },
    {
      "cell_type": "code",
      "execution_count": null,
      "metadata": {
        "collapsed": false
      },
      "outputs": [],
      "source": [
        "import omfvista\nimport pandas as pd\nimport pyvista\nimport subsurface\nfrom subsurface import TriSurf, LineSet\nfrom subsurface.visualization import to_pyvista_mesh, pv_plot, to_pyvista_line, init_plotter\nfrom subsurface.writer import base_structs_to_binary_file\nfrom dotenv import dotenv_values"
      ]
    },
    {
      "cell_type": "markdown",
      "metadata": {},
      "source": [
        "## Load OMF Project:\n\nLoad the OMF project using a fixture.\n\n"
      ]
    },
    {
      "cell_type": "code",
      "execution_count": null,
      "metadata": {
        "collapsed": false
      },
      "outputs": [],
      "source": [
        "def load_omf():\n    config = dotenv_values()\n    path = config.get('PATH_TO_COLLINSTOWN')\n    omf = omfvista.load_project(path)\n    return omf\n\nomf = load_omf()"
      ]
    },
    {
      "cell_type": "markdown",
      "metadata": {},
      "source": [
        "## Read OMF with PyVista:\n\nVisualize the OMF project with PyVista.\n\n"
      ]
    },
    {
      "cell_type": "code",
      "execution_count": null,
      "metadata": {
        "collapsed": false
      },
      "outputs": [],
      "source": [
        "if False:\n    omf.plot(multi_colors=True, show_edges=True, notebook=False)"
      ]
    },
    {
      "cell_type": "markdown",
      "metadata": {},
      "source": [
        "## Convert OMF to Unstructured Single Block:\n\nConvert the loaded OMF project into an unstructured single block for further analysis.\n\n"
      ]
    },
    {
      "cell_type": "code",
      "execution_count": null,
      "metadata": {
        "collapsed": false
      },
      "outputs": [],
      "source": [
        "meshes = []\nlines = []\nfor e in range(omf.n_blocks):\n\n    block_name = omf.get_block_name(e)\n    polydata_obj: pyvista.PolyData = omf[block_name]\n    # Check if the polydata is a mesh and if is not continue\n    print(polydata_obj.cell_type(0))\n    unstruct_pyvista: pyvista.UnstructuredGrid = polydata_obj.cast_to_unstructured_grid()\n\n    grid = unstruct_pyvista \n    cell_data = {name: grid.cell_data[name] for name in grid.cell_data}\n    match polydata_obj.cell_type(0):\n        case pyvista.CellType.TRIANGLE:\n            if False: continue # TODO: Remove this\n            \n            cells_pyvista = unstruct_pyvista.cells.reshape(-1, 4)[:, 1:]\n            new_cell_data = {\n                **{\n                    \"Formation_Major_\": e,\n                },\n                **cell_data\n            }\n            unstruct: subsurface.UnstructuredData = subsurface.UnstructuredData.from_array(\n                vertex=unstruct_pyvista.points,\n                cells=cells_pyvista,\n                cells_attr=pd.DataFrame(new_cell_data)\n            )\n            \n            ts = TriSurf(mesh=unstruct)\n            s = to_pyvista_mesh(ts)\n            meshes.append(s)\n\n           \n        case pyvista.CellType.LINE:\n            if \"Formation_Major\" not in cell_data.keys(): continue\n            cells_pyvista = unstruct_pyvista.cells.reshape(-1, 3)[:, 1:]\n            unstruct: subsurface.UnstructuredData = subsurface.UnstructuredData.from_array(\n                vertex=unstruct_pyvista.points,\n                cells=cells_pyvista,\n                cells_attr=pd.DataFrame(cell_data)\n            )\n            line = LineSet(data=unstruct)\n            s = to_pyvista_line(line, radius=100, as_tube=True, spline=False)\n            \n            lines.append(s)\n\nif False:  # Replace with condition for exporting to Liquid Earth\n    base_structs_to_binary_file(\"leapfrog1\", unstruct)"
      ]
    },
    {
      "cell_type": "markdown",
      "metadata": {},
      "source": [
        "## Visualize Unstructured Data:\nUse Subsurface and PyVista to visualize the unstructured data.\n\n"
      ]
    },
    {
      "cell_type": "code",
      "execution_count": null,
      "metadata": {
        "collapsed": false
      },
      "outputs": [],
      "source": [
        "plotter = init_plotter()\nfor mesh in meshes[3:]:\n    plotter.add_mesh(mesh, cmap=\"magma\", opacity=0.7)\n\nfor line in lines:\n    plotter.add_mesh(line, cmap=\"viridis\", opacity=1)\n\nplotter.show()"
      ]
    }
  ],
  "metadata": {
    "kernelspec": {
      "display_name": "Python 3",
      "language": "python",
      "name": "python3"
    },
    "language_info": {
      "codemirror_mode": {
        "name": "ipython",
        "version": 3
      },
      "file_extension": ".py",
      "mimetype": "text/x-python",
      "name": "python",
      "nbconvert_exporter": "python",
      "pygments_lexer": "ipython3",
      "version": "3.10.12"
    }
  },
  "nbformat": 4,
  "nbformat_minor": 0
}