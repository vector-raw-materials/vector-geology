{
  "cells": [
    {
      "cell_type": "code",
      "execution_count": null,
      "metadata": {
        "collapsed": false
      },
      "outputs": [],
      "source": [
        "%matplotlib inline\nfrom pyvista import set_plot_theme\nset_plot_theme('document')"
      ]
    },
    {
      "cell_type": "markdown",
      "metadata": {},
      "source": [
        "\nModel 1 Forward Gravity\n-----------------------  \n\nThis script demonstrates the calculation of forward gravity for model 1.\nIt utilizes libraries such as GemPy, NumPy, and others to handle and process geophysical data.\n"
      ]
    },
    {
      "cell_type": "code",
      "execution_count": null,
      "metadata": {
        "collapsed": false
      },
      "outputs": [],
      "source": [
        "import os\nimport time\nimport numpy as np\nimport pandas as pd\nimport xarray as xr\nfrom matplotlib import pyplot as plt\nfrom dotenv import dotenv_values\nimport gempy as gp\nimport gempy_viewer as gpv\nfrom gempy_engine.core.backend_tensor import BackendTensor\nfrom vector_geology.bayesian_helpers import calculate_scale_shift\nfrom vector_geology.model_1_builder import initialize_geo_model\nfrom vector_geology.omf_to_gempy import process_file\nfrom vector_geology.utils import extend_box"
      ]
    },
    {
      "cell_type": "markdown",
      "metadata": {},
      "source": [
        "Start the timer to measure the execution time of the script\n\n"
      ]
    },
    {
      "cell_type": "code",
      "execution_count": null,
      "metadata": {
        "collapsed": false
      },
      "outputs": [],
      "source": [
        "start_time = time.time()"
      ]
    },
    {
      "cell_type": "markdown",
      "metadata": {},
      "source": [
        "Load environment configuration\nThis step reads configurations from a .env file, crucial for setting up file paths.\n\n"
      ]
    },
    {
      "cell_type": "code",
      "execution_count": null,
      "metadata": {
        "collapsed": false
      },
      "outputs": [],
      "source": [
        "config = dotenv_values()\npath = config.get(\"PATH_TO_MODEL_1_Subsurface\")"
      ]
    },
    {
      "cell_type": "markdown",
      "metadata": {},
      "source": [
        "Initialize structural elements for the geological model\nThese will be used to build the model using GemPy.\n\n"
      ]
    },
    {
      "cell_type": "code",
      "execution_count": null,
      "metadata": {
        "collapsed": false
      },
      "outputs": [],
      "source": [
        "structural_elements = []\nglobal_extent = None\ncolor_gen = gp.data.ColorsGenerator()"
      ]
    },
    {
      "cell_type": "markdown",
      "metadata": {},
      "source": [
        "Process .nc files for geological model construction\nThis loop reads and processes each .nc file to extract necessary data for the model.\n\n"
      ]
    },
    {
      "cell_type": "code",
      "execution_count": null,
      "metadata": {
        "collapsed": false
      },
      "outputs": [],
      "source": [
        "for filename in os.listdir(path):\n    base, ext = os.path.splitext(filename)\n    if ext == '.nc':\n        file_path = os.path.join(path, filename)\n        structural_element, global_extent = process_file(file_path, global_extent, color_gen)\n        structural_elements.append(structural_element)"
      ]
    },
    {
      "cell_type": "markdown",
      "metadata": {},
      "source": [
        "Setup GemPy geological model\nHere, the model is initialized with the processed data.\n\n"
      ]
    },
    {
      "cell_type": "code",
      "execution_count": null,
      "metadata": {
        "collapsed": false
      },
      "outputs": [],
      "source": [
        "geo_model = initialize_geo_model(\n    structural_elements=structural_elements,\n    extent=(np.array(global_extent)),\n    topography=(xr.open_dataset(os.path.join(path, \"Topography.nc\"))),\n    load_nuggets=True\n)"
      ]
    },
    {
      "cell_type": "markdown",
      "metadata": {},
      "source": [
        "Display the initialized GemPy model\nIt's always good practice to verify the model's initialization.\n\n"
      ]
    },
    {
      "cell_type": "code",
      "execution_count": null,
      "metadata": {
        "collapsed": false
      },
      "outputs": [],
      "source": [
        "print(geo_model)"
      ]
    },
    {
      "cell_type": "markdown",
      "metadata": {},
      "source": [
        "Read Bouguer gravity data from a CSV file\nThis data is used for geophysical calculations later in the script.\n\n"
      ]
    },
    {
      "cell_type": "code",
      "execution_count": null,
      "metadata": {
        "collapsed": false
      },
      "outputs": [],
      "source": [
        "df = pd.read_csv(\n    filepath_or_buffer=config.get(\"PATH_TO_MODEL_1_BOUGUER\"),\n    sep=',',\n    header=0\n)"
      ]
    },
    {
      "cell_type": "markdown",
      "metadata": {},
      "source": [
        "Filter and prepare the gravity data for further processing\nThis step ensures we use the relevant subset of the data.\n\n"
      ]
    },
    {
      "cell_type": "code",
      "execution_count": null,
      "metadata": {
        "collapsed": false
      },
      "outputs": [],
      "source": [
        "df = df[df['X'] < 565000]\ninteresting_columns = df[['X', 'Y', 'Bouguer_267_complete']]"
      ]
    },
    {
      "cell_type": "markdown",
      "metadata": {},
      "source": [
        "Set up interpolation options for the GemPy model\nConfiguring interpolation is crucial for accurate geological modeling.\n\n"
      ]
    },
    {
      "cell_type": "code",
      "execution_count": null,
      "metadata": {
        "collapsed": false
      },
      "outputs": [],
      "source": [
        "interpolation_options = geo_model.interpolation_options\ninterpolation_options.mesh_extraction = True\ninterpolation_options.kernel_options.range = .7\ninterpolation_options.kernel_options.c_o = 3\ninterpolation_options.kernel_options.compute_condition_number = True"
      ]
    },
    {
      "cell_type": "markdown",
      "metadata": {},
      "source": [
        "Plot the 2D representation of the geological model with gravity data\nThis visualization helps in understanding the spatial distribution of the data.\n\n"
      ]
    },
    {
      "cell_type": "code",
      "execution_count": null,
      "metadata": {
        "collapsed": false
      },
      "outputs": [],
      "source": [
        "plot2d = gpv.plot_2d(geo_model, show_topography=True, section_names=[\"topography\"], show=False)\nplot2d.axes[0].scatter(\n    interesting_columns['X'],\n    interesting_columns['Y'],\n    c=interesting_columns['Bouguer_267_complete'],\n    cmap='viridis',\n    s=100,\n    zorder=10000\n)\nplot2d.fig.show()"
      ]
    },
    {
      "cell_type": "markdown",
      "metadata": {},
      "source": [
        "Calculate and display the script execution time so far\nMonitoring execution time is useful for performance optimization.\n\n"
      ]
    },
    {
      "cell_type": "code",
      "execution_count": null,
      "metadata": {
        "collapsed": false
      },
      "outputs": [],
      "source": [
        "end_time = time.time()\nexecution_time = end_time - start_time\nprint(f\"The function executed in {execution_time} seconds.\")"
      ]
    },
    {
      "cell_type": "markdown",
      "metadata": {},
      "source": [
        "3D visualization of the geological model\nThis 3D view provides a comprehensive perspective of the model's structure.\n\n"
      ]
    },
    {
      "cell_type": "code",
      "execution_count": null,
      "metadata": {
        "collapsed": false
      },
      "outputs": [],
      "source": [
        "gempy_vista = gpv.plot_3d(\n    model=geo_model,\n    show=True,\n    kwargs_plot_structured_grid={'opacity': 0.8},\n    image=True\n)"
      ]
    },
    {
      "cell_type": "markdown",
      "metadata": {},
      "source": [
        "Prepare and set up data for geophysical calculations\nConfiguring the data correctly is key for accurate gravity calculations.\n\n"
      ]
    },
    {
      "cell_type": "code",
      "execution_count": null,
      "metadata": {
        "collapsed": false
      },
      "outputs": [],
      "source": [
        "device_location = interesting_columns[['X', 'Y']]\ndevice_location['Z'] = 0  # Add a Z-coordinate"
      ]
    },
    {
      "cell_type": "markdown",
      "metadata": {},
      "source": [
        "Set up a centered grid for geophysical calculations\nThis grid will be used for gravity gradient calculations.\n\n"
      ]
    },
    {
      "cell_type": "code",
      "execution_count": null,
      "metadata": {
        "collapsed": false
      },
      "outputs": [],
      "source": [
        "gp.set_centered_grid(\n    grid=geo_model.grid,\n    centers=device_location,\n    resolution=np.array([10, 10, 15]),\n    radius=np.array([5000, 5000, 5000])\n)"
      ]
    },
    {
      "cell_type": "markdown",
      "metadata": {},
      "source": [
        "Change backend for GemPy to support tensor operations\nThis is necessary for integrating GemPy with PyTorch.\n\n"
      ]
    },
    {
      "cell_type": "code",
      "execution_count": null,
      "metadata": {
        "collapsed": false
      },
      "outputs": [],
      "source": [
        "BackendTensor.change_backend_gempy(engine_backend=gp.data.AvailableBackends.PYTORCH, dtype=\"float64\")"
      ]
    },
    {
      "cell_type": "markdown",
      "metadata": {},
      "source": [
        "Calculate the gravity gradient using GemPy\nGravity gradient data is critical for geophysical modeling and inversion.\n\n"
      ]
    },
    {
      "cell_type": "code",
      "execution_count": null,
      "metadata": {
        "collapsed": false
      },
      "outputs": [],
      "source": [
        "gravity_gradient = gp.calculate_gravity_gradient(geo_model.grid.centered_grid)"
      ]
    },
    {
      "cell_type": "markdown",
      "metadata": {},
      "source": [
        "Define and set up densities tensor for the gravity calculation\nDensities are a fundamental part of the gravity modeling process.\n\n"
      ]
    },
    {
      "cell_type": "code",
      "execution_count": null,
      "metadata": {
        "collapsed": false
      },
      "outputs": [],
      "source": [
        "densities_tensor = BackendTensor.t.array([2.61, 2.92, 3.1, 2.92, 2.61, 2.61])\ndensities_tensor.requires_grad = True"
      ]
    },
    {
      "cell_type": "markdown",
      "metadata": {},
      "source": [
        "Set geophysics input for the GemPy model\nConfiguring this input is crucial for the forward gravity calculation.\n\n"
      ]
    },
    {
      "cell_type": "code",
      "execution_count": null,
      "metadata": {
        "collapsed": false
      },
      "outputs": [],
      "source": [
        "geo_model.geophysics_input = gp.data.GeophysicsInput(\n    tz=BackendTensor.t.array(gravity_gradient),\n    densities=densities_tensor\n)"
      ]
    },
    {
      "cell_type": "markdown",
      "metadata": {},
      "source": [
        "Compute the geological model with geophysical data\nThis computation integrates the geological model with gravity data.\n\n"
      ]
    },
    {
      "cell_type": "code",
      "execution_count": null,
      "metadata": {
        "collapsed": false
      },
      "outputs": [],
      "source": [
        "sol = gp.compute_model(\n    gempy_model=geo_model,\n    engine_config=gp.data.GemPyEngineConfig(\n        backend=gp.data.AvailableBackends.PYTORCH,\n        dtype='float64'\n    )\n)\ngrav = - sol.gravity\ngrav[0].backward()"
      ]
    },
    {
      "cell_type": "markdown",
      "metadata": {},
      "source": [
        "Output gradient information for analysis\nThe gradient data can provide insights into the density distribution.\n\n"
      ]
    },
    {
      "cell_type": "code",
      "execution_count": null,
      "metadata": {
        "collapsed": false
      },
      "outputs": [],
      "source": [
        "print(densities_tensor.grad)"
      ]
    },
    {
      "cell_type": "markdown",
      "metadata": {},
      "source": [
        "Perform scale and shift calculations on the gravity data\nThese calculations align the model's gravity data with observed values.\n\n"
      ]
    },
    {
      "cell_type": "code",
      "execution_count": null,
      "metadata": {
        "collapsed": false
      },
      "outputs": [],
      "source": [
        "s, c = calculate_scale_shift(\n    a=interesting_columns[\"Bouguer_267_complete\"].values,\n    b=(grav.detach().numpy())\n)"
      ]
    },
    {
      "cell_type": "markdown",
      "metadata": {},
      "source": [
        "Display the calculated scale and shift values\nUnderstanding these values is important for interpreting the results.\n\n"
      ]
    },
    {
      "cell_type": "code",
      "execution_count": null,
      "metadata": {
        "collapsed": false
      },
      "outputs": [],
      "source": [
        "print(\"Scale (s):\", s)\nprint(\"Shift (c):\", c)"
      ]
    },
    {
      "cell_type": "markdown",
      "metadata": {},
      "source": [
        "Adapt the gravity data based on scale and shift calculations\nThis step adjusts the model's gravity data to match observed values.\n\n"
      ]
    },
    {
      "cell_type": "code",
      "execution_count": null,
      "metadata": {
        "collapsed": false
      },
      "outputs": [],
      "source": [
        "adapted_grav = s * interesting_columns[\"Bouguer_267_complete\"] + c\ndiff = adapted_grav - grav.detach().numpy()"
      ]
    },
    {
      "cell_type": "markdown",
      "metadata": {},
      "source": [
        "Visualization of adapted gravity data\nThis visualization helps in comparing the model's gravity data with observations.\n\n"
      ]
    },
    {
      "cell_type": "code",
      "execution_count": null,
      "metadata": {
        "collapsed": false
      },
      "outputs": [],
      "source": [
        "plot2d = gpv.plot_2d(geo_model, show_topography=True, section_names=[\"topography\"], show=False)\nplot2d.axes[0].scatter(\n    interesting_columns['X'],\n    interesting_columns['Y'],\n    c=grav.detach().numpy(),\n    cmap='viridis',\n    s=100,\n    zorder=10000\n)\nplt.show()"
      ]
    },
    {
      "cell_type": "markdown",
      "metadata": {},
      "source": [
        "Calculate symmetric vmin and vmax for the colorbar in the difference plot\nThis step ensures a balanced color representation of positive and negative differences.\n\n"
      ]
    },
    {
      "cell_type": "code",
      "execution_count": null,
      "metadata": {
        "collapsed": false
      },
      "outputs": [],
      "source": [
        "max_diff = np.max(np.abs(diff))  # Get the maximum absolute value from diff\nvmin, vmax = -max_diff, max_diff  # Set vmin and vmax"
      ]
    },
    {
      "cell_type": "markdown",
      "metadata": {},
      "source": [
        "Plotting the difference between adapted and computed gravity data\nThis plot highlights the discrepancies between the model and observed data.\n\n"
      ]
    },
    {
      "cell_type": "code",
      "execution_count": null,
      "metadata": {
        "collapsed": false
      },
      "outputs": [],
      "source": [
        "plot2d = gpv.plot_2d(geo_model, show_topography=True, section_names=[\"topography\"], show=False)\nsc = plot2d.axes[0].scatter(\n    interesting_columns['X'],\n    interesting_columns['Y'],\n    c=diff,\n    cmap='bwr',\n    s=100,\n    zorder=10000,\n    vmin=vmin,\n    vmax=vmax\n)\nplt.colorbar(sc, label=\"Difference (mGal)\")\nplt.show()\n\n# sphinx_gallery_thumbnail_number = -1"
      ]
    }
  ],
  "metadata": {
    "kernelspec": {
      "display_name": "Python 3",
      "language": "python",
      "name": "python3"
    },
    "language_info": {
      "codemirror_mode": {
        "name": "ipython",
        "version": 3
      },
      "file_extension": ".py",
      "mimetype": "text/x-python",
      "name": "python",
      "nbconvert_exporter": "python",
      "pygments_lexer": "ipython3",
      "version": "3.10.12"
    }
  },
  "nbformat": 4,
  "nbformat_minor": 0
}