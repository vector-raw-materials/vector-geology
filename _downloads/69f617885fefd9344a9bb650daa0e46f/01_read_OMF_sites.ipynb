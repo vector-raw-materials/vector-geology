{
  "cells": [
    {
      "cell_type": "code",
      "execution_count": null,
      "metadata": {
        "collapsed": false
      },
      "outputs": [],
      "source": [
        "%matplotlib inline\nfrom pyvista import set_plot_theme\nset_plot_theme('document')"
      ]
    },
    {
      "cell_type": "markdown",
      "metadata": {},
      "source": [
        "\n# Reading OMF Project Into Python\n\nThis tutorial demonstrates how to read an OMF (Open Mining Format) project file in Python, visualize it using PyVista, and convert it to a format suitable for further analysis with Subsurface.\n"
      ]
    },
    {
      "cell_type": "markdown",
      "metadata": {},
      "source": [
        "## Required Libraries\nFirst, we import the necessary libraries for handling and visualizing OMF files.\n\n"
      ]
    },
    {
      "cell_type": "code",
      "execution_count": null,
      "metadata": {
        "collapsed": false
      },
      "outputs": [],
      "source": [
        "import omfvista\nimport pyvista\nimport subsurface\nfrom subsurface import TriSurf\nfrom subsurface.visualization import to_pyvista_mesh, pv_plot\nfrom subsurface.writer import base_structs_to_binary_file\nfrom dotenv import dotenv_values"
      ]
    },
    {
      "cell_type": "markdown",
      "metadata": {},
      "source": [
        "## Load OMF Project\nHere, we define a function to load an OMF project using a path specified in a .env file.\n\n"
      ]
    },
    {
      "cell_type": "code",
      "execution_count": null,
      "metadata": {
        "collapsed": false
      },
      "outputs": [],
      "source": [
        "def load_omf():\n    config = dotenv_values()\n    path = config.get('PATH_TO_MODEL_2')\n    omf_project = omfvista.load_project(path)\n    return omf_project\n\nomf_project = load_omf()"
      ]
    },
    {
      "cell_type": "markdown",
      "metadata": {},
      "source": [
        "## Visualize OMF with PyVista\nUtilize PyVista for an interactive visualization of the OMF project.\n\n"
      ]
    },
    {
      "cell_type": "code",
      "execution_count": null,
      "metadata": {
        "collapsed": false
      },
      "outputs": [],
      "source": [
        "omf_project.plot(multi_colors=True, show_edges=True, notebook=False)"
      ]
    },
    {
      "cell_type": "markdown",
      "metadata": {},
      "source": [
        "## Convert OMF to Unstructured Single Block\nConvert the loaded OMF project into an unstructured single block for further processing.\n\n"
      ]
    },
    {
      "cell_type": "code",
      "execution_count": null,
      "metadata": {
        "collapsed": false
      },
      "outputs": [],
      "source": [
        "block_name = omf_project.get_block_name(4)\npolydata_obj: pyvista.PolyData = omf_project[block_name]\nunstruct_pyvista: pyvista.UnstructuredGrid = polydata_obj.cast_to_unstructured_grid()\ncells_pyvista = unstruct_pyvista.cells.reshape(-1, 4)[:, 1:]\n\nunstruct: subsurface.UnstructuredData = subsurface.UnstructuredData.from_array(\n    vertex=unstruct_pyvista.points,\n    cells=cells_pyvista,\n)\n\n# Optional: Export to Liquid Earth if required\nTO_LIQUID_EARTH = False  # Replace with actual condition\nif TO_LIQUID_EARTH:\n    base_structs_to_binary_file(\"leapfrog1\", unstruct)"
      ]
    },
    {
      "cell_type": "markdown",
      "metadata": {},
      "source": [
        "## Visualize Unstructured Data\nFinally, visualize the converted unstructured data using Subsurface and PyVista.\n\n"
      ]
    },
    {
      "cell_type": "code",
      "execution_count": null,
      "metadata": {
        "collapsed": false
      },
      "outputs": [],
      "source": [
        "ts = TriSurf(mesh=unstruct)\nsubsurface_mesh = to_pyvista_mesh(ts)\npv_plot([subsurface_mesh], image_2d=False)"
      ]
    }
  ],
  "metadata": {
    "kernelspec": {
      "display_name": "Python 3",
      "language": "python",
      "name": "python3"
    },
    "language_info": {
      "codemirror_mode": {
        "name": "ipython",
        "version": 3
      },
      "file_extension": ".py",
      "mimetype": "text/x-python",
      "name": "python",
      "nbconvert_exporter": "python",
      "pygments_lexer": "ipython3",
      "version": "3.10.12"
    }
  },
  "nbformat": 4,
  "nbformat_minor": 0
}