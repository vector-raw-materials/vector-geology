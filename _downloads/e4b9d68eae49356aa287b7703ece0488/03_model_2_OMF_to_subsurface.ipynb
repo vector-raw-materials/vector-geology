{
  "cells": [
    {
      "cell_type": "code",
      "execution_count": null,
      "metadata": {
        "collapsed": false
      },
      "outputs": [],
      "source": [
        "%matplotlib inline\nfrom pyvista import set_plot_theme\nset_plot_theme('document')"
      ]
    },
    {
      "cell_type": "markdown",
      "metadata": {},
      "source": [
        "\n# Reading OMF project and exporting it to Subsurface: Example 1\n\nThis tutorial demonstrates how to read an OMF project file and export it for use with Subsurface.\n"
      ]
    },
    {
      "cell_type": "markdown",
      "metadata": {},
      "source": [
        "## Import Required Libraries\n\nImport the necessary libraries for reading an OMF file and processing it.\n\n"
      ]
    },
    {
      "cell_type": "code",
      "execution_count": null,
      "metadata": {
        "collapsed": false
      },
      "outputs": [],
      "source": [
        "import omfvista\nimport pandas as pd\nimport pyvista\nfrom dotenv import dotenv_values\nimport subsurface\nfrom subsurface import TriSurf, LineSet\nfrom subsurface.modules.visualization import to_pyvista_mesh, to_pyvista_line, init_plotter"
      ]
    },
    {
      "cell_type": "markdown",
      "metadata": {},
      "source": [
        "## Load OMF Project\n\nLoad the OMF project using a fixture.\n\n"
      ]
    },
    {
      "cell_type": "code",
      "execution_count": null,
      "metadata": {
        "collapsed": false
      },
      "outputs": [],
      "source": [
        "def load_omf():\n    config = dotenv_values()\n    path = config.get('PATH_TO_MODEL_2')\n    omf_project = omfvista.load_project(path)\n    return omf_project\n\nomf_project = load_omf()"
      ]
    },
    {
      "cell_type": "markdown",
      "metadata": {},
      "source": [
        "## Visualize OMF Project with PyVista (Optional)\n\nOptionally, visualize the OMF project using PyVista. This step can be skipped or modified as needed.\n\n"
      ]
    },
    {
      "cell_type": "code",
      "execution_count": null,
      "metadata": {
        "collapsed": false
      },
      "outputs": [],
      "source": [
        "if False:  # Change to True to enable visualization\n    omf_project.plot(multi_colors=True, show_edges=True, notebook=False)"
      ]
    },
    {
      "cell_type": "markdown",
      "metadata": {},
      "source": [
        "## Convert OMF to Unstructured Single Block\n\nConvert the loaded OMF project into an unstructured single block for further analysis.\n\n"
      ]
    },
    {
      "cell_type": "code",
      "execution_count": null,
      "metadata": {
        "collapsed": false
      },
      "outputs": [],
      "source": [
        "meshes = []\nlines = []\n\nfor block_index in range(omf_project.n_blocks):\n    block_name = omf_project.get_block_name(block_index)\n    polydata_obj: pyvista.PolyData = omf_project[block_name]\n\n    # Skip if the polydata is not a mesh\n    if not isinstance(polydata_obj, pyvista.PolyData):\n        continue\n\n    unstruct_pyvista: pyvista.UnstructuredGrid = polydata_obj.cast_to_unstructured_grid()\n    cell_data = {name: unstruct_pyvista.cell_data[name] for name in unstruct_pyvista.cell_data}\n\n    # Process based on cell type\n    match polydata_obj.get_cell(0).type:\n        case pyvista.CellType.TRIANGLE:\n            # Process triangle mesh\n            cells_pyvista = unstruct_pyvista.cells.reshape(-1, 4)[:, 1:]\n            new_cell_data = {\"Formation_Major_\": block_index, **cell_data}\n            unstruct = subsurface.UnstructuredData.from_array(\n                vertex=unstruct_pyvista.points,\n                cells=cells_pyvista,\n                cells_attr=pd.DataFrame(new_cell_data)\n            )\n            ts = TriSurf(mesh=unstruct)\n            meshes.append(to_pyvista_mesh(ts))\n\n        case pyvista.CellType.LINE:\n            # Process line data\n            if \"Formation_Major\" not in cell_data.keys():\n                continue\n            cells_pyvista = unstruct_pyvista.cells.reshape(-1, 3)[:, 1:]\n            unstruct = subsurface.UnstructuredData.from_array(\n                vertex=unstruct_pyvista.points,\n                cells=cells_pyvista,\n                cells_attr=pd.DataFrame(cell_data)\n            )\n            line = LineSet(data=unstruct)\n            lines.append(to_pyvista_line(line, radius=100, as_tube=True, spline=False))\n\n# Export to desired format here if necessary"
      ]
    },
    {
      "cell_type": "markdown",
      "metadata": {},
      "source": [
        "## Visualize Unstructured Data\n\nVisualize the unstructured data using Subsurface and PyVista.\n\n"
      ]
    },
    {
      "cell_type": "code",
      "execution_count": null,
      "metadata": {
        "collapsed": false
      },
      "outputs": [],
      "source": [
        "plotter = init_plotter()\n\nfor mesh in meshes:\n    plotter.add_mesh(mesh, cmap=\"magma\", opacity=0.7)\n\nfor line in lines:\n    plotter.add_mesh(line, cmap=\"viridis\", opacity=1)\n\nplotter.show()"
      ]
    }
  ],
  "metadata": {
    "kernelspec": {
      "display_name": "Python 3",
      "language": "python",
      "name": "python3"
    },
    "language_info": {
      "codemirror_mode": {
        "name": "ipython",
        "version": 3
      },
      "file_extension": ".py",
      "mimetype": "text/x-python",
      "name": "python",
      "nbconvert_exporter": "python",
      "pygments_lexer": "ipython3",
      "version": "3.10.12"
    }
  },
  "nbformat": 4,
  "nbformat_minor": 0
}