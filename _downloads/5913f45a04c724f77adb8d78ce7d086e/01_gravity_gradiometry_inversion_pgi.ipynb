{
  "cells": [
    {
      "cell_type": "code",
      "execution_count": null,
      "metadata": {
        "collapsed": false
      },
      "outputs": [],
      "source": [
        "%matplotlib inline\nfrom pyvista import set_plot_theme\nset_plot_theme('document')"
      ]
    },
    {
      "cell_type": "markdown",
      "metadata": {},
      "source": [
        "\n# Inversion of Gravity Gradiometry Data on a Tree Mesh\n\nWe use the PGI module within SimPEG to invert gravity gradiometry data on a Tree Mesh. This tutorial focusses on:\n\n    - How to define all the necessary components\n    - How to initialize the Gaussian Mixture Model Prior\n    - How to set the parameters\n    - How to plot the results\n"
      ]
    },
    {
      "cell_type": "markdown",
      "metadata": {},
      "source": [
        "## Import Modules\n\n"
      ]
    },
    {
      "cell_type": "code",
      "execution_count": null,
      "metadata": {
        "collapsed": false
      },
      "outputs": [],
      "source": [
        "import discretize as ds\nimport SimPEG.potential_fields as pf\nfrom SimPEG import (\n    maps,\n    data,\n    utils,\n    simulation,\n    inverse_problem,\n    inversion,\n    optimization,\n    regularization,\n    data_misfit,\n    directives,\n)\nfrom SimPEG.utils import io_utils\nimport numpy as np\nimport pandas as pd\nimport scipy.interpolate as interp\nimport matplotlib as mpl\nimport matplotlib.pyplot as plt\nimport math as math\n\nfrom dotenv import dotenv_values\nfrom mpl_toolkits.axes_grid1.inset_locator import inset_axes\n\nfrom discretize.utils import mkvc, refine_tree_xyz, active_from_xyz\nfrom discretize import TensorMesh, TreeMesh\nfrom SimPEG.utils import plot2Ddata, model_builder, surface2ind_topo\nfrom SimPEG import maps\nfrom SimPEG.potential_fields import magnetics as mag\nfrom SimPEG.potential_fields import gravity as grav\nimport os\nimport shutil\nfrom vector_geology import SimpegHelper as SH\n\n#from get_cpt import get_cmap\n\n# Plot beautification\n\nformatter = mpl.ticker.ScalarFormatter(useMathText=True)\nformatter.set_scientific(True)\nformatter.set_powerlimits((0,0))\n\nmpl.rc(\"axes\", titlesize=14, labelsize=12)\nmpl.rc(\"xtick\", labelsize=12)\nmpl.rc(\"ytick\", labelsize=12)\n\n# Reproducible science\nnp.random.seed(518936)"
      ]
    },
    {
      "cell_type": "markdown",
      "metadata": {},
      "source": [
        "Create directories for the model iterations and output\n\n"
      ]
    },
    {
      "cell_type": "code",
      "execution_count": null,
      "metadata": {
        "collapsed": false
      },
      "outputs": [],
      "source": [
        "# Name of the model\nname = \"Ireland_FTG_NonNeg\"\n# Names for the directories for the model iterations and output\npath_to_mod_iterations = \"./\" + str(name) + \"/Model Iterations\"\npath_to_output = \"./\" + str(name) + \"/Output\"\n\n# Check if the model iterations directory exists and remove it if it does\nif os.path.exists(path_to_mod_iterations):\n    shutil.rmtree(path_to_mod_iterations)\n\n# Create the model iterations directory.\nos.makedirs(path_to_mod_iterations)\n\n# Check if the output directory exists and remove it if it does\nif os.path.exists(path_to_output):\n    shutil.rmtree(path_to_output)\n\n# Create the output directory.\nos.makedirs(path_to_output)"
      ]
    },
    {
      "cell_type": "markdown",
      "metadata": {},
      "source": [
        "Load the data\nRead gravity and magnetic data from a csv file.\nInputs:\nfile_path: The path to the csv file.\nheader: Whether or not the csv file has a header row.\n\n"
      ]
    },
    {
      "cell_type": "code",
      "execution_count": null,
      "metadata": {
        "collapsed": false
      },
      "outputs": [],
      "source": [
        "config = dotenv_values()\nfile_path = config.get(\"PATH_TO_GRADIOMETRY\")\n\nheader = None\n\n# Read the csv file into a pandas dataframe and then convert it to a numpy array.\nFTG_Data = pd.read_csv(file_path, delimiter=\",\").to_numpy()\n\n# Add Topography\nFTG_Data = np.c_[FTG_Data, np.zeros(np.shape(FTG_Data)[0])]\nFTG_Data[:,[2, -1]] = FTG_Data[:,[-1, 2]]\n\n# Format after adding topography\n# X, Y, Z, Tyy, Txz, Tyz, Txy, Txx\n\n\n## %\n## Resample the data\n# The ``SimpegHelper.pf_rs()`` will take in potential field data and resample it onto a new regular grid"
      ]
    },
    {
      "cell_type": "markdown",
      "metadata": {},
      "source": [
        "New sampling interval (Data Units)\n\n"
      ]
    },
    {
      "cell_type": "code",
      "execution_count": null,
      "metadata": {
        "collapsed": false
      },
      "outputs": [],
      "source": [
        "inc = 200\n\n# Resample the data\n[grav_new, nx_new, ny_new] = SH.pf_rs(FTG_Data, inc)\n\n# Extract the gravity gradiometry data vectors\ngrav_vec = grav_new[:,3:]\n\n# Negate the gravity data to the opposite sign to match the coordinate system.\n# NOTE: This step is necessary for real data since the convention followed by\n# the SimPEG forward operator gravity lows over density highs.\n# grav_vec = -grav_vec\n\n# Extract the topography for the active cells.\ninv_topo = grav_new[:,[0,1,2]]\n\n\n## Visualize the data\n\n#The ``SimpegHelper.plot_2D_data()`` function will plot the datasets using ``matplotlib``."
      ]
    },
    {
      "cell_type": "markdown",
      "metadata": {},
      "source": [
        "Plot Gravity Data\n\n"
      ]
    },
    {
      "cell_type": "code",
      "execution_count": null,
      "metadata": {
        "collapsed": false
      },
      "outputs": [],
      "source": [
        "SH.plot_2D_data(np.c_[grav_new[:,[0,1,2]], grav_vec[:,-1]], [np.nanmin(grav_vec[:,-1]), np.nanmax(grav_vec[:,-1])], cmap=\"jet\", path_to_output=path_to_output, name=name)\n\n# Plot Topography Data\n# SH.plot_2D_data(np.c_[inv_topo[:,[0,1,2]], inv_topo[:,2]], [np.nanmin(inv_topo[:,2]), np.nanmax(inv_topo[:,2])], which_data=\"Topo\", cmap=\"magma\", path_to_output=path_to_output, name=name)"
      ]
    },
    {
      "cell_type": "markdown",
      "metadata": {},
      "source": [
        "# Create a TreeMesh object to invert the data\n\n"
      ]
    },
    {
      "cell_type": "code",
      "execution_count": null,
      "metadata": {
        "collapsed": false
      },
      "outputs": [],
      "source": [
        "# Using the ``discretize.TreeMesh`` utility, create a 3D TreeMesh to invert the gravity gradiometry data."
      ]
    },
    {
      "cell_type": "code",
      "execution_count": null,
      "metadata": {
        "collapsed": false
      },
      "outputs": [],
      "source": [
        "dx = inc\ndy = inc\ndz = 10\nnz_core = 1\nnz_pad = 20\nfact = 1.1\n\n# Set the cell sizes to a constant value in the x and y directions and expanding in the z direction.\ninv_hx = dx * np.ones(nx_new)\ninv_hy = dy * np.ones(ny_new)\ninv_hz = [(dz, nz_pad, -fact), (dz, nz_core), (dz, nz_pad, fact)]\n\n# Create the inverse tensor mesh.\ninv_mesh = ds.TensorMesh([inv_hx, inv_hy, inv_hz], x0=[np.min(inv_topo[:,0]), np.min(inv_topo[:,1]), \"C\"])\n\n# Drape the topography over the mesh\nactv = active_from_xyz(inv_mesh, inv_topo)\nndv = np.nan\nactvMap = maps.InjectActiveCells(inv_mesh, actv, ndv)\nnactv = int(actv.sum())\n\n# Make an x-y grid with the mesh cell centers\n# xygrid = np.meshgrid(inv_mesh.cell_centers_x, inv_mesh.cell_centers_y)\n# xygrid = np.reshape(xygrid, (2,-1)).T\n\n# Region Active Array (bool array with the spatial extent of the data)\n# RegActvArr = np.empty((len(xygrid)), dtype=bool)\n\n# for i in range(len(xygrid)):\n#     Dist = np.sqrt(np.sum((inv_topo[:, [0, 1]] - xygrid[i,:])**2, axis=1))\n#     MinDist = np.min(Dist)\n#     RegActvArr[i] = MinDist < 50\n\n# Repeating the regional active array for every z (since we only carried out the calculations for x-y, which can be replicated in z)\n# RegActvArr = np.tile(RegActvArr, len(inv_mesh.cell_centers_z))\n\n# Intersection between Topo active cells and spatial active cells (nactv and actvMap are also updated)\nactv = actv\nnactv = int(actv.sum())\nactvMap = maps.InjectActiveCells(inv_mesh, actv, ndv)"
      ]
    },
    {
      "cell_type": "code",
      "execution_count": null,
      "metadata": {
        "collapsed": false
      },
      "outputs": [],
      "source": [
        "inv_mesh"
      ]
    },
    {
      "cell_type": "markdown",
      "metadata": {},
      "source": [
        "# Visualize the mesh\n\n"
      ]
    },
    {
      "cell_type": "code",
      "execution_count": null,
      "metadata": {
        "collapsed": false
      },
      "outputs": [],
      "source": [
        "#The ``discretize.TreeMesh.plot_slice()`` utility will plot a slice of thee Tree Mesh object generated above."
      ]
    },
    {
      "cell_type": "markdown",
      "metadata": {},
      "source": [
        "Plotting a mesh slice\nCreate a background model.\n\n"
      ]
    },
    {
      "cell_type": "code",
      "execution_count": null,
      "metadata": {
        "collapsed": false
      },
      "outputs": [],
      "source": [
        "bg = np.ones(nactv)\nmod = actvMap * bg\n\n# Define the tensor mesh parameters.\nprops = dict(boxstyle='round,pad=1', facecolor='white')\n\n# Plot the mesh slice.\nfig = plt.figure(figsize=(6, 6))\nax = fig.add_axes([0.1, 0.1, 0.8, 0.8])\ncplot = inv_mesh.plot_slice(mod, grid=False, ax=ax, normal=\"Y\", ind=22)\nax.set_title('Tensor Mesh Slice')\nax.set_xlabel('x (m)')\nax.set_ylabel('y (m)')\nax.ticklabel_format(axis=\"both\")\nax.set_aspect('equal')\nplt.savefig(path_to_output + \"/\" + name + \"_TreeMeshSlice.pdf\", bbox_inches=\"tight\")\nplt.show()"
      ]
    },
    {
      "cell_type": "markdown",
      "metadata": {},
      "source": [
        "# Set up the gravity inverse problem\n%%\n Create wires for the density model\n\n"
      ]
    },
    {
      "cell_type": "code",
      "execution_count": null,
      "metadata": {
        "collapsed": false
      },
      "outputs": [],
      "source": [
        "wires = maps.Wires((\"density\", nactv))\n\n# Create a Density Mapping\ndensity_map = actvMap * wires.density\n# Create Identity Mapping\nidentity_map = maps.IdentityMap(nP=nactv)\n\n# Components of the data used as input\ngravity_components = [\"gyy\", \"gxz\", \"gyz\", \"gxy\", \"gxx\"]\n\n# Receiver locations\ngravity_receiver_locations = grav_new[:, [0, 1, 2]]\n\n# Create a gravity receiver list\ngravity_receivers = pf.gravity.receivers.Point(gravity_receiver_locations, components=gravity_components)\ngravity_receiver_list = [gravity_receivers]\n\n# Create a gravity source field\ngravity_source_field = pf.gravity.sources.SourceField(receiver_list=gravity_receiver_list)\n\n# Define the gravity survey\ngravity_survey = pf.gravity.survey.Survey(gravity_source_field)\n\n# Set up the gravity simulation problem\ngravity_problem = grav.simulation.Simulation3DIntegral(\n    inv_mesh,\n    survey=gravity_survey,\n    rhoMap=wires.density,\n    ind_active=actv\n)\n\n# Define uncertainties\n# Maximum value of each component\n# max_gravity = np.max(np.abs(grav_vec), axis=0)\n# Standard deviation of each component\n# std_gravity = 0.05 * max_gravity\n# std_gravity = np.ones(np.shape(grav_vec)) * std_gravity\n\n# Create a gravity data object\ngravity_data = data.Data(gravity_survey, dobs=grav_vec.flatten(), noise_floor=5, relative_error=0.1)\n\n# Define the misfits associated with the gravity data\ngravity_misfit = data_misfit.L2DataMisfit(data=gravity_data, simulation=gravity_problem)"
      ]
    },
    {
      "cell_type": "markdown",
      "metadata": {},
      "source": [
        "# Set up the Gaussian Mixture Model (GMM) Prior\n%%\n Defining the Gaussian Mixture Model (GMM)\n Number of rock units and number of physical properties\n\n"
      ]
    },
    {
      "cell_type": "code",
      "execution_count": null,
      "metadata": {
        "collapsed": false
      },
      "outputs": [],
      "source": [
        "num_rock_units = 5\nnum_physical_props = 1\n\n# Create a weighted Gaussian mixture model with specified parameters\ngmmref = utils.WeightedGaussianMixture(\n    n_components=num_rock_units,\n    mesh=inv_mesh,\n    actv=actv,\n    covariance_type=\"full\",\n)\n\n# Set the background density\nbackground_density = 0.0\n\n# Initialize the GMM fit with random samples, mesh size, and number of physical properties\ngmmref.fit(np.random.randn(nactv, num_physical_props))\n\n# Set the mean values of physical property contrasts for each rock unit\n# One value (density) for each rock unit\ngmmref.means_ = np.c_[\n    [-0.4],\n    [-0.2],\n    [0.0],\n    [0.2],\n    [0.4],\n].T\n\n# Set the original variance for density\ndensity_variance = 8e-5\n\n# Set the covariances of physical properties for each rock unit\ngmmref.covariances_ = np.array(\n    [\n        [[density_variance]],\n        [[density_variance]],\n        [[density_variance]],\n        [[density_variance]],\n        [[density_variance]]\n    ]\n)\n\n# Compute the precision (inverse covariance) of each cluster\ngmmref.compute_clusters_precisions()\n\n# Set the weights for each rock unit\ngmmref.weights_ = np.ones((nactv, 1)) * np.c_[0.125, 0.125, 0.5, 0.125, 0.125]"
      ]
    },
    {
      "cell_type": "markdown",
      "metadata": {},
      "source": [
        "GMM Parameters\n\n"
      ]
    },
    {
      "cell_type": "code",
      "execution_count": null,
      "metadata": {
        "collapsed": false
      },
      "outputs": [],
      "source": [
        "means_init = gmmref.means_.flatten()\ncovariances_init = gmmref.covariances_.flatten()\nweights_init = gmmref.weights_[0].flatten()\n\n# Plot the 1D GMM\nfig = plt.figure(figsize=(6, 6))\nax = gmmref.plot_pdf(flag2d=False, plotting_precision=1000, padding=0.2)\nax[0].set_xlabel(r\"Density Contrast (g/cc)\")\nax[0].set_ylabel(r\"Probability Density Values\")\nax[0].get_legend().remove()\nax[0].set_title(r\"Initial DelRho Distribution\")\nax[0].ticklabel_format(axis=\"both\", style=\"scientific\", scilimits=(0, 0))\nax[0].set_aspect(1/20)\nplt.savefig(path_to_output + \"/\" + name + \"_Init_GMM.pdf\", bbox_inches=\"tight\")\nplt.show()"
      ]
    },
    {
      "cell_type": "markdown",
      "metadata": {},
      "source": [
        "# Define the inversion parameters\n%%\n Initial Model\n\n"
      ]
    },
    {
      "cell_type": "code",
      "execution_count": null,
      "metadata": {
        "collapsed": false
      },
      "outputs": [],
      "source": [
        "initial_model = np.r_[background_density * np.ones(actvMap.nP)]\n\n# Sensitivity weighting\n# Compute the sensitivity weights for each cell based on the gravity problem's sensitivity matrix (G)\n# This is done by computing the square root of the sum of the squared elements of G for each cell,\n# and then normalizing by the cell volumes and the maximum weight value.\nsensitivity_weights_gravity = np.sum(gravity_problem.G ** 2.0, axis=0) ** 0.5 / (inv_mesh.cell_volumes[actv])\nsensitivity_weights_gravity = sensitivity_weights_gravity / np.nanmax(sensitivity_weights_gravity)\n\n# Regularization multipliers\nsmallness_multiplier = 1e-4\nsmoothness_x_multiplier = 1e-1\nsmoothness_y_multiplier = 1e-1\nsmoothness_z_multiplier = 1e-1\n\n# Create joint PGI regularization with smoothness\nregularization_term = regularization.PGI(\n    gmmref=gmmref,\n    mesh=inv_mesh,\n    wiresmap=wires,\n    maplist=[identity_map],\n    active_cells=actv,\n    alpha_pgi=smallness_multiplier,\n    alpha_x=smoothness_x_multiplier,\n    alpha_y=smoothness_y_multiplier,\n    alpha_z=smoothness_z_multiplier,\n    alpha_xx=0.0,\n    alpha_yy=0.0,\n    alpha_zz=0.0,\n    weights_list=[sensitivity_weights_gravity]\n)\n\n# Directives for inversion\n# Define the directives for the inversion process, based on Astic et al., (2021)\n\n# Estimate smoothness multipliers\nalphas_directive = directives.AlphasSmoothEstimate_ByEig(verbose=True)\n\n# Initialize beta and beta/alpha_s schedule\nbeta_directive = directives.BetaEstimate_ByEig(beta0_ratio=1e-2)\nbeta_schedule = directives.PGI_BetaAlphaSchedule(\n    coolingFactor=16.0,\n    tolerance=0.2,\n    progress=0.2,\n    verbose=True,\n)\n\n# Define target misfits for geophysical and petrophysical data\ntarget_misfits = directives.MultiTargetMisfits(verbose=True)\n\n# Add reference model once stable\nmref_in_smooth = directives.PGI_AddMrefInSmooth(wait_till_stable=True, verbose=True)\n\n# Update smallness parameters, keeping GMM fixed (L2 Approx of PGI)\nupdate_smallness_directive = directives.PGI_UpdateParameters(\n    update_gmm=True,\n    kappa = 0,\n    nu = 0.5,\n    zeta = 0\n)\n\n# Update preconditioner\nupdate_preconditioner = directives.UpdatePreconditioner()\n\n# Save iteration results\nsave_iteration_directive = directives.SaveOutputEveryIteration(name=name, directory=path_to_output)\n\n# Save model iterations\nsave_model_directive = directives.SaveModelEveryIteration(name=name, directory=path_to_mod_iterations)\n\n# Optimization options for the inversion\nlower_bound = np.r_[-1 * np.ones(actvMap.nP)]\nupper_bound = np.r_[1 * np.ones(actvMap.nP)]\noptimizer = optimization.ProjectedGNCG(\n    maxIter=20,\n    lower=lower_bound,\n    upper=upper_bound,\n    maxIterLS=20,\n    maxIterCG=100,\n    tolCG=1e-4,\n)\n\n# Inverse problem setup\ninverse_prob = inverse_problem.BaseInvProblem(gravity_misfit, regularization_term, optimizer)\ninversion_algo = inversion.BaseInversion(\n    inverse_prob,\n    directiveList=[\n        alphas_directive,\n        beta_directive,\n        update_smallness_directive,\n        target_misfits,\n        beta_schedule,\n        mref_in_smooth,\n        update_preconditioner,\n        save_iteration_directive,\n        save_model_directive\n    ],\n)"
      ]
    },
    {
      "cell_type": "markdown",
      "metadata": {},
      "source": [
        "# Run the Inversion!\n%%\n Run the inversion\n\n"
      ]
    },
    {
      "cell_type": "code",
      "execution_count": null,
      "metadata": {
        "collapsed": false
      },
      "outputs": [],
      "source": [
        "inverted_model = inversion_algo.run(initial_model)"
      ]
    },
    {
      "cell_type": "code",
      "execution_count": null,
      "metadata": {
        "collapsed": false
      },
      "outputs": [],
      "source": [
        "set = 1\nsave_plots = True\n\n# Indices of the depth sections\nind_plot_x = int(len(inv_mesh.cell_centers_x)/6) + 10\nind_plot_y = int(len(inv_mesh.cell_centers_y)/2)\nind_plot_z = int(len(inv_mesh.cell_centers_z)/2) - 17\n\nind_plot = [ind_plot_x, ind_plot_y, ind_plot_z]\n\n# Extract the results\ninverted_density_model = density_map * inverted_model\nquasi_geology_model = actvMap * regularization_term.objfcts[0].compute_quasi_geology_model()\n\n# Plot Density Contrast Model (Z)\nnormal = \"Z\"\nmodel_to_plot = inverted_density_model\nSH.plot_model_slice(inv_mesh, actv, model_to_plot, normal, ind_plot, [-1, 1], set, sec_loc=True, gdlines=True, which_prop=\"Den\", cmap=\"Spectral\", save_plt=save_plots, path_to_output=path_to_output, name=name)\n\n# Plot Inverted Model Slices (Y)\nnormal = \"X\"\nmodel_to_plot = inverted_density_model\nSH.plot_model_slice(inv_mesh, actv, model_to_plot, normal, ind_plot, [-1, 1], set, sec_loc=True, gdlines=True, which_prop=\"Den\", cmap=\"Spectral\", save_plt=save_plots, path_to_output=path_to_output, name=name)\n\n# Plot Inverted Model Slices (X)\nnormal = \"Y\"\nmodel_to_plot = inverted_density_model\nSH.plot_model_slice(inv_mesh, actv, model_to_plot, normal, ind_plot, [-1, 1], set, sec_loc=True, gdlines=True, which_prop=\"Den\", cmap=\"Spectral\", save_plt=save_plots, path_to_output=path_to_output, name=name)"
      ]
    },
    {
      "cell_type": "markdown",
      "metadata": {},
      "source": [
        "Updated GMM Parameters\n\n"
      ]
    },
    {
      "cell_type": "code",
      "execution_count": null,
      "metadata": {
        "collapsed": false
      },
      "outputs": [],
      "source": [
        "learned_mu = regularization_term.objfcts[0].gmm.means_.flatten()\nlearned_sigma = regularization_term.objfcts[0].gmm.covariances_.flatten()\nlearned_pi = regularization_term.objfcts[0].gmm.weights_[0].flatten()\n\n# Regularization Parameters\nfinal_alpha_pgi = regularization_term.alpha_pgi\n\n# Plot the learned GMM\nfig = plt.figure(figsize=(6,6))\nax = regularization_term.objfcts[0].gmm.plot_pdf(flag2d=False, plotting_precision=500, padding=0.5)\nax[0].hist(inverted_density_model[actv], density=True, bins=1000)\nax[0].set_xlabel(r\"Density contrast (g/cc)\")\nax[0].set_ylabel(r\"Probability Density Values\")\nax[0].get_legend().remove()\nax[0].set_title(r\"Learned DelRho Distribution\")\nax[0].ticklabel_format(axis=\"both\", style=\"scientific\", scilimits=(0, 0))\nplt.savefig(path_to_output + \"/\" + name + \"_Learned_GMM.pdf\", bbox_inches=\"tight\")\nplt.show()"
      ]
    },
    {
      "cell_type": "markdown",
      "metadata": {},
      "source": [
        "sphinx_gallery_thumbnail_number = -4\n"
      ]
    }
  ],
  "metadata": {
    "kernelspec": {
      "display_name": "Python 3",
      "language": "python",
      "name": "python3"
    },
    "language_info": {
      "codemirror_mode": {
        "name": "ipython",
        "version": 3
      },
      "file_extension": ".py",
      "mimetype": "text/x-python",
      "name": "python",
      "nbconvert_exporter": "python",
      "pygments_lexer": "ipython3",
      "version": "3.10.12"
    }
  },
  "nbformat": 4,
  "nbformat_minor": 0
}