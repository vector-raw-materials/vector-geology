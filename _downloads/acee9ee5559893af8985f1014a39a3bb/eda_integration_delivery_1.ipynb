{
  "cells": [
    {
      "cell_type": "code",
      "execution_count": null,
      "metadata": {
        "collapsed": false
      },
      "outputs": [],
      "source": [
        "%matplotlib inline\nfrom pyvista import set_plot_theme\nset_plot_theme('document')"
      ]
    },
    {
      "cell_type": "markdown",
      "metadata": {},
      "source": [
        "\n# Modelling and Propagation of Legacy Petrophysical Data for Mining Exploration (1/3)\n**Exploratory Data Analysis and Data Integration**\n\nBarcelona 25/09/24\nGEO3BCN\nManuel David Soto, Juan Alcalde, Adri\u00e0 Hern\u00e0ndez-Pineda, Ram\u00f3n Carbonel\n"
      ]
    },
    {
      "cell_type": "code",
      "execution_count": null,
      "metadata": {
        "collapsed": false
      },
      "outputs": [],
      "source": [
        "import os\nimport dotenv\nimport numpy as np\nimport pandas as pd\nimport matplotlib.pyplot as plt\nimport seaborn as sns\nimport plotly.graph_objects as go\nfrom plotly.subplots import make_subplots\n# PEL - Filtering\nfrom scipy.signal import butter, filtfilt\n\n# Custom Libraries (_aux)\nfrom _aux import basic_stat\nfrom _aux import geo\n\n# sphinx_gallery_thumbnail_number = 19"
      ]
    },
    {
      "cell_type": "markdown",
      "metadata": {},
      "source": [
        "## Introduction\nThe dispersion and scarcity of petrophysical data are well-known challenges in the mining sector. These issues are primarily driven by economic factors, but also by geological (such as sedimentary cover, weathering, erosion, or the depth of targets), geotechnical (e.g., slope or borehole stability), and technical limitations that have been addressed in other industries.\n\nTo tackle the challenges associated with sparse and incomplete petrophysical data, we developed three Jupyter Notebooks that make use of open-source Python tools. These tools assist researchers in the exploration, visualization, and integration of data from diverse sources, ultimately enabling the complete modeling (including ML-based models) of missing properties. The tools were applied to both recently acquired and legacy data from two holes in Collinstown, Ireland.\n\nThis first notebook primarily focuses on the Exploratory Data Analysis (EDA) of a new petrophysical dataset resulting from measurements on two keyholes:\n\n- TC 1319 008\n- TC 3660 005\n\nThree other datasets were integrated into the petrophysical dataset:\n\n- New stratigraphic logging of the same keyholes, providing information on formations, photos, and observations.\n- Legacy data including whole rock geochemistry, XRF, magnetic susceptibility, and GR log.\n- Vp data from the Passive Seismic Survey.\n\n"
      ]
    },
    {
      "cell_type": "markdown",
      "metadata": {},
      "source": [
        "## Variables\nThe new petrophysical data were collected using various devices and methodologies described in the \"New petrophysical data collected at site 2\" document, and saved in `collinstown_petrophys.csv`. This file contains 17 columns and 329 rows. The following variables (3 objects/text, 8 numeric) are primarily for reference or location:\n\n+---------------+-----------+-----------------------------------+---------+\n| Name          | New Name  | Explanation                       | Unit    |\n+===============+===========+===================================+=========+\n| HoleID        | Hole      | Hole identification               | -       |\n+---------------+-----------+-----------------------------------+---------+\n| Easting       | X         | Easting coordinate                | m       |\n+---------------+-----------+-----------------------------------+---------+\n| Northing      | Y         | Northing coordinate               | m       |\n+---------------+-----------+-----------------------------------+---------+\n| RL            | RL        | -                                 | -       |\n+---------------+-----------+-----------------------------------+---------+\n| Azimuth       | Azi       | Hole azimuth                      | degree  |\n+---------------+-----------+-----------------------------------+---------+\n| Dip           | Dip       | Hole deviation                    | degree  |\n+---------------+-----------+-----------------------------------+---------+\n| SampleNo      | Sample    | Sample number                     | -       |\n+---------------+-----------+-----------------------------------+---------+\n| From          | From      | Top of the sample                 | m       |\n+---------------+-----------+-----------------------------------+---------+\n| To            | To        | Base of the sample                | m       |\n+---------------+-----------+-----------------------------------+---------+\n| Length        | Len       | Length                            | cm      |\n+---------------+-----------+-----------------------------------+---------+\n| Observations  | Obs       | Observations on the sample        | -       |\n+---------------+-----------+-----------------------------------+---------+\n\nThe following numerical variables are potential candidates for modeling:\n\n+----------------+-----------+-----------------------------------+---------+\n| Name           | New Name  | Explanation                       | Unit    |\n+================+===========+===================================+=========+\n| From           | From      | Top of the sample                 | m       |\n+----------------+-----------+-----------------------------------+---------+\n| Density        | Den       | Density                           | g/cm\u00b3   |\n+----------------+-----------+-----------------------------------+---------+\n| Vp             | Vp        | Compressional velocity            | m/s     |\n+----------------+-----------+-----------------------------------+---------+\n| Vs             | Vs        | Shear velocity                    | m/s     |\n+----------------+-----------+-----------------------------------+---------+\n| Xm             | Mag       | Magnetic susceptibility           | -       |\n+----------------+-----------+-----------------------------------+---------+\n| Mx             | Ip        | Chargeability                     | mv/V    |\n+----------------+-----------+-----------------------------------+---------+\n| R              | Res       | Resistivity                       | ohm\u00b7m   |\n+----------------+-----------+-----------------------------------+---------+\n| Formation Major| Form      | Major formations along hole       | -       |\n+----------------+-----------+-----------------------------------+---------+\n\n"
      ]
    },
    {
      "cell_type": "markdown",
      "metadata": {},
      "source": [
        "## Libraries\nThe following are the Python libraries used throughout this notebook:\n\n- **PSL**: Python Standard Libraries\n\n- **_aux**: User Defined Libraries\n\n- **PEL**: Python External Libraries\n\n"
      ]
    },
    {
      "cell_type": "markdown",
      "metadata": {},
      "source": [
        "## Data Loading\nTen 'blank' entries in the original file were deleted and saved in a new file, `collinstown_petrophys_no_blanc.csv`. In this way, cells with 'blank' are now set to NaN in their corresponding positions.\n\n"
      ]
    },
    {
      "cell_type": "code",
      "execution_count": null,
      "metadata": {
        "collapsed": false
      },
      "outputs": [],
      "source": [
        "# Load data\ndotenv.load_dotenv()\nbase_path = os.getenv(\"PATH_TO_COLLINSTOWN_PETRO\")\nblanc_xlsx = f'{base_path}/collinstown_petrophys_no_blanc.xlsx'\ndf = pd.read_excel(blanc_xlsx)\ndf.head()"
      ]
    },
    {
      "cell_type": "markdown",
      "metadata": {},
      "source": [
        "Columns in the file\n\n"
      ]
    },
    {
      "cell_type": "code",
      "execution_count": null,
      "metadata": {
        "collapsed": false
      },
      "outputs": [],
      "source": [
        "df.columns"
      ]
    },
    {
      "cell_type": "markdown",
      "metadata": {},
      "source": [
        "Rename columns for better readability\n\n"
      ]
    },
    {
      "cell_type": "code",
      "execution_count": null,
      "metadata": {
        "collapsed": false
      },
      "outputs": [],
      "source": [
        "df = df.rename(\n    columns={\n            'HoleID'        : 'Hole',\n            'Easting'       : 'X',\n            'Northing'      : 'Y',\n            'Azimuth'       : 'Azi',\n            'SampleNo'      : 'Sample',\n            'From(m)'       : 'From',\n            'To(m)'         : 'To',\n            'lenght(cm)'    : 'Len',\n            'Density(g/cm3)': 'Den',\n            'Vp(m/s)'       : 'Vp',\n            'Vs(m/s)'       : 'Vs',\n            'Xm(e-3)'       : 'Mag',\n            'Mx(mv/V)'      : 'Ip',\n            'R(ohm\u00c2\u00b7m)'     : 'Res',\n            'Observations'  : 'Obs',\n            'Formation'     : 'Form'\n    }\n)\ndf.head()"
      ]
    },
    {
      "cell_type": "markdown",
      "metadata": {},
      "source": [
        "Columns in the file\n\n"
      ]
    },
    {
      "cell_type": "code",
      "execution_count": null,
      "metadata": {
        "collapsed": false
      },
      "outputs": [],
      "source": [
        "df.columns"
      ]
    },
    {
      "cell_type": "code",
      "execution_count": null,
      "metadata": {
        "collapsed": false
      },
      "outputs": [],
      "source": [
        "df.describe()"
      ]
    },
    {
      "cell_type": "markdown",
      "metadata": {},
      "source": [
        "The keyholes are\n\n"
      ]
    },
    {
      "cell_type": "code",
      "execution_count": null,
      "metadata": {
        "collapsed": false
      },
      "outputs": [],
      "source": [
        "df.Hole.unique()"
      ]
    },
    {
      "cell_type": "markdown",
      "metadata": {},
      "source": [
        "## Data General Description\nAmong the variables in the dataset we have 4 texts (object) and 14 numeric variables (int64 and float64). The general behavior of the numerical variables can be seen in the following tables and graphs. Stand out the important anomaly in Mag, as well as the numerous missing values (NaN) in Vp, Vs, Ip, and Res:\n\n"
      ]
    },
    {
      "cell_type": "markdown",
      "metadata": {},
      "source": [
        "Type of data in the dataset\n\n"
      ]
    },
    {
      "cell_type": "code",
      "execution_count": null,
      "metadata": {
        "collapsed": false
      },
      "outputs": [],
      "source": [
        "df.info()"
      ]
    },
    {
      "cell_type": "markdown",
      "metadata": {},
      "source": [
        "NaN in Len\n\n"
      ]
    },
    {
      "cell_type": "code",
      "execution_count": null,
      "metadata": {
        "collapsed": false
      },
      "outputs": [],
      "source": [
        "print('NaNs in Len:', 329 - 321)"
      ]
    },
    {
      "cell_type": "markdown",
      "metadata": {},
      "source": [
        "Main statistical parameters of the variables\n\n"
      ]
    },
    {
      "cell_type": "code",
      "execution_count": null,
      "metadata": {
        "collapsed": false
      },
      "outputs": [],
      "source": [
        "df.describe()"
      ]
    },
    {
      "cell_type": "markdown",
      "metadata": {},
      "source": [
        "All numerical variables in line plots, the x axis is just the position in the file.\n\n"
      ]
    },
    {
      "cell_type": "code",
      "execution_count": null,
      "metadata": {
        "collapsed": false
      },
      "outputs": [],
      "source": [
        "df.plot(figsize=(17, 14), subplots=True)\nplt.tight_layout()\n# plt.savefig('Output/lines.png')\nplt.show()"
      ]
    },
    {
      "cell_type": "markdown",
      "metadata": {},
      "source": [
        "## Null Values (NaN) in the Variables\nAs can be seen in the previous cells and plots, most of the NaN are in Vp, Vs, Ip, and Re. Obs, a text variable, has also a lot (77.8%) of NaNs.\n\n"
      ]
    },
    {
      "cell_type": "markdown",
      "metadata": {},
      "source": [
        "% of NaN in all variables\n\n"
      ]
    },
    {
      "cell_type": "code",
      "execution_count": null,
      "metadata": {
        "collapsed": false
      },
      "outputs": [],
      "source": [
        "print('% of NaN in all variables:')\ndf.isna().sum()*100/len(df)"
      ]
    },
    {
      "cell_type": "markdown",
      "metadata": {},
      "source": [
        "Plot of the number of NaN in the numerical variables\n\n"
      ]
    },
    {
      "cell_type": "code",
      "execution_count": null,
      "metadata": {
        "collapsed": false
      },
      "outputs": [],
      "source": [
        "df.select_dtypes(include=['number']).isna().sum().plot.bar(figsize=(7, 4), ylabel='Count', edgecolor='k', color='skyblue', title='All Variables NaN', zorder=2)\nplt.grid(zorder=1)\nplt.show()"
      ]
    },
    {
      "cell_type": "markdown",
      "metadata": {},
      "source": [
        "## Reference Variables\nNot all numerical variables are suitable for modeling. In addition to the text variables (Hole, Sample, Obs, Form), X, Y, RL, Azi, Dip, From, To, and Len are reference or location variables. Among these, `Len` represents the length of the cores used for measurements, with an average length of 10.2 cm.\n\n"
      ]
    },
    {
      "cell_type": "code",
      "execution_count": null,
      "metadata": {
        "collapsed": false
      },
      "outputs": [],
      "source": [
        "# Plot core length histogram\ndf.Len.plot.hist(figsize=(6, 5), subplots=True, bins=40, edgecolor='k', color='skyblue', zorder=2)\nplt.grid(zorder=1)\nplt.xlabel('Core Length (cm)')\nplt.show()"
      ]
    },
    {
      "cell_type": "markdown",
      "metadata": {},
      "source": [
        "Core length influence on density\n\n"
      ]
    },
    {
      "cell_type": "code",
      "execution_count": null,
      "metadata": {
        "collapsed": false
      },
      "outputs": [],
      "source": [
        "plt.figure(figsize=(11, 8))\n\nplt.subplot(221)\nplt.scatter(df.Len[df.Hole == 'TC-1319-005'], df.Den[df.Hole == 'TC-1319-005'], edgecolor='k', color='skyblue', zorder=2)\nplt.grid(zorder=1)\nplt.xlabel('Core Length (cm)')\nplt.ylabel('Density (g/cm\u00b3)')\nplt.axis([8, 16, 2, 5.5])\nplt.title('Hole TC-1319-005')\n\nplt.subplot(222)\nplt.scatter(df.Len[df.Hole == 'TC-3660-008'], df.Den[df.Hole == 'TC-3660-008'], edgecolor='k', color='skyblue', zorder=2)\nplt.grid(zorder=1)\nplt.xlabel('Core Length (cm)')\nplt.ylabel('Density (g/cm\u00b3)')\nplt.title('Hole TC-3660-008')\nplt.axis([8, 16, 2, 5.5])\n\nplt.subplot(223)\nplt.scatter(df.Len[df.Hole == 'TC-1319-005'], df.From[df.Hole == 'TC-1319-005'], edgecolor='k', color='skyblue', zorder=2)\nplt.grid(zorder=1)\nplt.xlabel('Core Length (cm)')\nplt.ylabel('Depth (m)')\nplt.axis([8, 16, 1100, 0])\nplt.title('Hole TC-1319-005')\n\nplt.subplot(224)\nplt.scatter(df.Len[df.Hole == 'TC-3660-008'], df.From[df.Hole == 'TC-3660-008'], edgecolor='k', color='skyblue', zorder=2)\nplt.grid(zorder=1)\nplt.xlabel('Core Length (cm)')\nplt.ylabel('Depth (m)')\nplt.title('Hole TC-3660-008')\nplt.axis([8, 16, 1100, 0])\n\nplt.tight_layout()\nplt.show()"
      ]
    },
    {
      "cell_type": "markdown",
      "metadata": {},
      "source": [
        "## Modelable Variables or Features\n\nIn the following section, we will review, through the main statistical parameters and plots, each of the features or variables suitable for modeling. The variable From, the sample's top depth, could have a double meaning, as a reference and feature. Len is not for modeling, it is important because allows the assessment of the quality of the density.\n\n"
      ]
    },
    {
      "cell_type": "code",
      "execution_count": null,
      "metadata": {
        "collapsed": false
      },
      "outputs": [],
      "source": [
        "features = df[['Hole', 'From', 'Len', 'Den', 'Vp', 'Vs', 'Mag', 'Ip', 'Res', 'Form']]\nfeatures"
      ]
    },
    {
      "cell_type": "code",
      "execution_count": null,
      "metadata": {
        "collapsed": false
      },
      "outputs": [],
      "source": [
        "features.describe()"
      ]
    },
    {
      "cell_type": "markdown",
      "metadata": {},
      "source": [
        "Boxplot of each feature\n\n"
      ]
    },
    {
      "cell_type": "code",
      "execution_count": null,
      "metadata": {
        "collapsed": false
      },
      "outputs": [],
      "source": [
        "features.plot.box(subplots=True, grid=False, figsize=(12, 7), layout=(3, 4), flierprops={\"marker\": \".\"})\nplt.tight_layout()\n# plt.savefig('Output/histos.png')\nplt.show()"
      ]
    },
    {
      "cell_type": "code",
      "execution_count": null,
      "metadata": {
        "collapsed": false
      },
      "outputs": [],
      "source": [
        "features.to_csv('Output/features.csv')"
      ]
    },
    {
      "cell_type": "markdown",
      "metadata": {},
      "source": [
        "### Density (Den)\nThe distribution of the density variable has a wide tail to the right (positive skew), with anomalous values beyond +3 standard deviations. There is no mention, in the observations of the petrophysical data or in the stratigraphic logging of the hole, about the reason for these anomalous values, however, as it was seen previouly,  the influence of long length (> 11.2 cm) in these high densities is clear.\n\n"
      ]
    },
    {
      "cell_type": "markdown",
      "metadata": {},
      "source": [
        "Density statistical parameters by _aux\n\n"
      ]
    },
    {
      "cell_type": "code",
      "execution_count": null,
      "metadata": {
        "collapsed": false
      },
      "outputs": [],
      "source": [
        "basic_stat.parameters(features.Den, 'Den')"
      ]
    },
    {
      "cell_type": "markdown",
      "metadata": {},
      "source": [
        "Density plots by _aux\n\n"
      ]
    },
    {
      "cell_type": "code",
      "execution_count": null,
      "metadata": {
        "collapsed": false
      },
      "outputs": [],
      "source": [
        "basic_stat.plots(features.Den, 'Den')"
      ]
    },
    {
      "cell_type": "markdown",
      "metadata": {},
      "source": [
        "8 observations with anomalous values in the density\n\n"
      ]
    },
    {
      "cell_type": "code",
      "execution_count": null,
      "metadata": {
        "collapsed": false
      },
      "outputs": [],
      "source": [
        "features[features.Den > 4].sort_values(by='From')"
      ]
    },
    {
      "cell_type": "markdown",
      "metadata": {},
      "source": [
        "Observations related to density\n\n"
      ]
    },
    {
      "cell_type": "code",
      "execution_count": null,
      "metadata": {
        "collapsed": false
      },
      "outputs": [],
      "source": [
        "df[df.Den > 4].Obs"
      ]
    },
    {
      "cell_type": "code",
      "execution_count": null,
      "metadata": {
        "collapsed": false
      },
      "outputs": [],
      "source": [
        "den_anomalous_index = list(features[features.Den > 4].index)\n\nprint('Hole             Vp:        Observation:')\nfor n in den_anomalous_index:\n    print(df.Hole[n], '    ', df.Den[n], '    ', df.Obs[n])"
      ]
    },
    {
      "cell_type": "markdown",
      "metadata": {},
      "source": [
        "## Anomalies in Hole TC-1319-005\nApart from the fact that the anomalies are only in the TC-1319-005, there is almost no information related to the density anomalies.\nThe stratigraphic logging mentioned abundant pyrite in hole TC-1319-005, around 1046 m, but this is far from the location of the anomalies\nin the petrophysical data (271.7 - 400.1 m).\n\n"
      ]
    },
    {
      "cell_type": "markdown",
      "metadata": {},
      "source": [
        "## Compressional Velocity (Vp)\nThe distribution of the compressional velocity has a wide tail to the left (negative skew), with anomalous values below -3 standard deviations.\nThe observations on these anomalous samples point toward open fractures on the core as responsible for the low Vp values.\n\nBelow are two reference values of Vp, at 20\u00baC (source: https://www.engineeringtoolbox.com/sound-speed-water-d_598.html):\n\n+----------------+-------------+\n| Medium         | Vp (m/s)    |\n+================+=============+\n| Fresh Water    | 1480        |\n+----------------+-------------+\n| Air            | 343         |\n+----------------+-------------+\n\n"
      ]
    },
    {
      "cell_type": "markdown",
      "metadata": {},
      "source": [
        "Vp statistical parameters\n\n"
      ]
    },
    {
      "cell_type": "code",
      "execution_count": null,
      "metadata": {
        "collapsed": false
      },
      "outputs": [],
      "source": [
        "basic_stat.parameters(features.Vp, 'Vp')"
      ]
    },
    {
      "cell_type": "markdown",
      "metadata": {},
      "source": [
        "Vp plots\n\n"
      ]
    },
    {
      "cell_type": "code",
      "execution_count": null,
      "metadata": {
        "collapsed": false
      },
      "outputs": [],
      "source": [
        "basic_stat.plots(features.Vp, 'Vp')"
      ]
    },
    {
      "cell_type": "markdown",
      "metadata": {},
      "source": [
        "5 obsevations with anomalous values in the Vp\n\n"
      ]
    },
    {
      "cell_type": "code",
      "execution_count": null,
      "metadata": {
        "collapsed": false
      },
      "outputs": [],
      "source": [
        "features[features.Vp < 3000]"
      ]
    },
    {
      "cell_type": "markdown",
      "metadata": {},
      "source": [
        "Observations related to Vp\n\n"
      ]
    },
    {
      "cell_type": "code",
      "execution_count": null,
      "metadata": {
        "collapsed": false
      },
      "outputs": [],
      "source": [
        "vp_anomalous_index = list(features[features.Vp < 3000].index)\n\nprint('Hole             Vp:        Observation:')\nfor n in vp_anomalous_index:\n    print(df.Hole[n], '    ', df.Vp[n], '    ', df.Obs[n])"
      ]
    },
    {
      "cell_type": "markdown",
      "metadata": {},
      "source": [
        "The mayority of Vp anomalies are concentrate in the hole TC-1319-005 and they appear to be related with the geometry and fractures in the core sample. The stratigraphic logging has not direct mentions of the low Vp.\n\n"
      ]
    },
    {
      "cell_type": "markdown",
      "metadata": {},
      "source": [
        "## Shear Velocity (Vs)\nThe distribution of the shear velocity has an irregular tail to the left (negative skew), with anomalous values below -3 standard deviations.\nAs well as in the case of Vp, the observations on these anomalous values point toward open fractures on the core as responsible for the low Vs.\nValues of zero are not admissible in the case of solid samples, especially considering the densities in these anomalies (mean of 2.72).\nTo improve subsequent models, these anomalous values of Vs should be replaced by NaN and then imputed (replaced by a logical value).\n\nBelow are two reference values of Vs (source: Reynolds, J (2011) An Introduction to Applied and Environmental Geophysics):\n\n+------------------------+-------------+\n| Medium                 | Vs (m/s)    |\n+========================+=============+\n| Unconsolidated sands   | 65-105      |\n+------------------------+-------------+\n| Plastic clays          | 80-130      |\n+------------------------+-------------+\n\n"
      ]
    },
    {
      "cell_type": "markdown",
      "metadata": {},
      "source": [
        "Vs statistical parameters\n\n"
      ]
    },
    {
      "cell_type": "code",
      "execution_count": null,
      "metadata": {
        "collapsed": false
      },
      "outputs": [],
      "source": [
        "basic_stat.parameters(features.Vs, 'Vs')"
      ]
    },
    {
      "cell_type": "markdown",
      "metadata": {},
      "source": [
        "Vp statistical parameterss plots\n\n"
      ]
    },
    {
      "cell_type": "code",
      "execution_count": null,
      "metadata": {
        "collapsed": false
      },
      "outputs": [],
      "source": [
        "basic_stat.plots(features.Vs, 'Vs')"
      ]
    },
    {
      "cell_type": "markdown",
      "metadata": {},
      "source": [
        "5 obsevations with anomalous values of Vs\n\n"
      ]
    },
    {
      "cell_type": "code",
      "execution_count": null,
      "metadata": {
        "collapsed": false
      },
      "outputs": [],
      "source": [
        "features[features.Vs < 1000].sort_values(by='From')"
      ]
    },
    {
      "cell_type": "markdown",
      "metadata": {},
      "source": [
        "Average density of the anomalous values of Vs\n\n"
      ]
    },
    {
      "cell_type": "code",
      "execution_count": null,
      "metadata": {
        "collapsed": false
      },
      "outputs": [],
      "source": [
        "features[features.Vs < 1000].Den.mean()"
      ]
    },
    {
      "cell_type": "markdown",
      "metadata": {},
      "source": [
        "Observations related to Vs\n\n"
      ]
    },
    {
      "cell_type": "code",
      "execution_count": null,
      "metadata": {
        "collapsed": false
      },
      "outputs": [],
      "source": [
        "vs_anomalous_index = list(features[features.Vs < 1000].index)\n\nprint('Hole             Vs:        Observation:')\nfor n in vs_anomalous_index:\n    print(df.Hole[n], '    ', df.Vs[n], '    ', df.Obs[n])"
      ]
    },
    {
      "cell_type": "markdown",
      "metadata": {},
      "source": [
        "## Observations on Anomalies\n*Cllst_logging_details.xls* has no mentions related to the zero Vs values. Other observations are:\n\n+-------+-------------+---------------------+--------------------------------------------+\n| Index | Hole        | Reference Depth (m) | Explanation                                |\n+=======+=============+=====================+============================================+\n| 175   | TC-3660-008 | 64                  | -                                          |\n+-------+-------------+---------------------+--------------------------------------------+\n| 198 & 311 | TC-3660-008 | 188 & 774       | Diagenetic pyrite & pyrite in mudstones    |\n+-------+-------------+---------------------+--------------------------------------------+\n| 210 & 248 | TC-3660-008 | 432 & 452       | Fault zone                                 |\n+-------+-------------+---------------------+--------------------------------------------+\n\n"
      ]
    },
    {
      "cell_type": "markdown",
      "metadata": {},
      "source": [
        "Once again, the majority of Vs anomalies are concentrated in the hole TC-1319-005 and they also appear to be related to fractures or the geometry of the core sample. The stratigraphic logging has no direct mentions of the low Vs.\n\n"
      ]
    },
    {
      "cell_type": "markdown",
      "metadata": {},
      "source": [
        "## Magnetic Susceptibility (Mag)\nThe magnetic susceptibility has an extremely anomalous value (93.89), which is 218 times higher than the average of the rest of the values (0.43).\nThis outlier significantly skews the statistical parameters and visualizations, as it lies beyond 10 standard deviations above the mean.\nRemoving this value reveals that the distribution has a tail to the right (positive skew), with some values exceeding 3 standard deviations.\n\nRegarding the anomalous value, it exceeds the maximum value of 2 delivered by the KT-20 detector device, with a 10 kHz single-frequency circular sensor\n(https://terraplus.ca/wp-content/uploads/terraplus-Brochures-English/KT-20-Physical-Property-Measuring-System.pdf). Unfortunately, there are no specific\nobservations that explain the reason for this extreme value.\n\nBelow are reference values of magnetic susceptibility for different rocks (source: https://www.eoas.ubc.ca/courses/eosc350/content/foundations/properties/magsuscept.htm#:~:text=In%20rocks%2C%20susceptibility%20is%20mainly,trace%20amounts%20in%20most%20sediments.):\n\n+----------------+--------------------------------------+\n| Rock           | Magnetic Susceptibility x 10^-3 (SI) |\n+================+======================================+\n| Limestones     | 0 - 3                                |\n+----------------+--------------------------------------+\n| Sandstones     | 0 - 20                               |\n+----------------+--------------------------------------+\n| Shales         | 0.01 - 15                            |\n+----------------+--------------------------------------+\n| Gneiss         | 0.1 - 25                             |\n+----------------+--------------------------------------+\n| Granite        | 0 - 50                               |\n+----------------+--------------------------------------+\n| Basalt         | 0.2 - 175                            |\n+----------------+--------------------------------------+\n| Magnetite      | 1200 - 19200                         |\n+----------------+--------------------------------------+\n\n"
      ]
    },
    {
      "cell_type": "markdown",
      "metadata": {},
      "source": [
        "Mag statistical parameters\n\n"
      ]
    },
    {
      "cell_type": "code",
      "execution_count": null,
      "metadata": {
        "collapsed": false
      },
      "outputs": [],
      "source": [
        "basic_stat.parameters(features.Mag, 'Mag')"
      ]
    },
    {
      "cell_type": "markdown",
      "metadata": {},
      "source": [
        "Mag plots\n\n"
      ]
    },
    {
      "cell_type": "code",
      "execution_count": null,
      "metadata": {
        "collapsed": false
      },
      "outputs": [],
      "source": [
        "basic_stat.plots(features.Mag, 'Mag')"
      ]
    },
    {
      "cell_type": "markdown",
      "metadata": {},
      "source": [
        "The maximum is 200 times bigger than the mean value\n\n"
      ]
    },
    {
      "cell_type": "code",
      "execution_count": null,
      "metadata": {
        "collapsed": false
      },
      "outputs": [],
      "source": [
        "print('Index of the maximun:', features.Mag.idxmax())\nprint('Maximun value:', features.Mag[305])"
      ]
    },
    {
      "cell_type": "code",
      "execution_count": null,
      "metadata": {
        "collapsed": false
      },
      "outputs": [],
      "source": [
        "features.loc[305]"
      ]
    },
    {
      "cell_type": "markdown",
      "metadata": {},
      "source": [
        "Mag < 10 statistical parameters\n\n"
      ]
    },
    {
      "cell_type": "code",
      "execution_count": null,
      "metadata": {
        "collapsed": false
      },
      "outputs": [],
      "source": [
        "basic_stat.parameters(features.Mag[features.Mag < 10], 'Mag')"
      ]
    },
    {
      "cell_type": "markdown",
      "metadata": {},
      "source": [
        "Mag < 10 plots\n\n"
      ]
    },
    {
      "cell_type": "code",
      "execution_count": null,
      "metadata": {
        "collapsed": false
      },
      "outputs": [],
      "source": [
        "basic_stat.plots(features.Mag[features.Mag < 10], 'Mag')"
      ]
    },
    {
      "cell_type": "markdown",
      "metadata": {},
      "source": [
        "Mag anomalous value\n\n"
      ]
    },
    {
      "cell_type": "code",
      "execution_count": null,
      "metadata": {
        "collapsed": false
      },
      "outputs": [],
      "source": [
        "df[df.Mag > 10]"
      ]
    },
    {
      "cell_type": "markdown",
      "metadata": {},
      "source": [
        "The stratigraphic column mentions \"pyrite in mudstones\" in the interval corresponding to this sample but nothing related to tha Mag.\n\n"
      ]
    },
    {
      "cell_type": "markdown",
      "metadata": {},
      "source": [
        "### Induced Polarization (Ip)\nInduced polarization or chargeability is the \"capacity of a material to retain charges after a forcing current is removed.\" It \"depends upon many factors, including mineral type, grain size, the ratio of internal surface area to volume, the properties of electrolytes in pore space, and the physics of interaction between surfaces and fluids. Interpretation of chargeability models is further complicated by the fact that there is no standard set of units for this physical property.\"(source: https://gpg.geosci.xyz/content/induced_polarization/induced_polarization_introduction.html). Ip is similar to conductivity (the inverse of resistivity) but not exactly the same, while the first is related with the capacitance of the material (retain electrical charges localized), the second is the ability of a material to allow the flow of electricity.\n\nIn our case, the measures of Ip have a tail to the right (positive skew), with only a value (171.73) above 3 standard deviations. There not observations associated with this value. \n\n"
      ]
    },
    {
      "cell_type": "markdown",
      "metadata": {},
      "source": [
        "Ip statistical parameters\n\n"
      ]
    },
    {
      "cell_type": "code",
      "execution_count": null,
      "metadata": {
        "collapsed": false
      },
      "outputs": [],
      "source": [
        "basic_stat.parameters(features.Ip, 'Ip')"
      ]
    },
    {
      "cell_type": "markdown",
      "metadata": {},
      "source": [
        "Ip plots\n\n"
      ]
    },
    {
      "cell_type": "code",
      "execution_count": null,
      "metadata": {
        "collapsed": false
      },
      "outputs": [],
      "source": [
        "basic_stat.plots(features.Ip, 'Ip')"
      ]
    },
    {
      "cell_type": "markdown",
      "metadata": {},
      "source": [
        "Ip anomalous value\n\n"
      ]
    },
    {
      "cell_type": "code",
      "execution_count": null,
      "metadata": {
        "collapsed": false
      },
      "outputs": [],
      "source": [
        "df[df.Ip > 150]"
      ]
    },
    {
      "cell_type": "markdown",
      "metadata": {},
      "source": [
        "No information about this anomaly in the petrophysical or in the stratigraphic data.\n\n"
      ]
    },
    {
      "cell_type": "markdown",
      "metadata": {},
      "source": [
        "### Resistivity (Res)\nAlthough resistivity is a specific measure of pure materials, this property, like Ip, depends in the case of rocks on the constituent minerals and the fluids in their pore space. The measurements in our case show a typical pattern with tail to the right (positive skew) and with several values above 3 standard deviation. There are no observations associated with these high values.\n\n"
      ]
    },
    {
      "cell_type": "markdown",
      "metadata": {},
      "source": [
        "Res statistical parameters\n\n"
      ]
    },
    {
      "cell_type": "code",
      "execution_count": null,
      "metadata": {
        "collapsed": false
      },
      "outputs": [],
      "source": [
        "basic_stat.parameters(df.Res, 'Res')"
      ]
    },
    {
      "cell_type": "markdown",
      "metadata": {},
      "source": [
        "Res plots\n\n"
      ]
    },
    {
      "cell_type": "code",
      "execution_count": null,
      "metadata": {
        "collapsed": false
      },
      "outputs": [],
      "source": [
        "basic_stat.plots(df.Res, 'Res')"
      ]
    },
    {
      "cell_type": "code",
      "execution_count": null,
      "metadata": {
        "collapsed": false
      },
      "outputs": [],
      "source": [
        "df[df.Res > 14000].sort_values(by='From')"
      ]
    },
    {
      "cell_type": "markdown",
      "metadata": {},
      "source": [
        "Stratigraphic Data Observations\n----------------------_--------\nOnly the stratigraphic data has observations of pyrite in hole TC-1319-005, but at shallower depths, around 146 & 193 m.\n\n"
      ]
    },
    {
      "cell_type": "markdown",
      "metadata": {},
      "source": [
        "## Features Correlation\nTo appreciate the relation between the features, the anomaly of the Mag was excluded. No other elimination or imputation (fill with numbers the NaNs) was performed, therefore the quality of the correlations may change after the imputation.\n\n"
      ]
    },
    {
      "cell_type": "code",
      "execution_count": null,
      "metadata": {
        "collapsed": false
      },
      "outputs": [],
      "source": [
        "# Pair Plot of All Features Against Each Other\nmat = features[features.Mag < 10].select_dtypes(include=['number'])\nsns.pairplot(mat)\nplt.show()"
      ]
    },
    {
      "cell_type": "markdown",
      "metadata": {},
      "source": [
        "Correlation Matrix\n\n"
      ]
    },
    {
      "cell_type": "code",
      "execution_count": null,
      "metadata": {
        "collapsed": false
      },
      "outputs": [],
      "source": [
        "correl_mat = mat.corr()\ncorrel_mat"
      ]
    },
    {
      "cell_type": "markdown",
      "metadata": {},
      "source": [
        "Correlation Heatmap\n\n"
      ]
    },
    {
      "cell_type": "code",
      "execution_count": null,
      "metadata": {
        "collapsed": false
      },
      "outputs": [],
      "source": [
        "sns.heatmap(correl_mat, vmin=-1, vmax=1, center=0, linewidths=.1, cmap='seismic_r', annot=True)\nplt.show()"
      ]
    },
    {
      "cell_type": "markdown",
      "metadata": {},
      "source": [
        "## Additional Data Insights\nThe main role of the additional datasets has been to help us understand the real nature of some anomalies observed in the petrophysical dataset, such as the density anomalies present in the upper half of the TC-1319-005 keyhole.\n\n"
      ]
    },
    {
      "cell_type": "code",
      "execution_count": null,
      "metadata": {
        "collapsed": false
      },
      "outputs": [],
      "source": [
        "# Triple Plot by Major Formation\n# Fix colors for the formations\nimport plotly.express as px\nimport plotly.io as pio\n\ncolors = px.colors.qualitative.Plotly\n\n# Define color mapping for each formation\ncolor_map = {form: colors[i % len(colors)] for i, form in enumerate(df['Form'].unique())}\n\n# Set plot renderer and headless environment setup\npio.renderers.default = 'png'\npio.orca.config.use_xvfb = True\n\n# 1x3 subplots\nfig = make_subplots(\n    rows=1, cols=3,\n    subplot_titles=('Vp vs Den', 'Vp vs Vs', 'Vp/Vs vs Den')\n)\n\n# Plotting by formations\nrat = df['Vp'] / df['Vs']\n\nfor form in df['Form'].unique():\n    df_form = df[df['Form'] == form]\n    rat_form = rat[df['Form'] == form]\n\n    trace1 = go.Scatter(\n        x=df_form['Vp'], y=df_form['Den'], mode='markers', name=form,\n        legendgroup=form, marker=dict(color=color_map[form]),\n        hovertext=df_form['Hole'],\n        hoverinfo='x+y+text'\n    )\n\n    trace2 = go.Scatter(\n        x=df_form['Vp'], y=df_form['Vs'], mode='markers', name=form,\n        legendgroup=form, showlegend=False, marker=dict(color=color_map[form]),\n        hovertext=df_form['Hole'],\n        hoverinfo='x+y+text'\n    )\n\n    trace3 = go.Scatter(\n        x=rat_form, y=df_form['Den'], mode='markers', name=form,\n        legendgroup=form, showlegend=False, marker=dict(color=color_map[form]),\n        hovertext=df_form['Hole'],\n        hoverinfo='x+y+text'\n    )\n\n    fig.add_trace(trace1, row=1, col=1)\n    fig.add_trace(trace2, row=1, col=2)\n    fig.add_trace(trace3, row=1, col=3)\n\n# Adjusting title and figure size\nfig.update_layout(\n    height=800,  # Figure height\n    width=1600,  # Figure width\n    title_text=\"Plots by Major Formations\",\n    showlegend=True,\n    legend=dict(x=1.02, y=1)  # Adjust legend position\n)"
      ]
    },
    {
      "cell_type": "markdown",
      "metadata": {},
      "source": [
        "## Legacy Data Analysis\nLegacy data played a crucial role in evaluating the density anomalies present in the keyhole TC-1319-005.\n\n"
      ]
    },
    {
      "cell_type": "code",
      "execution_count": null,
      "metadata": {
        "collapsed": false
      },
      "outputs": [],
      "source": [
        "# Whole Rock Lithogeochemistry Data Load\nwhole = pd.read_csv(\n    filepath_or_buffer=f'{base_path}/collinstown_wholerock_lithogeochemistry.csv',\n    sep=';'\n)"
      ]
    },
    {
      "cell_type": "markdown",
      "metadata": {},
      "source": [
        "Renaming Columns and Filtering Data\n\n"
      ]
    },
    {
      "cell_type": "code",
      "execution_count": null,
      "metadata": {
        "collapsed": false
      },
      "outputs": [],
      "source": [
        "whole = whole.rename(columns={'HOLEID'     : 'Hole', 'SAMPFROM': 'From', 'Zn_ppm_BEST': 'Zn',\n                              'Pb_ppm_BEST': 'Pb', 'Ba_ppm_BEST': 'Ba', 'Fe_pct_BEST': 'Fe_pct',\n                              'S_pct_BEST' : 'S_pct'})\n\n# Convert % to ppm for Fe and S\nwhole['Fe'] = whole['Fe_pct'] * 10000\nwhole['S'] = whole['S_pct'] * 10000\n\n# Drop unnecessary columns\nwhole = whole.drop(['Fe_pct', 'S_pct'], axis=1)\n\n# Sort filtered data by \"From\"\nwhole5 = whole[whole.Hole == 'TC-1319-005'].sort_values('From')"
      ]
    },
    {
      "cell_type": "markdown",
      "metadata": {},
      "source": [
        "Whole Rock Lithogeochemistry Plots\n\n"
      ]
    },
    {
      "cell_type": "code",
      "execution_count": null,
      "metadata": {
        "collapsed": false
      },
      "outputs": [],
      "source": [
        "plt.figure(figsize=(15, 8))\n\n# Plotting key elements\nelem_list = ['Zn', 'Pb', 'Fe', 'Ba', 'S']\n\nfor element in elem_list:\n    plt.subplot(1, 5, (elem_list.index(element) + 1))\n    plt.plot(whole5[element], whole5.From)\n    plt.axvline(x=np.mean(whole5[element]), ls='--', c='r', label='mean')\n    plt.axhspan(272, 400, color='r', alpha=0.2, label='AIPD')\n    plt.ylim(1100, -20)\n    if elem_list.index(element) == 0:\n        plt.ylabel('Depth (m)')\n        plt.legend()\n    plt.xlabel(f'{element} (ppm)')\n    plt.grid()\n\nplt.suptitle('Hole TC-1319-005 Legacy Whole Rock Lithogeochemistry\\n AIPD: Anomalous Interval in the Petrophysical Data', y=1)\nplt.tight_layout()\nplt.show()"
      ]
    },
    {
      "cell_type": "markdown",
      "metadata": {},
      "source": [
        "Legacy XRF data load\n\n"
      ]
    },
    {
      "cell_type": "code",
      "execution_count": null,
      "metadata": {
        "collapsed": false
      },
      "outputs": [],
      "source": [
        "xrf = pd.read_csv(f'{base_path}/collinstown_pXRF.csv')\nxrf.head()"
      ]
    },
    {
      "cell_type": "markdown",
      "metadata": {},
      "source": [
        "xrf columns\n\n"
      ]
    },
    {
      "cell_type": "code",
      "execution_count": null,
      "metadata": {
        "collapsed": false
      },
      "outputs": [],
      "source": [
        "xrf.columns"
      ]
    },
    {
      "cell_type": "markdown",
      "metadata": {},
      "source": [
        "Main columns in xrf df\n\n"
      ]
    },
    {
      "cell_type": "code",
      "execution_count": null,
      "metadata": {
        "collapsed": false
      },
      "outputs": [],
      "source": [
        "xrf = xrf[['HOLEID', 'SAMPFROM', 'Fe_pXRF_pct', 'Zn_pXRF_pct', 'Pb_pXRF_pct', 'S_pXRF_pct']]\nxrf.head()"
      ]
    },
    {
      "cell_type": "markdown",
      "metadata": {},
      "source": [
        "Conversion of % to ppm\n\n"
      ]
    },
    {
      "cell_type": "code",
      "execution_count": null,
      "metadata": {
        "collapsed": false
      },
      "outputs": [],
      "source": [
        "columns_to_multiply = ['Fe_pXRF_pct', 'Zn_pXRF_pct', 'Pb_pXRF_pct', 'S_pXRF_pct']\nxrf[columns_to_multiply] = xrf[columns_to_multiply] * 10000\nxrf.head()"
      ]
    },
    {
      "cell_type": "markdown",
      "metadata": {},
      "source": [
        "Rename the xrf columns\n\n"
      ]
    },
    {
      "cell_type": "code",
      "execution_count": null,
      "metadata": {
        "collapsed": false
      },
      "outputs": [],
      "source": [
        "xrf = xrf.rename(columns={'HOLEID': 'Hole', 'SAMPFROM': 'From', 'Fe_pXRF_pct': 'Fe', 'Zn_pXRF_pct': 'Zn', 'Pb_pXRF_pct': 'Pb', 'S_pXRF_pct': 'S'})\nxrf.head()"
      ]
    },
    {
      "cell_type": "markdown",
      "metadata": {},
      "source": [
        "Sort by From\n\n"
      ]
    },
    {
      "cell_type": "code",
      "execution_count": null,
      "metadata": {
        "collapsed": false
      },
      "outputs": [],
      "source": [
        "xrf5 = xrf[xrf.Hole == 'TC-1319-005'].sort_values('From')\nxrf5.head()"
      ]
    },
    {
      "cell_type": "markdown",
      "metadata": {},
      "source": [
        "Upper portion of xrf5\n\n"
      ]
    },
    {
      "cell_type": "code",
      "execution_count": null,
      "metadata": {
        "collapsed": false
      },
      "outputs": [],
      "source": [
        "xrf5[xrf5.From <= 400].describe()"
      ]
    },
    {
      "cell_type": "markdown",
      "metadata": {},
      "source": [
        "Elements in xrf5\n\n"
      ]
    },
    {
      "cell_type": "code",
      "execution_count": null,
      "metadata": {
        "collapsed": false
      },
      "outputs": [],
      "source": [
        "elem_list2 = ['Zn', 'Pb', 'Fe', 'S']"
      ]
    },
    {
      "cell_type": "markdown",
      "metadata": {},
      "source": [
        "XRF plots\n\n"
      ]
    },
    {
      "cell_type": "code",
      "execution_count": null,
      "metadata": {
        "collapsed": false
      },
      "outputs": [],
      "source": [
        "plt.figure(figsize=(15, 8))\n\nfor element in elem_list2:\n    plt.subplot(1, 4, (elem_list2.index(element) + 1))\n    plt.plot(xrf5[element], xrf5.From)\n    plt.axvline(x=np.mean(xrf5[element]), ls='--', c='r', label='mean')\n    # plt.scatter(xrf5[element][200], xrf5.From[200], label='DPAL', c='k', zorder=3)\n    plt.axhspan(272, 400, color='r', alpha=0.2, label='AIPD')\n    plt.ylim(1100, -20)\n    if elem_list.index(element) == 0:\n        plt.ylabel('Depth (m)')\n        plt.legend()\n    plt.xlabel(f'{element} (ppm)')\n    plt.grid()\n\nplt.suptitle('Hole TC-1319-005 Legacy XRF\\n AIPD: Anomalous Interval in the Petrophysical Data', y=1)\nplt.tight_layout()\n# plt.savefig('Output/xrf.png')\nplt.show()"
      ]
    },
    {
      "cell_type": "markdown",
      "metadata": {},
      "source": [
        "### Magnetic Susceptibility\nThis section compares the magnetic susceptibility in the legacy and the latest petrophysical data. In the case of hole TC-1319-005 we can see that the magnetic susceptibility in both measurements have very similar medians. The magnetic susceptibilities, new and legacy, of hole TC-3660-008 have the same medians, but it has an anomaly in the petrophysical data that is above the measurement limit of the KT-20 device (2000 x $10^3$ SI), therefore this anomalous value is going to be deleted.\nLoad magnetic susceptibility data\n\n"
      ]
    },
    {
      "cell_type": "code",
      "execution_count": null,
      "metadata": {
        "collapsed": false
      },
      "outputs": [],
      "source": [
        "mag = pd.read_excel(f'{base_path}/collinstown_MagSUS.xlsx')"
      ]
    },
    {
      "cell_type": "markdown",
      "metadata": {},
      "source": [
        "## Magnetic Susceptibility Analysis for Hole TC-1319-005\n\n"
      ]
    },
    {
      "cell_type": "code",
      "execution_count": null,
      "metadata": {
        "collapsed": false
      },
      "outputs": [],
      "source": [
        "mag5 = mag[mag.HOLEID == 'TC-1319-005'].sort_values('SAMPFROM')\npetro5 = df[df.Hole == 'TC-1319-005'].sort_values('From')\n\nplt.figure(figsize=(10, 6))\n\nplt.subplot(121)\nplt.plot(mag5['MS_MagSus'], mag5['SAMPFROM'], label='Legacy')\nplt.scatter(petro5['Mag'], petro5['From'], c='k', label='Petrophysic', s=8)\nplt.ylim(1100, 0)\nplt.legend(loc='lower right')\nplt.xlabel('Mag Sus')\nplt.ylabel('Depth (m)')\nplt.grid()\n\nplt.subplot(122)\nplt.plot(np.log10(mag5['MS_MagSus']), mag5['SAMPFROM'], label='Legacy')\nplt.axvline(x=np.median(np.log10(mag5['MS_MagSus'])), ls='--', label='Median Legacy')\nplt.scatter(np.log10(petro5['Mag']), petro5['From'], c='k', label='Petrophysic', s=8)\nplt.axvline(x=np.median(np.log10(petro5['Mag'])), ls='--', c='k', label='Median Petrophysic')\n\nplt.ylim(1100, 0)\nplt.legend(loc='lower right')\nplt.xlabel('Log(Mag Sus)')\nplt.ylabel('Depth (m)')\nplt.grid()\n\nplt.suptitle('TC-1319-005 Magnetic Susceptibility')\nplt.tight_layout()\nplt.show()"
      ]
    },
    {
      "cell_type": "markdown",
      "metadata": {},
      "source": [
        "## Magnetic Susceptibility Analysis for Hole TC-3660-008\n\n"
      ]
    },
    {
      "cell_type": "code",
      "execution_count": null,
      "metadata": {
        "collapsed": false
      },
      "outputs": [],
      "source": [
        "mag8 = mag[mag.HOLEID == 'TC-3660-008'].sort_values('SAMPFROM')\npetro8 = df[df.Hole == 'TC-3660-008'].sort_values('From')\n\nplt.figure(figsize=(11, 7))\n\nplt.subplot(121)\nplt.plot(mag8['MS_MagSus'], mag8['SAMPFROM'], label='Legacy')\nplt.scatter(petro8['Mag'], petro8['From'], c='k', label='Petrophysic', s=8)\nplt.ylim(900, 0)\nplt.xlabel('Mag Sus')\nplt.ylabel('Depth (m)')\nplt.legend(loc='lower right')\nplt.grid()\n\nplt.subplot(122)\nplt.plot(np.log10(mag8['MS_MagSus']), mag8['SAMPFROM'], label='Legacy')\nplt.axvline(x=np.median(np.log10(mag8['MS_MagSus'])), ls='--', label='Median Legacy')\nplt.scatter(np.log10(petro8['Mag']), petro8['From'], c='k', label='Petrophysic', s=8)\nplt.axvline(x=np.nanmedian(np.log10(petro8['Mag'])), ls='--', c='k', label='Median Petrophysic')\n\nplt.ylim(900, 0)\nplt.xlabel('Log(Mag Sus)')\nplt.ylabel('Depth (m)')\nplt.legend(loc='lower right')\nplt.grid()\n\nplt.suptitle('TC-3660-008 Magnetic Susceptibility')\nplt.tight_layout()\nplt.show()"
      ]
    },
    {
      "cell_type": "markdown",
      "metadata": {},
      "source": [
        "## Gamma Ray and Formation Analysis for Hole TC-3660-008\n\n"
      ]
    },
    {
      "cell_type": "code",
      "execution_count": null,
      "metadata": {
        "collapsed": false
      },
      "outputs": [],
      "source": [
        "gr = pd.read_csv(f'{base_path}/collinstown_Gamma.csv')\ngr8 = gr[gr.HOLEID == 'TC-3660-008'].sort_values('DEPTH')\n\n# Depth of tops or markers for formations\ntops = pd.DataFrame(petro8.From[petro8['Form'].ne(petro8['Form'].shift())])\ntops['Top'] = petro8.Form[petro8['Form'].ne(petro8['Form'].shift())]\ntops = tops.reset_index(drop=True)\n\n# Colors of the formations\ntops['color'] = pd.Series(['#CCDF9A', '#FF0000', '#CCDF9A', '#D9E9F0', '#FF0000', '#D9E9F0', '#FF0000', '#D9E9F0', '#FF0000', '#8CBAE2',\n                           '#8A6E9F', '#ABA16C', '#EBDE98', '#806000', '#2A7C43', '#FF0000'])\n\n# Add base of the deepest formation\nnew_row = pd.DataFrame([{'From': 833.4, 'Top': '', 'color': '#FF0000'}])\ntops = pd.concat([tops, new_row], ignore_index=True)\ntops = tops.rename(columns={'From': 'depth', 'Top': 'name'})\n\ntops_list = geo.plot_tops(tops)\n\ngr8 = gr8.sort_values('DEPTH')\n# Plot of GR with Formations\n\nplt.figure(figsize=(10, 8))\n\nplt.subplot(121)\nplt.plot(gr8.iloc[:,6], gr8.iloc[:,5], label='Data', c='lightblue')\n# plt.plot(gr8.iloc[:,6].rolling(window=250).mean(), gr8.iloc[:,5], label='Mean 400')\n\n# Butterworth filter\nb, a = butter(N=2, Wn=0.02, btype='low')\nfiltered_data = filtfilt(b, a, gr8.iloc[:, 6])\nplt.plot(filtered_data, gr8.iloc[:, 5], label='Butterworth Filtered')\n\nplt.grid()\nplt.xlabel('GR (API)')\nplt.xlabel('Depth (m)')\nplt.axis([0, 120, 850, 0])\n\nplt.subplot(122)\nfor i in range(0, len(tops_list)):\n    plt.axhspan(tops_list[i]['top'], tops_list[i]['base'], color=tops_list[i]['color'])\n    plt.text(122, tops_list[i]['top'], tops_list[i]['name'], fontsize=9, va='center')\nplt.axis([0, 120, 850, 0])\nplt.xticks([])\nplt.xlabel('Formations')\n\nplt.suptitle('GR and Formations in Hole TC-3660-008', y=0.93)\nplt.savefig('Output/gr_form.png')\nplt.show()"
      ]
    },
    {
      "cell_type": "markdown",
      "metadata": {},
      "source": [
        "## Passive Vs\nParallel to the petrophysical measurements, a passive seismic survey was carried out between Collinstown and Kells. From this survey a Vs was obtained which can be compared with that recorded during the petrophysical measurements. Despite being measurements of a very different nature, the Vs of the key holes are in the range of values of the passive Vs. Refering to the trends, hole TC-1319-005, inside the survey, shows a contrary trend as the passive Vs. Paradoxically, Hole TC-3660-008, outside the survey, shows a trend that coincides with that of the passive Vs.\n\n"
      ]
    },
    {
      "cell_type": "markdown",
      "metadata": {},
      "source": [
        "Load passive Vs data for hole TC-3660-008\n\n"
      ]
    },
    {
      "cell_type": "code",
      "execution_count": null,
      "metadata": {
        "collapsed": false
      },
      "outputs": [],
      "source": [
        "pas = pd.read_csv(\n    filepath_or_buffer=f'{base_path}/tc-3660-008_Vs.txt',\n    sep=' ',\n    skiprows=1,\n    names=['depth_km', 'vs_km/s']\n)\n\n# Convert depth and velocity from km to m\npas[['depth_km', 'vs_km/s']] = pas[['depth_km', 'vs_km/s']] * 1000\n\n# Rename columns for easier access\npas = pas.rename(columns={'depth_km': 'depth', 'vs_km/s': 'vs'})"
      ]
    },
    {
      "cell_type": "markdown",
      "metadata": {},
      "source": [
        "## Passive Vs Statistical Parameters\n\n"
      ]
    },
    {
      "cell_type": "code",
      "execution_count": null,
      "metadata": {
        "collapsed": false
      },
      "outputs": [],
      "source": [
        "print(f\"Basic statistics for Passive Vs:\\n{pas['vs'].describe()}\")"
      ]
    },
    {
      "cell_type": "markdown",
      "metadata": {},
      "source": [
        "## Passive Vs Plots\n\n"
      ]
    },
    {
      "cell_type": "code",
      "execution_count": null,
      "metadata": {
        "collapsed": false
      },
      "outputs": [],
      "source": [
        "basic_stat.plots(pas.vs, 'Passive Vs')"
      ]
    },
    {
      "cell_type": "markdown",
      "metadata": {},
      "source": [
        "## Vs Comparison Plot\n\n"
      ]
    },
    {
      "cell_type": "code",
      "execution_count": null,
      "metadata": {
        "collapsed": false
      },
      "outputs": [],
      "source": [
        "plt.figure(figsize=(5, 8))\n\n# Vs at TC-1319-005\nplt.plot(petro8.Vs[petro8.Vs >= 1000], petro8.From[petro8.Vs >= 1000], label='TC-1319-005', c='salmon')\n\n# Apply Butterworth filter to TC-1319-005 Vs\nb, a = butter(N=2, Wn=0.2, btype='low')\nvs_butter = filtfilt(b, a, petro8.Vs[petro8.Vs >= 1000])\nplt.plot(\n    vs_butter,\n    petro8.From[petro8.Vs >= 1000],\n    label='Butterworth Filter - TC-1319-005',\n    c='crimson'\n)\n\n# Vs at TC-3660-008\nplt.plot(petro5.Vs[petro5.Vs >= 1000], petro5.From[petro5.Vs >= 1000], label='TC-3660-008', c='lightgreen')\n\n# Apply Butterworth filter to TC-3660-008 Vs\nvs_butter = filtfilt(b, a, petro5.Vs[petro5.Vs >= 1000])\nplt.plot(\n    vs_butter,\n    petro5.From[petro5.Vs >= 1000],\n    label='Butterworth Filter - TC-3660-008',\n    c='green'\n)\n\n# Passive seismic Vs\nplt.scatter(pas.vs, pas.depth, c='k', label='Passive Survey', s=8, zorder=2)\n\nplt.axis([1000, 4000, 2000, 0])\nplt.ylabel('Depth (m)')\nplt.xlabel('Vs (m/s)')\nplt.title('Vs Comparison')\nplt.legend(loc='lower left')\nplt.grid()\nplt.savefig('Output/vs.png')\nplt.show()"
      ]
    },
    {
      "cell_type": "markdown",
      "metadata": {},
      "source": [
        "## Observations on Anomalies\nThe following observations summarize the findings for each feature in the petrophysical dataset. They are based on the findings made\nduring the exploratory data analysis (EDA) and the integration with additional data, which was crucial in assessing the real nature\nof the anomalies in the petrophysical features. These observations establish the steps to follow, which involve the elimination of\nsome anomalies, while others are maintained.\n\n+---------+-------------------------------------------------------------------------------------------------------------------------------------+\n| Feature | Observations on anomalies                                                                                                           |\n+=========+=====================================================================================================================================+\n| Den     | The presence of abnormal densities requires checking all available data before discarding such values. Additional data, including   |\n|         | stratigraphic columns, whole rock geochemistry, and XRF, indicate an absence of massive sulfides in the upper portion of TC-1319-005|\n+---------+-------------------------------------------------------------------------------------------------------------------------------------+\n| Vp      | Values below 3000 should be eliminated, as these are linked to fractures in the samples.                                            |\n+---------+-------------------------------------------------------------------------------------------------------------------------------------+\n| Vs      | Values of 0 must be eliminated as they are not physically meaningful for solid samples. These values often coincide with anomalous  |\n|         | Vp values, indicating fractures.                                                                                                    |\n+---------+-------------------------------------------------------------------------------------------------------------------------------------+\n| Mag     | The anomaly of 93.9 should be deleted, as it exceeds the KT-20 measurement range.                                                   |\n+---------+-------------------------------------------------------------------------------------------------------------------------------------+\n| Ip      | No strong reasons to discard outliers.                                                                                              |\n+---------+-------------------------------------------------------------------------------------------------------------------------------------+\n| Res     | No strong reasons to discard outliers.                                                                                              |\n+---------+-------------------------------------------------------------------------------------------------------------------------------------+\n\n"
      ]
    },
    {
      "cell_type": "markdown",
      "metadata": {},
      "source": [
        "## Next Steps for Data Cleaning\nThe next step is part of what is known as data mining, which involves cleaning the false anomalies and filling the gaps in the data. Specific steps will be:\n\n* Record the positions of the original NaNs.\n* Record the positions and values of the anomalies to be deleted.\n* Delete the anomalies.\n* Fill all NaNs, both original and those resulting from anomaly deletions, using different methods (linear, nonlinear models, imputations, ML models).\n* Compare the effectiveness of different gap-filling methods.\n* Use the best option to fill in gaps and deliver corrected petrophysical data for further investigation.\n\n"
      ]
    },
    {
      "cell_type": "markdown",
      "metadata": {},
      "source": [
        "## References\n\n- https://www.engineeringtoolbox.com/sound-speed-water-d_598.html\n- https://www.eoas.ubc.ca/courses/eosc350/content/foundations/properties/magsuscept.htm#:~:text=In%20rocks%2C%20susceptibility%20is%20mainly,trace%20amounts%20in%20most%20sediments.\n- Reynolds, J. 2011. An Introduction to Applied and Environmental Geophysics. John Wiley & Sons. 2nd Edition. 696 p.\n\n"
      ]
    }
  ],
  "metadata": {
    "kernelspec": {
      "display_name": "Python 3",
      "language": "python",
      "name": "python3"
    },
    "language_info": {
      "codemirror_mode": {
        "name": "ipython",
        "version": 3
      },
      "file_extension": ".py",
      "mimetype": "text/x-python",
      "name": "python",
      "nbconvert_exporter": "python",
      "pygments_lexer": "ipython3",
      "version": "3.10.12"
    }
  },
  "nbformat": 4,
  "nbformat_minor": 0
}