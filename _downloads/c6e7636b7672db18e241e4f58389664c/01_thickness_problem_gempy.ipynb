{
  "cells": [
    {
      "cell_type": "code",
      "execution_count": null,
      "metadata": {
        "collapsed": false
      },
      "outputs": [],
      "source": [
        "%matplotlib inline\nfrom pyvista import set_plot_theme\nset_plot_theme('document')"
      ]
    },
    {
      "cell_type": "markdown",
      "metadata": {},
      "source": [
        "\n# 2.2 - Including GemPy\n\n## Complex probabilistic model\n"
      ]
    },
    {
      "cell_type": "code",
      "execution_count": null,
      "metadata": {
        "collapsed": false
      },
      "outputs": [],
      "source": [
        "import os\nimport numpy as np\nimport matplotlib.pyplot as plt\nimport torch\nimport pyro\nimport pyro.distributions as dist\nfrom pyro.infer import MCMC, NUTS, Predictive\nfrom pyro.infer.autoguide import init_to_mean\n\nimport gempy as gp\nimport gempy_engine\nimport gempy_viewer as gpv\nfrom gempy_engine.core.backend_tensor import BackendTensor\nimport arviz as az\nfrom gempy_probability.plot_posterior import default_red, default_blue\n\nfrom gempy_viewer.modules.plot_2d.drawer_contours_2d import plot_regular_grid_contacts\n\n# sphinx_gallery_thumbnail_number = -1"
      ]
    },
    {
      "cell_type": "markdown",
      "metadata": {},
      "source": [
        "Config\n\n"
      ]
    },
    {
      "cell_type": "code",
      "execution_count": null,
      "metadata": {
        "collapsed": false
      },
      "outputs": [],
      "source": [
        "seed = 123456\ntorch.manual_seed(seed)\npyro.set_rng_seed(seed)"
      ]
    },
    {
      "cell_type": "markdown",
      "metadata": {},
      "source": [
        "Set the data path\n\n"
      ]
    },
    {
      "cell_type": "code",
      "execution_count": null,
      "metadata": {
        "collapsed": false
      },
      "outputs": [],
      "source": [
        "data_path = os.path.abspath('../')"
      ]
    },
    {
      "cell_type": "markdown",
      "metadata": {},
      "source": [
        "Define a function for plotting geological settings with wells\n\n"
      ]
    },
    {
      "cell_type": "code",
      "execution_count": null,
      "metadata": {
        "collapsed": false
      },
      "outputs": [],
      "source": [
        "def plot_geo_setting_well(geo_model, alpha=1., show_lith=True):\n    \"\"\"\n    This function plots the geological settings along with the well locations.\n    It uses gempy_viewer to create 2D plots of the model.\n    \"\"\"\n    # Define well and device locations\n    device_loc = np.array([[6e3, 0, 3700]])\n    well_1 = 3.41e3\n    well_2 = 3.6e3\n\n    # Create a 2D plot\n    p2d = gpv.plot_2d(\n        geo_model,\n        show_topography=False,\n        legend=False,\n        show=False,\n        show_lith=show_lith,\n        kwargs_boundaries={'alpha': alpha}\n    )\n\n    # Add well and device markers to the plot\n    p2d.axes[0].scatter([3e3], [well_1], marker='^', s=400, c='#71a4b3', zorder=10)\n    p2d.axes[0].scatter([9e3], [well_2], marker='^', s=400, c='#71a4b3', zorder=10)\n    p2d.axes[0].scatter(device_loc[:, 0], device_loc[:, 2], marker='x', s=400, c='#DA8886', zorder=10)\n\n    # Add vertical lines to represent wells\n    p2d.axes[0].vlines(3e3, .5e3, well_1, linewidth=4, color='gray')\n    p2d.axes[0].vlines(9e3, .5e3, well_2, linewidth=4, color='gray')\n\n    # Show the plot\n    p2d.fig.show()\n    return p2d"
      ]
    },
    {
      "cell_type": "markdown",
      "metadata": {},
      "source": [
        "## Creating the Geological Model\nHere we create a geological model using GemPy. The model defines the spatial extent,\nresolution, and geological information derived from orientations and surface points data.\n\n"
      ]
    },
    {
      "cell_type": "code",
      "execution_count": null,
      "metadata": {
        "collapsed": false
      },
      "outputs": [],
      "source": [
        "geo_model = gp.create_geomodel(\n    project_name='Wells',\n    extent=[0, 12000, -500, 500, 0, 4000],\n    resolution=[100, 2, 100],\n    # refinement=1,\n    importer_helper=gp.data.ImporterHelper(\n        path_to_orientations=data_path + \"/data/2-layers/2-layers_orientations.csv\",\n        path_to_surface_points=data_path + \"/data/2-layers/2-layers_surface_points.csv\"\n    )\n)"
      ]
    },
    {
      "cell_type": "markdown",
      "metadata": {},
      "source": [
        "## Configuring the Model\nWe configure the interpolation options for the geological model. \nThese options determine how the model interpolates between data points.\n\n"
      ]
    },
    {
      "cell_type": "code",
      "execution_count": null,
      "metadata": {
        "collapsed": false
      },
      "outputs": [],
      "source": [
        "geo_model.interpolation_options.uni_degree = 1\ngeo_model.interpolation_options.mesh_extraction = False\ngeo_model.interpolation_options.sigmoid_slope = 1000  # ! Temporary fix to set the hard sigmoid"
      ]
    },
    {
      "cell_type": "markdown",
      "metadata": {},
      "source": [
        "## Setting up a Custom Grid\nA custom grid is set for the model, defining specific points in space\nwhere geological formations will be evaluated.\n\n"
      ]
    },
    {
      "cell_type": "code",
      "execution_count": null,
      "metadata": {
        "collapsed": false
      },
      "outputs": [],
      "source": [
        "x_loc = 6000\ny_loc = 0\nz_loc = np.linspace(0, 4000, 100)\nxyz_coord = np.array([[x_loc, y_loc, z] for z in z_loc])\ngp.set_custom_grid(geo_model.grid, xyz_coord=xyz_coord)"
      ]
    },
    {
      "cell_type": "markdown",
      "metadata": {},
      "source": [
        "## Plotting the Initial Geological Setting\nBefore running any probabilistic analysis, we first visualize the initial geological setting.\nThis step ensures that our model is correctly set up with the initial data.\n\n"
      ]
    },
    {
      "cell_type": "code",
      "execution_count": null,
      "metadata": {
        "collapsed": false
      },
      "outputs": [],
      "source": [
        "# Plot initial geological settings\nplot_geo_setting_well(geo_model=geo_model)"
      ]
    },
    {
      "cell_type": "markdown",
      "metadata": {},
      "source": [
        "## Interpolating the Initial Guess\nThe model interpolates an initial guess for the geological formations.\nThis step is crucial to provide a starting point for further probabilistic analysis.\n\n"
      ]
    },
    {
      "cell_type": "code",
      "execution_count": null,
      "metadata": {
        "collapsed": false
      },
      "outputs": [],
      "source": [
        "gp.compute_model(\n    gempy_model=geo_model,\n    engine_config=gp.data.GemPyEngineConfig(backend=gp.data.AvailableBackends.numpy)\n)\nplot_geo_setting_well(geo_model=geo_model)"
      ]
    },
    {
      "cell_type": "markdown",
      "metadata": {},
      "source": [
        "## Probabilistic Geomodeling with Pyro\nIn this section, we introduce a probabilistic approach to geological modeling.\nBy using Pyro, a probabilistic programming language, we define a model that integrates\ngeological data with uncertainty quantification.\n\n"
      ]
    },
    {
      "cell_type": "code",
      "execution_count": null,
      "metadata": {
        "collapsed": false
      },
      "outputs": [],
      "source": [
        "sp_coords_copy = geo_model.interpolation_input_copy.surface_points.sp_coords.copy()\n# Change the backend to PyTorch for probabilistic modeling\nBackendTensor.change_backend_gempy(engine_backend=gp.data.AvailableBackends.PYTORCH)"
      ]
    },
    {
      "cell_type": "markdown",
      "metadata": {},
      "source": [
        "## Defining the Probabilistic Model\nThe Pyro model represents the probabilistic aspects of the geological model.\nIt defines a prior distribution for the top layer's location and computes the thickness\nof the geological layer as an observed variable.\n\n"
      ]
    },
    {
      "cell_type": "code",
      "execution_count": null,
      "metadata": {
        "collapsed": false
      },
      "outputs": [],
      "source": [
        "def model(y_obs_list):\n    \"\"\"\n    This Pyro model represents the probabilistic aspects of the geological model.\n    It defines a prior distribution for the top layer's location and \n    computes the thickness of the geological layer as an observed variable.\n    \"\"\"\n    # Define prior for the top layer's location\n    prior_mean = sp_coords_copy[0, 2]\n    mu_top = pyro.sample(\n        name=r'$\\mu_{top}$',\n        fn=dist.Normal(prior_mean, torch.tensor(0.02, dtype=torch.float64))\n    )\n\n    # Update the model with the new top layer's location\n    interpolation_input = geo_model.interpolation_input_copy\n    interpolation_input.surface_points.sp_coords = torch.index_put(\n        interpolation_input.surface_points.sp_coords,\n        (torch.tensor([0]), torch.tensor([2])),\n        mu_top\n    )\n\n    # Compute the geological model\n    geo_model.solutions = gempy_engine.compute_model(\n        interpolation_input=interpolation_input,\n        options=geo_model.interpolation_options,\n        data_descriptor=geo_model.input_data_descriptor,\n        geophysics_input=geo_model.geophysics_input,\n    )\n\n    # Compute and observe the thickness of the geological layer\n    simulated_well = geo_model.solutions.octrees_output[0].last_output_center.custom_grid_values\n    thickness = simulated_well.sum()\n    pyro.deterministic(r'$\\mu_{thickness}$', thickness.detach())\n    y_thickness = pyro.sample(r'$y_{thickness}$', dist.Normal(thickness, 50), obs=y_obs_list)"
      ]
    },
    {
      "cell_type": "markdown",
      "metadata": {},
      "source": [
        "## Running Prior Sampling and Visualization\nPrior sampling is an essential step in probabilistic modeling. \nIt helps in understanding the distribution of our prior assumptions before observing any data.\n\n"
      ]
    },
    {
      "cell_type": "markdown",
      "metadata": {},
      "source": [
        "Prepare observation data\n\n"
      ]
    },
    {
      "cell_type": "code",
      "execution_count": null,
      "metadata": {
        "collapsed": false
      },
      "outputs": [],
      "source": [
        "y_obs_list = torch.tensor([200, 210, 190])"
      ]
    },
    {
      "cell_type": "markdown",
      "metadata": {},
      "source": [
        "Run prior sampling and visualization\n\n"
      ]
    },
    {
      "cell_type": "code",
      "execution_count": null,
      "metadata": {
        "collapsed": false
      },
      "outputs": [],
      "source": [
        "prior = Predictive(model, num_samples=50)(y_obs_list)\ndata = az.from_pyro(prior=prior)\naz.plot_trace(data.prior)\nplt.show()"
      ]
    },
    {
      "cell_type": "markdown",
      "metadata": {},
      "source": [
        "## Sampling from the Posterior using MCMC\nWe use Markov Chain Monte Carlo (MCMC) with the NUTS (No-U-Turn Sampler) algorithm \nto sample from the posterior distribution. This gives us an understanding of the \ndistribution of our model parameters after considering the observed data.\n\n"
      ]
    },
    {
      "cell_type": "markdown",
      "metadata": {},
      "source": [
        "Run MCMC using NUTS to sample from the posterior\n\n"
      ]
    },
    {
      "cell_type": "code",
      "execution_count": null,
      "metadata": {
        "collapsed": false
      },
      "outputs": [],
      "source": [
        "# Magic sauce\nfrom gempy_engine.core.backend_tensor import BackendTensor\n\n# import gempy_engine.config\n# config.DEFAULT_PYKEOPS = False\nBackendTensor._change_backend(\n    engine_backend=gp.data.AvailableBackends.PYTORCH,\n    dtype=\"float64\",\n    pykeops_enabled=False\n)\n\npyro.primitives.enable_validation(is_validate=True)\nnuts_kernel = NUTS(model, step_size=0.0085, adapt_step_size=True, target_accept_prob=0.9, max_tree_depth=10, init_strategy=init_to_mean)\nmcmc = MCMC(nuts_kernel, num_samples=200, warmup_steps=50)\nmcmc.run(y_obs_list)"
      ]
    },
    {
      "cell_type": "markdown",
      "metadata": {},
      "source": [
        "## Posterior Predictive Checks\nAfter obtaining the posterior samples, we perform posterior predictive checks.\nThis step is crucial to evaluate the performance and validity of our probabilistic model.\n\n"
      ]
    },
    {
      "cell_type": "markdown",
      "metadata": {},
      "source": [
        "Sample from posterior predictive and visualize\n\n"
      ]
    },
    {
      "cell_type": "code",
      "execution_count": null,
      "metadata": {
        "collapsed": false
      },
      "outputs": [],
      "source": [
        "posterior_samples = mcmc.get_samples()\nposterior_predictive = Predictive(model, posterior_samples)(y_obs_list)\ndata = az.from_pyro(posterior=mcmc, prior=prior, posterior_predictive=posterior_predictive)\naz.plot_trace(data)\nplt.show()"
      ]
    },
    {
      "cell_type": "markdown",
      "metadata": {},
      "source": [
        "## Density Plot of Posterior Predictive\nA density plot provides a visual representation of the distribution of the \nposterior predictive checks. It helps in comparing the prior and posterior distributions \nand in assessing the impact of our observed data on the model.\n\n"
      ]
    },
    {
      "cell_type": "markdown",
      "metadata": {},
      "source": [
        "Plot density of posterior predictive and prior predictive\n\n"
      ]
    },
    {
      "cell_type": "code",
      "execution_count": null,
      "metadata": {
        "collapsed": false
      },
      "outputs": [],
      "source": [
        "az.plot_density(\n    data=[data.posterior_predictive, data.prior_predictive],\n    shade=.9,\n    var_names=[r'$\\mu_{thickness}$'],\n    data_labels=[\"Posterior Predictive\", \"Prior Predictive\"],\n    colors=[default_red, default_blue],\n)\nplt.show()"
      ]
    },
    {
      "cell_type": "markdown",
      "metadata": {},
      "source": [
        "Plot spagetti\n\n"
      ]
    },
    {
      "cell_type": "code",
      "execution_count": null,
      "metadata": {
        "collapsed": false
      },
      "outputs": [],
      "source": [
        "p2d = plot_geo_setting_well(geo_model, alpha=0.1, show_lith=False)\nfor i in range(0,199,5):\n    gp.modify_surface_points(\n        geo_model=geo_model,\n        slice=0,\n        Z= geo_model.input_transform.apply_inverse(\n            points=np.array([[0, 0, data.posterior[r'$\\mu_{top}$'][0][i].item()]]))[0,2]\n    )\n\n    gp.compute_model(geo_model)\n\n    plot_regular_grid_contacts(\n        gempy_model=geo_model,\n        ax=p2d.axes[0],\n        slicer_data=p2d.section_data_list[0].slicer_data,\n        resolution=geo_model.grid.regular_grid.resolution,\n        only_faults=False,\n        kwargs={'alpha': 0.1}\n    )\n\np2d.fig.show()\n\n# sphinx_gallery_thumbnail_number = 2"
      ]
    }
  ],
  "metadata": {
    "kernelspec": {
      "display_name": "Python 3",
      "language": "python",
      "name": "python3"
    },
    "language_info": {
      "codemirror_mode": {
        "name": "ipython",
        "version": 3
      },
      "file_extension": ".py",
      "mimetype": "text/x-python",
      "name": "python",
      "nbconvert_exporter": "python",
      "pygments_lexer": "ipython3",
      "version": "3.10.12"
    }
  },
  "nbformat": 4,
  "nbformat_minor": 0
}