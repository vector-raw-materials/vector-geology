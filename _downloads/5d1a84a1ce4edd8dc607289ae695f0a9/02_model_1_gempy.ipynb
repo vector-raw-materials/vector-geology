{
  "cells": [
    {
      "cell_type": "code",
      "execution_count": null,
      "metadata": {
        "collapsed": false
      },
      "outputs": [],
      "source": [
        "%matplotlib inline\nfrom pyvista import set_plot_theme\nset_plot_theme('document')"
      ]
    },
    {
      "cell_type": "markdown",
      "metadata": {},
      "source": [
        "\n# Construct Model 1 with Helper Functions\n\nThis example demonstrates how to construct a 3D geological model of the Model 1 deposit using GemPy. \nIt leverages custom APIs to streamline the modeling process.\n"
      ]
    },
    {
      "cell_type": "code",
      "execution_count": null,
      "metadata": {
        "collapsed": false
      },
      "outputs": [],
      "source": [
        "import time\nimport os\nimport xarray as xr\nfrom dotenv import dotenv_values\nimport gempy as gp\nimport gempy_viewer as gpv\n\nfrom vector_geology.model_1_builder import initialize_geo_model\nfrom vector_geology.omf_to_gempy import process_file"
      ]
    },
    {
      "cell_type": "markdown",
      "metadata": {},
      "source": [
        "Start the timer to measure execution time\n\n"
      ]
    },
    {
      "cell_type": "code",
      "execution_count": null,
      "metadata": {
        "collapsed": false
      },
      "outputs": [],
      "source": [
        "start_time = time.time()"
      ]
    },
    {
      "cell_type": "markdown",
      "metadata": {},
      "source": [
        "Load environment variables and path configurations\nThis step is crucial for setting up the directory paths for the model data.\n\n"
      ]
    },
    {
      "cell_type": "code",
      "execution_count": null,
      "metadata": {
        "collapsed": false
      },
      "outputs": [],
      "source": [
        "config = dotenv_values()\npath = config.get(\"PATH_TO_MODEL_1_Subsurface\")"
      ]
    },
    {
      "cell_type": "markdown",
      "metadata": {},
      "source": [
        "Initialize lists to store data\nHere we prepare the containers for the structural elements and the global extent.\n\n"
      ]
    },
    {
      "cell_type": "code",
      "execution_count": null,
      "metadata": {
        "collapsed": false
      },
      "outputs": [],
      "source": [
        "structural_elements = []\nglobal_extent = None\ncolor_gen = gp.data.ColorsGenerator()"
      ]
    },
    {
      "cell_type": "markdown",
      "metadata": {},
      "source": [
        "Process each .nc file in the specified directory\nThis loop reads the necessary data from each .nc file for modeling.\n\n"
      ]
    },
    {
      "cell_type": "code",
      "execution_count": null,
      "metadata": {
        "collapsed": false
      },
      "outputs": [],
      "source": [
        "for filename in os.listdir(path):\n    base, ext = os.path.splitext(filename)\n    if ext == '.nc':\n        structural_element, global_extent = process_file(os.path.join(path, filename), global_extent, color_gen)\n        structural_elements.append(structural_element)"
      ]
    },
    {
      "cell_type": "markdown",
      "metadata": {},
      "source": [
        "Initialize the GemPy model\nWe use the data processed above to initialize the geological model with GemPy.\n\n"
      ]
    },
    {
      "cell_type": "code",
      "execution_count": null,
      "metadata": {
        "collapsed": false
      },
      "outputs": [],
      "source": [
        "geo_model = initialize_geo_model(\n    structural_elements=structural_elements,\n    extent=global_extent,\n    topography=(xr.open_dataset(os.path.join(path, \"Topography.nc\"))),\n    load_nuggets=True\n)"
      ]
    },
    {
      "cell_type": "markdown",
      "metadata": {},
      "source": [
        "Display the initialized model\nIt's helpful to print the model to verify its initialization.\n\n"
      ]
    },
    {
      "cell_type": "code",
      "execution_count": null,
      "metadata": {
        "collapsed": false
      },
      "outputs": [],
      "source": [
        "print(geo_model)"
      ]
    },
    {
      "cell_type": "markdown",
      "metadata": {},
      "source": [
        "Modify the interpolation options\nThis step configures the model's interpolation settings for better accuracy.\n\n"
      ]
    },
    {
      "cell_type": "code",
      "execution_count": null,
      "metadata": {
        "collapsed": false
      },
      "outputs": [],
      "source": [
        "interpolation_options = geo_model.interpolation_options\ninterpolation_options.mesh_extraction = True\ninterpolation_options.kernel_options.range = 0.7\ninterpolation_options.kernel_options.c_o = 3\ninterpolation_options.kernel_options.compute_condition_number = True"
      ]
    },
    {
      "cell_type": "markdown",
      "metadata": {},
      "source": [
        "Modify surface points\nAdjustments to the surface points can influence the resulting geological features.\n\n"
      ]
    },
    {
      "cell_type": "code",
      "execution_count": null,
      "metadata": {
        "collapsed": false
      },
      "outputs": [],
      "source": [
        "gp.modify_surface_points(\n    geo_model,\n    slice=0,\n    X=geo_model.surface_points_copy.data[0][0] + 130,\n)"
      ]
    },
    {
      "cell_type": "markdown",
      "metadata": {},
      "source": [
        "Compute the model\nThis is where the model computation happens, utilizing the GemPy engine.\n\n"
      ]
    },
    {
      "cell_type": "code",
      "execution_count": null,
      "metadata": {
        "collapsed": false
      },
      "outputs": [],
      "source": [
        "before_compute_time = time.time()\ngp.compute_model(\n    geo_model,\n    engine_config=gp.data.GemPyEngineConfig(\n        backend=gp.data.AvailableBackends.PYTORCH,\n        dtype=\"float32\"\n    ),\n)"
      ]
    },
    {
      "cell_type": "markdown",
      "metadata": {},
      "source": [
        "Plot 2D model visualization\nVisualizing the model in 2D helps in understanding the geological layers.\n\n"
      ]
    },
    {
      "cell_type": "code",
      "execution_count": null,
      "metadata": {
        "collapsed": false
      },
      "outputs": [],
      "source": [
        "gpv.plot_2d(geo_model, show_scalar=False)"
      ]
    },
    {
      "cell_type": "markdown",
      "metadata": {},
      "source": [
        "3D visualization with gempy_viewer\nA 3D view provides a comprehensive look at the model's structure.\n\n"
      ]
    },
    {
      "cell_type": "code",
      "execution_count": null,
      "metadata": {
        "collapsed": false
      },
      "outputs": [],
      "source": [
        "gempy_vista = gpv.plot_3d(\n    model=geo_model,\n    show=True,\n    kwargs_plot_structured_grid={'opacity': 0.8}\n)"
      ]
    },
    {
      "cell_type": "markdown",
      "metadata": {},
      "source": [
        "Calculate and print execution times\nIt's useful to know how long different parts of the process take.\n\n"
      ]
    },
    {
      "cell_type": "code",
      "execution_count": null,
      "metadata": {
        "collapsed": false
      },
      "outputs": [],
      "source": [
        "end_time = time.time()\nprep_time = before_compute_time - start_time\ncompute_time = end_time - before_compute_time\nexecution_time = end_time - start_time\n\nprint(f\"Preparation time: {prep_time} seconds.\")\nprint(f\"Computation time: {compute_time} seconds.\")\nprint(f\"Total execution time: {execution_time} seconds.\")\n\n# sphinx_gallery_thumbnail_number = -2"
      ]
    }
  ],
  "metadata": {
    "kernelspec": {
      "display_name": "Python 3",
      "language": "python",
      "name": "python3"
    },
    "language_info": {
      "codemirror_mode": {
        "name": "ipython",
        "version": 3
      },
      "file_extension": ".py",
      "mimetype": "text/x-python",
      "name": "python",
      "nbconvert_exporter": "python",
      "pygments_lexer": "ipython3",
      "version": "3.10.12"
    }
  },
  "nbformat": 4,
  "nbformat_minor": 0
}