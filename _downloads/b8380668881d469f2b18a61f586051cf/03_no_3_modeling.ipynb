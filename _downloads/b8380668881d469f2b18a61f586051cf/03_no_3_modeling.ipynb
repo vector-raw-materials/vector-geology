{
  "cells": [
    {
      "cell_type": "code",
      "execution_count": null,
      "metadata": {
        "collapsed": false
      },
      "outputs": [],
      "source": [
        "%matplotlib inline\nfrom pyvista import set_plot_theme\nset_plot_theme('document')"
      ]
    },
    {
      "cell_type": "markdown",
      "metadata": {},
      "source": [
        "\n# Modelling and Propagation of Legacy Petrophysical Data for Mining Exploration (3/3)\n**Modeling**\n\nBarcelona 25/09/24\nGEO3BCN\nManuel David Soto, Juan Alcalde, Adri\u00e0 Hern\u00e0ndez-Pineda, Ram\u00f3n Carbonel\n"
      ]
    },
    {
      "cell_type": "code",
      "execution_count": null,
      "metadata": {
        "collapsed": false
      },
      "outputs": [],
      "source": [
        "import dotenv\nimport os"
      ]
    },
    {
      "cell_type": "markdown",
      "metadata": {},
      "source": [
        "## Introduction\nThe dispersion and scarcity of petrophysical data are well-known challenges in the mining sector. These issues are primarily driven by economic factors, but also by geological (such as sedimentary cover, weathering, erosion, or the depth of targets), geotechnical (e.g., slope or borehole stability), and even technical limitations or availability that have been resolved in other industries (for instance, sonic logs were not previously acquired due to a lack of interest in velocity field data).\n\nTo address the challenge of sparse and incomplete petrophysical data in the mining sector we have developed three Jupyter notebooks that tackle these issues through a suite of open-source Python tools. These tools support researchers in the initial exploration, visualization, and integration of data from diverse sources, filling gaps caused by technical limitations and ultimately enabling the complete modeling of missing properties (through standard and more advanced ML-based models). We applied these tools to both, recently acquired and legacy petrophysical data of two cores northwest of Collinstown (County Westmeath, Province of Leinster), Ireland, located 26 km west-northwest of the Navan mine. However, these tools are adaptable and applicable to mining data from any location.\n\nAfter the exploratory data analysis (notebook 1/3) and filling the gaps in the petrophysical dataset of Collinstown (previous notebook 2/3), this third notebook is focused on modeling by Machine Learning (ML) algorithms entire missing variables, such as the Gamma Ray (GR) measurement, which is available in only one of the petrophysical boreholes. The tasks to perform in this notebook are:\n\n* Load and merge the legacy GR data of borehole TC-3660-008 into its petrophysical dataset.\n* Use the merged data to train and evaluate different ML algorithms capable of predicting GR data in other boreholes.\n* By using the trained best model, propagate the GR to the other petrophysical borehole.\n* Evaluate the possibility of propagating this (GR) or other properties to other boreholes with less available data.\n\nAs with the previous notebooks, these tasks are performed with open-source Python tools easily accessible by any researcher through a Python installation connected to the Internet.\n\n"
      ]
    },
    {
      "cell_type": "markdown",
      "metadata": {},
      "source": [
        "## Variables\nThe dataset used in this notebook is the imputed dataset from the previous notebook (2/3), *features3*. It contains the modelable petrophysical features of the two available boreholes; TC-1319-005 and TC-3660-008. Hole (text object) and Len (float) variables are for reference, Form (text object) is a categorical variable representing the Major Formations:\n\n+------+---------------------------------------------+--------+\n| Name | Explanation                                 | Unit   |\n+======+=============================================+========+\n| Hole | Hole name                                   | -      |\n+------+---------------------------------------------+--------+\n| From | Top of the sample                           | m      |\n+------+---------------------------------------------+--------+\n| Len  | Length of the core sample                   | cm     |\n+------+---------------------------------------------+--------+\n| Den  | Density                                     | g/cm\u00b3  |\n+------+---------------------------------------------+--------+\n| Vp   | Compressional velocity                      | m/s    |\n+------+---------------------------------------------+--------+\n| Vs   | Shear velocity                              | m/s    |\n+------+---------------------------------------------+--------+\n| Mag  | Magnetic susceptibility                     | -      |\n+------+---------------------------------------------+--------+\n| Ip   | Chargeability or induced polarization       | mv/V   |\n+------+---------------------------------------------+--------+\n| Res  | Resistivity                                 | ohm\u00b7m  |\n+------+---------------------------------------------+--------+\n| Form | Major formations or zone along the hole     | -      |\n+------+---------------------------------------------+--------+\n\nThe GR measurement from keyhole TC-3660-008 is the property we want to transfer to the other borehole, TC-1319-005. The challenge lies in the fact that both datasets have different ranges and intervals, and is not possible to make an ML model unless both datasets (new petrophysical features and legacy GR) are integrated into a single dataframe.\n\n"
      ]
    },
    {
      "cell_type": "markdown",
      "metadata": {},
      "source": [
        "## Libraries\nThe following are the Python libraries used along this notebook. PSL are Python Standard Libraries, UDL are User Defined Libraries, and PEL are Python External Libraries:\n\n"
      ]
    },
    {
      "cell_type": "markdown",
      "metadata": {},
      "source": [
        "PLS\n\n"
      ]
    },
    {
      "cell_type": "code",
      "execution_count": null,
      "metadata": {
        "collapsed": false
      },
      "outputs": [],
      "source": [
        "import sys\nimport warnings\n\n#UDL\nfrom vector_geology import basic_stat, geo\n\n# PEL- Basic\nimport numpy as np\nimport pandas as pd\nfrom tabulate import tabulate\nimport json\n\n# PEL - Plotting\nimport matplotlib.pyplot as plt\n\n# PEL - Filtering\nfrom scipy.signal import butter, filtfilt\n\n# # PEL - Data selection, transformation, preprocessing\nfrom sklearn.model_selection import train_test_split\nfrom sklearn.model_selection import cross_val_score\n\n# # PEL- ML algorithms\nfrom sklearn.linear_model import LinearRegression, Lasso, Ridge\nfrom sklearn.svm import SVR\nfrom sklearn.neighbors import KNeighborsRegressor\nfrom sklearn.ensemble import GradientBoostingRegressor\nfrom sklearn.tree import DecisionTreeRegressor\nfrom sklearn.ensemble import RandomForestRegressor\nimport xgboost as xgb\n\n# PEL - Metrics\nfrom sklearn.metrics import mean_squared_error, mean_absolute_error, r2_score\nfrom sklearn.metrics import make_scorer, mean_absolute_error, mean_squared_error"
      ]
    },
    {
      "cell_type": "markdown",
      "metadata": {},
      "source": [
        "## Settings\n\n"
      ]
    },
    {
      "cell_type": "markdown",
      "metadata": {},
      "source": [
        "Activation of qt GUI\nSeed of random process\n\n"
      ]
    },
    {
      "cell_type": "code",
      "execution_count": null,
      "metadata": {
        "collapsed": false
      },
      "outputs": [],
      "source": [
        "seed = 123\n\n# Warning suppression\nwarnings.filterwarnings(\"ignore\")"
      ]
    },
    {
      "cell_type": "markdown",
      "metadata": {},
      "source": [
        "## Data Loading\n\n"
      ]
    },
    {
      "cell_type": "markdown",
      "metadata": {},
      "source": [
        "features3, imputed features, data load\n\n"
      ]
    },
    {
      "cell_type": "code",
      "execution_count": null,
      "metadata": {
        "collapsed": false
      },
      "outputs": [],
      "source": [
        "features3 = pd.read_csv('Output/features3.csv', index_col=0)\nfeatures3.head()"
      ]
    },
    {
      "cell_type": "code",
      "execution_count": null,
      "metadata": {
        "collapsed": false
      },
      "outputs": [],
      "source": [
        "features3.describe()"
      ]
    },
    {
      "cell_type": "markdown",
      "metadata": {},
      "source": [
        "Columns in the features3\n\n"
      ]
    },
    {
      "cell_type": "code",
      "execution_count": null,
      "metadata": {
        "collapsed": false
      },
      "outputs": [],
      "source": [
        "features3.columns"
      ]
    },
    {
      "cell_type": "markdown",
      "metadata": {},
      "source": [
        "Imputed features of borehole TC-3660-008\n\n"
      ]
    },
    {
      "cell_type": "code",
      "execution_count": null,
      "metadata": {
        "collapsed": false
      },
      "outputs": [],
      "source": [
        "features3_8 = features3[features3.Hole=='TC-3660-008']\nfeatures3_8 = features3_8.reset_index(drop=True)\nfeatures3_8"
      ]
    },
    {
      "cell_type": "markdown",
      "metadata": {},
      "source": [
        "Depth information of feature3\n\n"
      ]
    },
    {
      "cell_type": "code",
      "execution_count": null,
      "metadata": {
        "collapsed": false
      },
      "outputs": [],
      "source": [
        "print('Petrophysical features of TC-360-008', '\\n')\nprint('Top:', features3_8.From[0])\nprint('Base:', features3_8.From[len(features3_8) - 1], '\\n')\n\nprint('Length:', len(features3_8))\nprint('Range:', features3_8.From[len(features3_8) - 1] - features3_8.From[0], '\\n')\nprint('First step: {:.1f}'.format(features3_8.From[1] - features3_8.From[0]))\n\n# Mean step\nsteps = []\nfor i in range(len(features3_8) - 1):\n    steps.append(features3_8.From[i+1] - features3_8.From[i])\nprint('Mean step: {:.2f}'.format(np.mean(steps)))"
      ]
    },
    {
      "cell_type": "markdown",
      "metadata": {},
      "source": [
        "Legacy GR data of different holes\n\n"
      ]
    },
    {
      "cell_type": "code",
      "execution_count": null,
      "metadata": {
        "collapsed": false
      },
      "outputs": [],
      "source": [
        "dotenv.load_dotenv()\nbase_path = os.getenv(\"PATH_TO_COLLINSTOWN_PETRO\")\ngr = pd.read_csv(f'{base_path}/collinstown_Gamma.csv')\ngr.head()"
      ]
    },
    {
      "cell_type": "markdown",
      "metadata": {},
      "source": [
        "Different holes in the legacy GR dataframe\n\n"
      ]
    },
    {
      "cell_type": "code",
      "execution_count": null,
      "metadata": {
        "collapsed": false
      },
      "outputs": [],
      "source": [
        "gr.HOLEID.unique()"
      ]
    },
    {
      "cell_type": "markdown",
      "metadata": {},
      "source": [
        "Legacy GR of borehole TC-3660-008\n\n"
      ]
    },
    {
      "cell_type": "code",
      "execution_count": null,
      "metadata": {
        "collapsed": false
      },
      "outputs": [],
      "source": [
        "gr8 = gr[gr.HOLEID == 'TC-3660-008'].reset_index(drop=True)\ngr8"
      ]
    },
    {
      "cell_type": "code",
      "execution_count": null,
      "metadata": {
        "collapsed": false
      },
      "outputs": [],
      "source": [
        "gr8.describe()"
      ]
    },
    {
      "cell_type": "markdown",
      "metadata": {},
      "source": [
        "Depth information of the legacy GR\n\n"
      ]
    },
    {
      "cell_type": "code",
      "execution_count": null,
      "metadata": {
        "collapsed": false
      },
      "outputs": [],
      "source": [
        "print('Legacy GR of TC-360-008', '\\n')\n\nprint('Top:', gr8.DEPTH[0])\nprint('Base:', gr8.DEPTH[len(gr8) - 1], '\\n')\n\nprint('Length:', len(gr8))\nprint('Range:', gr8.DEPTH[len(gr8) - 1] - gr8.DEPTH[2], '\\n')\n\nprint('First step: {:.1f}'.format(gr8.DEPTH[3] - gr8.DEPTH[2]))\n\n# Mean step\nsteps = []\nfor i in range(2, len(gr8) - 1):\n    steps.append(gr8.DEPTH[i+1] - gr8.DEPTH[i])\nprint('Mean step: {:.2f}'.format(np.mean(steps)))"
      ]
    },
    {
      "cell_type": "markdown",
      "metadata": {},
      "source": [
        "## Data Merging\nTo model a new GR in borehole TC-1319-005, the legacy GR (gr8) and petrophysical data of borehole TC-3660-008 (feature3_8) have to be integrated into a single dataframe, free of NaNs.\n\n### Depth Equalization\nThe first step in merging the process of the legacy GR into the petrophysical data of borehole TC-3660-008 is to equalize the depths of both dataframes by the use of conditional expressions:\n\n"
      ]
    },
    {
      "cell_type": "markdown",
      "metadata": {},
      "source": [
        "Equalizing depths in feature3\n\n"
      ]
    },
    {
      "cell_type": "code",
      "execution_count": null,
      "metadata": {
        "collapsed": false
      },
      "outputs": [],
      "source": [
        "features3_8 = features3_8[features3_8.From <= 830.8].reset_index(drop=True)\nfeatures3_8"
      ]
    },
    {
      "cell_type": "markdown",
      "metadata": {},
      "source": [
        "New depth information of feature3\n\n"
      ]
    },
    {
      "cell_type": "code",
      "execution_count": null,
      "metadata": {
        "collapsed": false
      },
      "outputs": [],
      "source": [
        "print('Petrophysical features of TC-360-008', '\\n')\nprint('Top:', features3_8.From[0])\nprint('Base:', features3_8.From[len(features3_8) - 1], '\\n')\n\nprint('Length:', len(features3_8))\nprint('Range:', features3_8.From[len(features3_8) - 1] - features3_8.From[0], '\\n')\nprint('First step: {:.1f}'.format(features3_8.From[1] - features3_8.From[0]))\n\n# Mean step\nsteps = []\nfor i in range(len(features3_8) - 1):\n    steps.append(features3_8.From[i+1] - features3_8.From[i])\nprint('Mean step: {:.2f}'.format(np.mean(steps)))"
      ]
    },
    {
      "cell_type": "markdown",
      "metadata": {},
      "source": [
        "Equalizing depths in the legacy GR\n\n"
      ]
    },
    {
      "cell_type": "code",
      "execution_count": null,
      "metadata": {
        "collapsed": false
      },
      "outputs": [],
      "source": [
        "gr8 = gr8[(gr8.DEPTH >= 9.6) & (gr8.DEPTH <= 828.8)].reset_index(drop=True)\ngr8"
      ]
    },
    {
      "cell_type": "markdown",
      "metadata": {},
      "source": [
        "New depth information of the legacy GR\n\n"
      ]
    },
    {
      "cell_type": "code",
      "execution_count": null,
      "metadata": {
        "collapsed": false
      },
      "outputs": [],
      "source": [
        "print('Legacy GR of TC-360-008', '\\n')\n\nprint('Top:', gr8.DEPTH[0])\nprint('Base:', gr8.DEPTH[len(gr8) - 1], '\\n')\n\nprint('Length:', len(gr8))\nprint('Range:', gr8.DEPTH[len(gr8) - 1] - gr8.DEPTH[2], '\\n')\n\nprint('First step: {:.1f}'.format(gr8.DEPTH[3] - gr8.DEPTH[2]))\n\n# Mean step\nsteps = []\nfor i in range(2, len(gr8) - 1):\n    steps.append(gr8.DEPTH[i+1] - gr8.DEPTH[i])\nprint('Mean step: {:.2f}'.format(np.mean(steps)))"
      ]
    },
    {
      "cell_type": "markdown",
      "metadata": {},
      "source": [
        "### Filtering and Dowsampling\n\n"
      ]
    },
    {
      "cell_type": "markdown",
      "metadata": {},
      "source": [
        "Now that the depths of the legacy GR and the petrophysical data of borehole TC-3660-008 have been equalized, the next challenge is to merge the legacy GR into the petrophysical data. This involves condensing the 8605 legacy GR values into a new petrophysical feature with 167 values that can be used in the models. This task has been archived by combining a Butterwort filter and a downsampling function, an ideal combination for data with fast fluctuation such as the GR log (only downsampling produces a very spiky result). The effect of the filter, downsampling, and filter followed by downsampling can be appreciated at the end of this section.\n\n"
      ]
    },
    {
      "cell_type": "markdown",
      "metadata": {},
      "source": [
        "Simplify the legacy GR\n\n"
      ]
    },
    {
      "cell_type": "code",
      "execution_count": null,
      "metadata": {
        "collapsed": false
      },
      "outputs": [],
      "source": [
        "gr8 = gr8[['DEPTH', 'GeoPhys_NGAM_API']]\ngr8"
      ]
    },
    {
      "cell_type": "markdown",
      "metadata": {},
      "source": [
        "Rename series in the legacy GR\n\n"
      ]
    },
    {
      "cell_type": "code",
      "execution_count": null,
      "metadata": {
        "collapsed": false
      },
      "outputs": [],
      "source": [
        "gr8 = gr8.rename(columns={'DEPTH':'depth', 'GeoPhys_NGAM_API':'gr'})\ngr8"
      ]
    },
    {
      "cell_type": "markdown",
      "metadata": {},
      "source": [
        "Downsampling the legacy GR but keeping the first and last value\n\n"
      ]
    },
    {
      "cell_type": "code",
      "execution_count": null,
      "metadata": {
        "collapsed": false
      },
      "outputs": [],
      "source": [
        "reduc = int((len(gr8)) / 165)\n\ngr8_middle = gr8.iloc[1:-1].iloc[::reduc, :]\ngr8_down = pd.concat([gr8.iloc[[0]], gr8_middle, gr8.iloc[[-1]]])\ngr8_down = gr8_down.sort_values('depth').reset_index(drop=True)\ngr8_down"
      ]
    },
    {
      "cell_type": "markdown",
      "metadata": {},
      "source": [
        "Butterworth filter on the legacy GR\n\n"
      ]
    },
    {
      "cell_type": "code",
      "execution_count": null,
      "metadata": {
        "collapsed": false
      },
      "outputs": [],
      "source": [
        "b, a = butter(N=2, Wn=0.02, btype='low')\nfiltered_gr = filtfilt(b, a, gr8.gr)\n\ngr8['gr_fil'] = filtered_gr\ngr8 = gr8.sort_values('depth').reset_index(drop=True)\ngr8"
      ]
    },
    {
      "cell_type": "markdown",
      "metadata": {},
      "source": [
        "Downsampling the filtered GR\n\n"
      ]
    },
    {
      "cell_type": "code",
      "execution_count": null,
      "metadata": {
        "collapsed": false
      },
      "outputs": [],
      "source": [
        "gr8_fil_down_middle = gr8.iloc[1:-1].iloc[::reduc, :]\ngr8_fil_down = pd.concat([gr8.iloc[[0]], gr8_fil_down_middle, gr8.iloc[[-1]]])\n\n# Sort by depth\ngr8_fil_down = gr8_fil_down.sort_values('depth').reset_index(drop=True)\ngr8_fil_down"
      ]
    },
    {
      "cell_type": "markdown",
      "metadata": {},
      "source": [
        "Plot of filter and/or downsampling\n\n"
      ]
    },
    {
      "cell_type": "code",
      "execution_count": null,
      "metadata": {
        "collapsed": false
      },
      "outputs": [],
      "source": [
        "plt.figure(figsize=(15, 8))\n\nplt.subplot(121)\nplt.plot(gr8.gr, gr8.depth, label='Original')\nplt.legend()\nplt.grid()\nplt.xlabel('GR (API)')\nplt.xlabel('Depth (m)')\nplt.axis([0, 120, 850, 0])\nplt.ylim(850, 0)\n\nplt.subplot(122)\nplt.plot(gr8_down.gr, gr8_down.depth, label='Down Samplig')\nplt.plot(gr8.gr_fil, gr8.depth, label='Butterworth Filtered')\nplt.plot(gr8_fil_down.gr_fil, gr8_fil_down.depth, label='Butterworth Filtered & Down Sampling')\nplt.legend()\nplt.grid()\nplt.xlabel('GR (API)')\nplt.xlabel('Depth (m)')\nplt.axis([0, 120, 850, 0])\nplt.ylim(850, 0)\n\nplt.suptitle('Borehole TC-3660-008 GR', y=0.98)\nplt.tight_layout()"
      ]
    },
    {
      "cell_type": "markdown",
      "metadata": {},
      "source": [
        "### Integrated Dataframe\nAs the downsampling gave 168 values, we dropped the central value to reach 167 (the length of the petrophysical dataset) and then fused the filter and downsampled GR into the petrophysical data of borehole TC-3660-008.\n\n"
      ]
    },
    {
      "cell_type": "markdown",
      "metadata": {},
      "source": [
        "Drop of central value in the filter and downsampled GR\n\n"
      ]
    },
    {
      "cell_type": "code",
      "execution_count": null,
      "metadata": {
        "collapsed": false
      },
      "outputs": [],
      "source": [
        "del_index = len(gr8_fil_down)//2\ngr8_fil_down = gr8_fil_down.drop(axis=0, index=del_index).reset_index(drop=True)\ngr8_fil_down"
      ]
    },
    {
      "cell_type": "markdown",
      "metadata": {},
      "source": [
        "Final integrated dataframe without NaNs\n\n"
      ]
    },
    {
      "cell_type": "code",
      "execution_count": null,
      "metadata": {
        "collapsed": false
      },
      "outputs": [],
      "source": [
        "features3_8['GR'] = gr8_fil_down.gr_fil\nfeatures3_8"
      ]
    },
    {
      "cell_type": "code",
      "execution_count": null,
      "metadata": {
        "collapsed": false
      },
      "outputs": [],
      "source": [
        "features3_8.info()"
      ]
    },
    {
      "cell_type": "markdown",
      "metadata": {},
      "source": [
        "## Modeling\nHaving the GR already integrated into the petrophysical data of borehole TC-3660-008 we are ready for modeling, which involves a regression analysis to generate predictive numerical outputs. The steps required are: \n\n* Split the data for training and test or evaluation\n* Select and run the regression models\n* Test or evaluate the results of the different models\n* With the best ML algorithm, generate a synthetic GR for borehole TC-1319-005 \n\n"
      ]
    },
    {
      "cell_type": "markdown",
      "metadata": {},
      "source": [
        "### Data Split\nHere we selected the petrophysical features and target (GR) in borehole TC-3660-008 for modeling, leaving 20% (34) of them aside for testing or evaluation of the regression algorithms.\n\n"
      ]
    },
    {
      "cell_type": "markdown",
      "metadata": {},
      "source": [
        "features for modeling\n\n"
      ]
    },
    {
      "cell_type": "code",
      "execution_count": null,
      "metadata": {
        "collapsed": false
      },
      "outputs": [],
      "source": [
        "features_model_8 = features3_8.drop(columns=['Hole', 'Len', 'Form', 'GR'])\nprint(features_model_8.shape)\nfeatures_model_8.head()"
      ]
    },
    {
      "cell_type": "markdown",
      "metadata": {},
      "source": [
        "target or objetive\n\n"
      ]
    },
    {
      "cell_type": "code",
      "execution_count": null,
      "metadata": {
        "collapsed": false
      },
      "outputs": [],
      "source": [
        "target_8 = features3_8.GR\ntarget_8"
      ]
    },
    {
      "cell_type": "markdown",
      "metadata": {},
      "source": [
        "Split and shape of data for training and testing\n\n"
      ]
    },
    {
      "cell_type": "code",
      "execution_count": null,
      "metadata": {
        "collapsed": false
      },
      "outputs": [],
      "source": [
        "X_train, X_test, y_train, y_test = train_test_split(features_model_8, target_8, test_size=0.2, random_state=seed)\n\n# X_train = np.array(X_train).flatten()\n# y_train = np.array(y_train).flatten()\n\nprint('X_train shape:', X_train.shape)\nprint('y_train shape:', y_train.shape)\n\nprint('X_test shape:', X_test.shape)\nprint('y_test shape:', y_test.shape)"
      ]
    },
    {
      "cell_type": "markdown",
      "metadata": {},
      "source": [
        "Regression Models\n +++++++++++++++++\nIn this analysis, we trained and evaluated nine regression models, some of which are influenced by random processes (those using the `random_state=seed` argument). After testing with different seed values (e.g., 123, 456, 789), we observed variations in the top-performing model, typically alternating between Gradient Boosting, Extreme Gradient Boosting, and Random Forest. To mitigate this variability and ensure a more reliable evaluation, we implemented cross-validation for the calculation of the metrics.\n\n"
      ]
    },
    {
      "cell_type": "markdown",
      "metadata": {},
      "source": [
        "Regression models and metrics with a fixed seed\n\n"
      ]
    },
    {
      "cell_type": "code",
      "execution_count": null,
      "metadata": {
        "collapsed": false
      },
      "outputs": [],
      "source": [
        "seed = 123\n\nmodels = []\n\nmodels.append(('LR', LinearRegression()))\nmodels.append(('L', Lasso()))\nmodels.append(('R', Ridge()))\nmodels.append(('SVR', SVR()))\nmodels.append(('KNR', KNeighborsRegressor()))\nmodels.append(('GB', GradientBoostingRegressor(random_state=seed)))\nmodels.append(('DTR', DecisionTreeRegressor(random_state=seed)))\nmodels.append(('RFR', RandomForestRegressor(random_state=seed)))\nmodels.append(('XGB', xgb.XGBRegressor(objective ='reg:squarederror')))\n\nheaders = ['Model', 'Sum  of Residuals', 'MAE', 'MSE', 'RMSE', 'R2']\nrows = []\n\nfor name, model in models:\n    model.fit(X_train, y_train)\n    predict = model.predict(X_test)\n    \n    sum_residual = sum(y_test - predict)\n    mae = mean_absolute_error(y_test, predict)\n    mse = mean_squared_error(y_test, predict)\n    rmse = np.sqrt(mse)\n    score = model.score(X_test, y_test)\n    \n    rows.append([name, sum_residual, mae, mse, rmse, score])\n\nprint('Seed:', seed)\nprint(tabulate(rows, headers=headers, tablefmt=\"fancy_outline\"))"
      ]
    },
    {
      "cell_type": "markdown",
      "metadata": {},
      "source": [
        "Regression models and metrics with a fixed seed and cross-validation\n\n"
      ]
    },
    {
      "cell_type": "code",
      "execution_count": null,
      "metadata": {
        "collapsed": false
      },
      "outputs": [],
      "source": [
        "seed = 123\n\nmodels = []\n\nmodels.append(('LR', LinearRegression()))\nmodels.append(('L', Lasso()))\nmodels.append(('R', Ridge()))\nmodels.append(('SVR', SVR()))\nmodels.append(('KNR', KNeighborsRegressor()))\nmodels.append(('GB', GradientBoostingRegressor(random_state=seed)))\nmodels.append(('DTR', DecisionTreeRegressor(random_state=seed)))\nmodels.append(('RFR', RandomForestRegressor(random_state=seed)))\nmodels.append(('XGB', xgb.XGBRegressor(objective ='reg:squarederror')))\n\nheaders = ['Model', 'MAE', 'MSE', 'RMSE', 'R2']\nrows = []\n\nn_folds = 5\n\nrmse_scorer = make_scorer(lambda y_true, y_pred: np.sqrt(mean_squared_error(y_true, y_pred)))\n\nfor name, model in models:\n    scores_mae = cross_val_score(model, X_train, y_train, cv=n_folds, scoring='neg_mean_absolute_error')\n    scores_mse = cross_val_score(model, X_train, y_train, cv=n_folds, scoring='neg_mean_squared_error')\n    scores_rmse = cross_val_score(model, X_train, y_train, cv=n_folds, scoring=rmse_scorer)\n    scores_r2 = cross_val_score(model, X_train, y_train, cv=n_folds, scoring='r2')\n    \n    mae = -np.mean(scores_mae)\n    mse = -np.mean(scores_mse)\n    rmse = np.mean(scores_rmse)\n    r2 = np.mean(scores_r2)\n    \n    rows.append([name, mae, mse, rmse, r2])\n\nprint('Seed:', seed)\nprint(tabulate(rows, headers=headers, tablefmt=\"fancy_outline\"))"
      ]
    },
    {
      "cell_type": "markdown",
      "metadata": {},
      "source": [
        "### Best Regression Model\nAfter applying cross-validation, Linear Regression (LR) emerged as the top-performing model with an R\u00b2 of 0.265, followed by Ridge Regression (R) with an R\u00b2 of 0.256, and Lasso Regression (L) with an R\u00b2 of 0.247.\n\nNext, we selected features from borehole C-1319-005 to predict GR, based on the best model trained on borehole TC-3660-008. The chosen model is LR, with additional predictions generated using XGB.\n\n"
      ]
    },
    {
      "cell_type": "markdown",
      "metadata": {},
      "source": [
        "Petrophysical features of borehole TC-1319-005\n\n"
      ]
    },
    {
      "cell_type": "code",
      "execution_count": null,
      "metadata": {
        "collapsed": false
      },
      "outputs": [],
      "source": [
        "features3_5 = features3[features3.Hole=='TC-1319-005']\nfeatures3_5 = features3_5.reset_index(drop=True)\nfeatures3_5"
      ]
    },
    {
      "cell_type": "markdown",
      "metadata": {},
      "source": [
        "Petrophysical features of borehole TC-1319-005 for modeling\n\n"
      ]
    },
    {
      "cell_type": "code",
      "execution_count": null,
      "metadata": {
        "collapsed": false
      },
      "outputs": [],
      "source": [
        "features_model_5 = features3_5.drop(columns=['Hole', 'Len', 'Form'])\nprint(features_model_5.shape)\nfeatures_model_5.head()"
      ]
    },
    {
      "cell_type": "markdown",
      "metadata": {},
      "source": [
        "GR by Linear Regressor\n\n"
      ]
    },
    {
      "cell_type": "code",
      "execution_count": null,
      "metadata": {
        "collapsed": false
      },
      "outputs": [],
      "source": [
        "lr_model = LinearRegression()\nlr_model.fit(X_train, y_train)\n\ngr5_lr = lr_model.predict(features_model_5)\ngr5_lr"
      ]
    },
    {
      "cell_type": "markdown",
      "metadata": {},
      "source": [
        "GR by Extreme Gradient Boosting Regressor\n\n"
      ]
    },
    {
      "cell_type": "code",
      "execution_count": null,
      "metadata": {
        "collapsed": false
      },
      "outputs": [],
      "source": [
        "xgb_model = xgb.XGBRegressor(objective ='reg:squarederror')\nxgb_model.fit(X_train, y_train)\n\ngr5_xgb = xgb_model.predict(features_model_5)\ngr5_xgb"
      ]
    },
    {
      "cell_type": "markdown",
      "metadata": {},
      "source": [
        "Merge the two synthetic GRs into the petrophysical data of borehole TC-1319-005\n\n"
      ]
    },
    {
      "cell_type": "code",
      "execution_count": null,
      "metadata": {
        "collapsed": false
      },
      "outputs": [],
      "source": [
        "features3_5['GR_lr'], features3_5['GR_xgb']  = gr5_lr, gr5_xgb\nfeatures3_5"
      ]
    },
    {
      "cell_type": "markdown",
      "metadata": {},
      "source": [
        "There are no NaNs in the merge data of borehole TC-1319-005\n\n"
      ]
    },
    {
      "cell_type": "code",
      "execution_count": null,
      "metadata": {
        "collapsed": false
      },
      "outputs": [],
      "source": [
        "features3_5.info()"
      ]
    },
    {
      "cell_type": "markdown",
      "metadata": {},
      "source": [
        "## Understanding the Model\nBeyond determining which regression model performs better, it is important to examine the coefficients of the Linear Regression (LR) model to understand the relative importance and influence of each feature. The magnitude and sign of these coefficients reveal which features contribute most to the target, whether positively or negatively.\n\nThe table and plot below (negative coefficients were inverted for the logarithm, and colored in red) show that Den has a strong negative impact, while Mag has a significant positive effect. In contrast, Vp, Vs, and Ip have much smaller impacts, and the influence of Res is insignificant. The intercept represents the baseline value when all features are zero.\n\n"
      ]
    },
    {
      "cell_type": "code",
      "execution_count": null,
      "metadata": {
        "collapsed": false
      },
      "outputs": [],
      "source": [
        "X_train"
      ]
    },
    {
      "cell_type": "markdown",
      "metadata": {},
      "source": [
        "Linear regressor coefficients\n\n"
      ]
    },
    {
      "cell_type": "code",
      "execution_count": null,
      "metadata": {
        "collapsed": false
      },
      "outputs": [],
      "source": [
        "lr_model = LinearRegression()\nlr_model.fit(X_train, y_train)\n\nprint('Features:', X_train.columns, '\\n')\nprint(\"Coeficientes:\", lr_model.coef_, '\\n')\nprint(\"Intercepto:\", lr_model.intercept_)"
      ]
    },
    {
      "cell_type": "markdown",
      "metadata": {},
      "source": [
        "Linear regressor coefficients in table\n\n"
      ]
    },
    {
      "cell_type": "code",
      "execution_count": null,
      "metadata": {
        "collapsed": false
      },
      "outputs": [],
      "source": [
        "features_list = list(X_train.columns)\nfeatures_list.append('Intercepto')\n\ncoef_list = list(lr_model.coef_)\ncoef_list.append(lr_model.intercept_)\n\ntable = list(zip(features_list, coef_list))\nprint(tabulate(table, headers=['Feature', 'Coefficient'], tablefmt=\"fancy_outline\"))"
      ]
    },
    {
      "cell_type": "markdown",
      "metadata": {},
      "source": [
        "Linear regressor coefficients in linear and log10 plot\n\n"
      ]
    },
    {
      "cell_type": "code",
      "execution_count": null,
      "metadata": {
        "collapsed": false
      },
      "outputs": [],
      "source": [
        "plt.figure(figsize=(13,5))\n\nplt.subplot(121)\nplt.bar(features_list, (coef_list), label='Positive')\nplt.bar(features_list[1], (coef_list[1]), color='r', label='negative')\nplt.legend()\nplt.ylabel('Coeficients')\nplt.grid()\n\nplt.subplot(122)\nplt.bar(features_list, np.log10(coef_list))\nplt.bar(features_list[1], np.log10(-coef_list[1]), color='r')\nplt.bar(features_list[3], np.log10(-coef_list[3]), color='r')\nplt.ylabel('Log10[Coeficients]')\nplt.grid()\n\nplt.tight_layout;"
      ]
    },
    {
      "cell_type": "markdown",
      "metadata": {},
      "source": [
        "## Graphic Comparison\nThe legacy GR data and major formation tops from borehole TC-3660-008 were integrated in the first notebook (1/3), provide a reference for comparing the new ML-generated GRs in borehole TC-1319-005. While the Linear Regression (LR) model achieved a higher R\u00b2 score, the GR predictions generated by the XGB model (with an R\u00b2 of only 0.170) more closely follow the patterns observed in the reference borehole TC-3660-008.\n\nThe original and ML-generated GRs are presented in the plot at the end of the section. To make the comparison easier between both ML-generated GRs, the GR generated by the XGB algorithm (in orange) was displayed to the right by adding 40 API units.\n\n"
      ]
    },
    {
      "cell_type": "markdown",
      "metadata": {},
      "source": [
        "Load of tops from borehole TC-3660-008\n\n"
      ]
    },
    {
      "cell_type": "code",
      "execution_count": null,
      "metadata": {
        "collapsed": false
      },
      "outputs": [],
      "source": [
        "# Leer el archivo JSON\nwith open(f'{base_path}/tops_list_8.json', 'r') as json_file:\n    tops_list_8 = json.load(json_file)\n\ntops_list_8"
      ]
    },
    {
      "cell_type": "markdown",
      "metadata": {},
      "source": [
        "Tops in borehole TC-1319-005\n\n"
      ]
    },
    {
      "cell_type": "code",
      "execution_count": null,
      "metadata": {
        "collapsed": false
      },
      "outputs": [],
      "source": [
        "features3_5.Form.unique()"
      ]
    },
    {
      "cell_type": "markdown",
      "metadata": {},
      "source": [
        "Extraction of top depths in borehole TC-1319-005\n\n"
      ]
    },
    {
      "cell_type": "code",
      "execution_count": null,
      "metadata": {
        "collapsed": false
      },
      "outputs": [],
      "source": [
        "tops5 = pd.DataFrame(features3_5.From[features3_5.Form.ne(features3_5.Form.shift())])\ntops5"
      ]
    },
    {
      "cell_type": "markdown",
      "metadata": {},
      "source": [
        "Extraction tops names in borehole TC-1319-005\n\n"
      ]
    },
    {
      "cell_type": "code",
      "execution_count": null,
      "metadata": {
        "collapsed": false
      },
      "outputs": [],
      "source": [
        "tops5['Top'] = features3_5.Form[features3_5.Form.ne(features3_5.Form.shift())]\ntops5"
      ]
    },
    {
      "cell_type": "markdown",
      "metadata": {},
      "source": [
        "Reset of indexes\n\n"
      ]
    },
    {
      "cell_type": "code",
      "execution_count": null,
      "metadata": {
        "collapsed": false
      },
      "outputs": [],
      "source": [
        "tops5 = tops5.reset_index(drop=True)\ntops5"
      ]
    },
    {
      "cell_type": "markdown",
      "metadata": {},
      "source": [
        "Colors of the formations in borehole TC-1319-005\n\n"
      ]
    },
    {
      "cell_type": "code",
      "execution_count": null,
      "metadata": {
        "collapsed": false
      },
      "outputs": [],
      "source": [
        "tops5['color'] = pd.Series([ '#CCDF9A', '#8A6E9F', '#ABA16C', '#EBDE98', '#806000', '#2A7C43'])\ntops5"
      ]
    },
    {
      "cell_type": "markdown",
      "metadata": {},
      "source": [
        "Bottom of the last formation\n\n"
      ]
    },
    {
      "cell_type": "code",
      "execution_count": null,
      "metadata": {
        "collapsed": false
      },
      "outputs": [],
      "source": [
        "new_row5 = pd.DataFrame([{'From':1059.20, 'Top': '', 'color':''}])\nnew_row5"
      ]
    },
    {
      "cell_type": "markdown",
      "metadata": {},
      "source": [
        "Merge of dataframes\n\n"
      ]
    },
    {
      "cell_type": "code",
      "execution_count": null,
      "metadata": {
        "collapsed": false
      },
      "outputs": [],
      "source": [
        "tops5 = pd.concat([tops5, new_row5], ignore_index=True)\ntops5"
      ]
    },
    {
      "cell_type": "markdown",
      "metadata": {},
      "source": [
        "Rename of columns of the dataframe\n\n"
      ]
    },
    {
      "cell_type": "code",
      "execution_count": null,
      "metadata": {
        "collapsed": false
      },
      "outputs": [],
      "source": [
        "tops5 = tops5.rename(columns={'From':'depth', 'Top':'name'})\ntops5"
      ]
    },
    {
      "cell_type": "markdown",
      "metadata": {},
      "source": [
        "Convertion of the dataframe to a list of dictionaries by UDL, borehole TC-1319-005\n\n"
      ]
    },
    {
      "cell_type": "code",
      "execution_count": null,
      "metadata": {
        "collapsed": false
      },
      "outputs": [],
      "source": [
        "tops_list_5 = geo.plot_tops(tops5)\ntops_list_5"
      ]
    },
    {
      "cell_type": "markdown",
      "metadata": {},
      "source": [
        "Saving the tops to a json file\n\n"
      ]
    },
    {
      "cell_type": "code",
      "execution_count": null,
      "metadata": {
        "collapsed": false
      },
      "outputs": [],
      "source": [
        "with open('Output/tops_list_5.json', 'w') as json_file:\n    json.dump(tops_list_5, json_file, indent=4)"
      ]
    },
    {
      "cell_type": "markdown",
      "metadata": {},
      "source": [
        "Plot of GRs with formations\n\n"
      ]
    },
    {
      "cell_type": "code",
      "execution_count": null,
      "metadata": {
        "collapsed": false
      },
      "outputs": [],
      "source": [
        "plt.figure(figsize=(10, 8))\nplt.subplot(141)\nplt.plot(gr8.iloc[:,1], gr8.iloc[:,0], label='Real', c='lightblue')\n# plt.plot(gr8.iloc[:,2].rolling(window=250).mean(), gr8.iloc[:,1], label='Mean 400')\nplt.xlabel('GR (API)')\n\n# Butterworth filter\nb, a = butter(N=2, Wn=0.02, btype='low')\nfiltered_data = filtfilt(b, a, gr8.iloc[:,1])\nplt.plot(filtered_data, gr8.iloc[:,0], label='BWF')\nplt.legend()\nplt.grid()\nplt.xlabel('GR (API)')\nplt.ylabel('Depth (m)')\nplt.axis([0, 120, 1100, 0])\n\nplt.subplot(142)\nfor i in range(0, len(tops_list_8)):\n    plt.axhspan(tops_list_8[i]['top'], tops_list_8[i]['base'], color=tops_list_8[i]['color'])\n    plt.text(122, tops_list_8[i]['top'], tops_list_8[i]['name'], fontsize=6, va='center')\nplt.axis([0, 120, 1100, 0])\nplt.xticks([])\nplt.xlabel('Formations')\n\nplt.subplot(143)\nplt.plot(features3_5.GR_lr, features3_5.From, label='LR')\nplt.plot(features3_5.GR_xgb + 40, features3_5.From, label='XGB + 40')\nplt.legend()\nplt.grid()\nplt.xlabel('GR (API)')\nplt.axis([0, 120, 1100, 0])\n\nplt.subplot(144)\nfor i in range(0, len(tops_list_5)):\n    plt.axhspan(tops_list_5[i]['top'], tops_list_5[i]['base'], color=tops_list_5[i]['color'])\n    plt.text(122, tops_list_5[i]['top'], tops_list_5[i]['name'], fontsize=7, va='center')\nplt.axis([0, 120, 1100, 0])\nplt.xticks([])\nplt.xlabel('Formations')\n \nplt.suptitle('GR and Formations in Boreholes\\nTC-3660-008                                                                   TC-1319-005', y=0.98)\nplt.tight_layout()\nplt.savefig('Output/all_grs.png', dpi=300)\nplt.show()"
      ]
    },
    {
      "cell_type": "markdown",
      "metadata": {},
      "source": [
        "Observations\n------------  \nHere are some observations related to the tasks covered in this notebook:\n\n* This notebook highlights the utility of open-source Python tools in addressing the issue of incomplete and sparse petrophysical data in mining. The various regression models employed demonstrate that machine learning techniques can be effective in filling data gaps, even when direct measurements are limited or unavailable.\n\n* More complex models, such as Extreme Gradient Boosting, provided higher predictive accuracy following the pattern of the reference GR, but simpler models like Linear Regression offered better interpretability. This trade-off between accuracy and interpretability is a crucial consideration for practical applications in mining data analysis.\n\n* The coefficients in the Linear Regression model indicated that variables such as Den and Mag significantly impact the target variable (GR), demonstrating strong correlation and critical predictive roles in petrophysical properties. In contrast, Vp and Res were less important, contributing minimally to the model's predictions.\n\n"
      ]
    },
    {
      "cell_type": "markdown",
      "metadata": {},
      "source": [
        "## Final Remarks\nThe analysis of the petrophysical dataset from Collinstown highlights challenges related to data dispersion and scarcity, as well as the potential of machine learning (ML) tools to enhance the value of mining data.\n\nData dispersion, particularly in Den and Vp, complicates the generation of accurate models and reflects the inherent heterogeneity of the subsurface. Variations across boreholes and core samples, along with some false anomalies from measurement issues, must be addressed to ensure data integrity and reliable modeling. Low correlation (or low covariance) in the dataset, resulting from fractures and methodological limitations, leads to models with low R\u00b2 values.\n\nML algorithms and Python-based tools have proven valuable for integrating legacy data with new sources, thereby improving dataset quality. Techniques such as imputation and regression modeling help fill gaps and enhance the resolution of petrophysical properties. Overall, ML tools present significant opportunities to improve legacy data and support its integration with new datasets, leading to more accurate mining models.\n\nBoth this analysis and the previous notebook demonstrate the effective use of open-source Python tools and ML models to address incomplete and sparse petrophysical data in mining exploration. This adaptable workflow can be applied across various geological contexts, benefiting other mining projects as well.\n\n"
      ]
    },
    {
      "cell_type": "markdown",
      "metadata": {},
      "source": [
        "## Next Steps\nHere are some possible next steps to build on the work from this and the previous notebooks:\n\n* Consider exploring classification models, especially if there is interest in classifying different types of rocks or deposits based on petrophysical properties rather than predicting continuous variables.\n\n* Explore advanced feature engineering or transformation techniques to uncover more complex relationships between variables. This could potentially improve the model\u2019s performance.\n\n* Further optimize the machine learning models by performing hyperparameter tuning. This can improve the accuracy of the predictions and refine the model selection process.\n\n* Apply the propagation of missing properties using the models obtained here to other boreholes with limited data.\n\nThese steps would extend the current analysis, enhance model accuracy, and contribute to more practical applications in mining exploration.\n"
      ]
    }
  ],
  "metadata": {
    "kernelspec": {
      "display_name": "Python 3",
      "language": "python",
      "name": "python3"
    },
    "language_info": {
      "codemirror_mode": {
        "name": "ipython",
        "version": 3
      },
      "file_extension": ".py",
      "mimetype": "text/x-python",
      "name": "python",
      "nbconvert_exporter": "python",
      "pygments_lexer": "ipython3",
      "version": "3.10.12"
    }
  },
  "nbformat": 4,
  "nbformat_minor": 0
}