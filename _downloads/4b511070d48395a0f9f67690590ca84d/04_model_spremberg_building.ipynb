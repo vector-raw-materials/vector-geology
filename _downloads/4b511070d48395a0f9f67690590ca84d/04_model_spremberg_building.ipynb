{
  "cells": [
    {
      "cell_type": "code",
      "execution_count": null,
      "metadata": {
        "collapsed": false
      },
      "outputs": [],
      "source": [
        "%matplotlib inline\nfrom pyvista import set_plot_theme\nset_plot_theme('document')"
      ]
    },
    {
      "cell_type": "markdown",
      "metadata": {},
      "source": [
        "\n# Construct Spremberg: Building initial model\n\nThis example demonstrates...\n"
      ]
    },
    {
      "cell_type": "code",
      "execution_count": null,
      "metadata": {
        "collapsed": false
      },
      "outputs": [],
      "source": [
        "# sphinx_gallery_thumbnail_number = -2\nimport numpy as np\n\nimport gempy as gp\nimport gempy_viewer as gpv\nfrom subsurface.modules.visualization import to_pyvista_line, to_pyvista_points\nfrom vector_geology.model_contructor.spremberg import generate_spremberg_model, get_spremberg_borehole_set, add_wells_plot"
      ]
    },
    {
      "cell_type": "code",
      "execution_count": null,
      "metadata": {
        "collapsed": false
      },
      "outputs": [],
      "source": [
        "elements_to_gempy = {\n        \"Buntsandstein\"       : {\n                \"id\"   : 53_300,\n                \"color\": \"#983999\"\n        },\n        \"Werra-Anhydrit\"      : {\n                \"id\"   : 61_730,\n                \"color\": \"#00923f\"\n        },\n        # \"Kupferschiefer\"      : {\n        #         \"id\"   : 61_760,\n        #         \"color\": \"#da251d\"\n        # },\n        \"Zechsteinkonglomerat\": {\n                \"id\"   : 61_770,\n                \"color\": \"#f8c300\"\n        },\n        \"Rotliegend\"          : {\n                \"id\"   : 62_000,\n                \"color\": \"#bb825b\"\n        }\n}\n\nspremberg_boreholes = get_spremberg_borehole_set()\ngeo_model: gp.data.GeoModel = generate_spremberg_model(\n    borehole_set=spremberg_boreholes,\n    elements_to_gempy=elements_to_gempy,\n    plot=False\n)"
      ]
    },
    {
      "cell_type": "markdown",
      "metadata": {},
      "source": [
        "Add one orientation to the model\n\n"
      ]
    },
    {
      "cell_type": "code",
      "execution_count": null,
      "metadata": {
        "collapsed": false
      },
      "outputs": [],
      "source": [
        "rotliegend: gp.data.StructuralElement = geo_model.structural_frame.get_element_by_name(\"Rotliegend\")\ngp.add_orientations(\n    geo_model=geo_model,\n    x=[5_460_077.527386775, 5_450_077.527386775],\n    y=[5_720_030.2446156405, 5_710_030.2446156405],\n    z=[-600, -600],\n    elements_names=[\"Rotliegend\", \"Rotliegend\"],\n    pole_vector=[\n            np.array([.7, 0.7, 0.2]),\n            np.array([-1, 0, 0.2])\n    ],\n)"
      ]
    },
    {
      "cell_type": "code",
      "execution_count": null,
      "metadata": {
        "collapsed": false
      },
      "outputs": [],
      "source": [
        "pivot = [5_478_256.5, 5_698_528.946534388]\npoint_2 = [5_483_077.527386775, 5_710_030.2446156405]\npoint_3 = [5_474_977.5974836275, 5_712_059.373443342]\nsection_dict = {\n        'section1': (pivot, point_2, [100, 100]),\n        'section2': (pivot, point_3, [100, 100]),\n        'section3': (point_2, point_3, [100, 100])\n}"
      ]
    },
    {
      "cell_type": "code",
      "execution_count": null,
      "metadata": {
        "collapsed": false
      },
      "outputs": [],
      "source": [
        "gp.set_section_grid(geo_model.grid, section_dict)\ngpv.plot_section_traces(geo_model)"
      ]
    },
    {
      "cell_type": "code",
      "execution_count": null,
      "metadata": {
        "collapsed": false
      },
      "outputs": [],
      "source": [
        "_ = gpv.plot_3d(\n    model=geo_model,\n    ve=10,\n    image=True,\n    transformed_data=True,\n    kwargs_pyvista_bounds={\n            'show_xlabels': False,\n            'show_ylabels': False,\n    },\n    kwargs_plot_data={\n            'arrow_size': 0.001000\n    }\n)"
      ]
    },
    {
      "cell_type": "code",
      "execution_count": null,
      "metadata": {
        "collapsed": false
      },
      "outputs": [],
      "source": [
        "# * Ignore curvature for now\ngeo_model.interpolation_options.kernel_options.range = 3\ngeo_model.interpolation_options.compute_scalar_gradient = False\ngeo_model.interpolation_options.evaluation_options.curvature_threshold = 0.4\ngeo_model.interpolation_options.evaluation_options.number_octree_levels_surface = 5\n\ngeo_model.interpolation_options.evaluation_options.error_threshold = 1\ngeo_model.interpolation_options.evaluation_options.verbose = True\n\n\ngp.compute_model(\n    gempy_model=geo_model,\n    engine_config=gp.data.GemPyEngineConfig(\n        backend=gp.data.AvailableBackends.PYTORCH,\n        dtype=\"float64\",\n    )\n)"
      ]
    },
    {
      "cell_type": "code",
      "execution_count": null,
      "metadata": {
        "collapsed": false
      },
      "outputs": [],
      "source": [
        "gpv.plot_2d(\n    model=geo_model,\n    figsize=(15, 15),\n    ve=10,\n    section_names=['section1', 'section2', 'section3']\n)"
      ]
    },
    {
      "cell_type": "code",
      "execution_count": null,
      "metadata": {
        "collapsed": false
      },
      "outputs": [],
      "source": [
        "gempy_plot = gpv.plot_3d(\n    model=geo_model,\n    show_lith=False,\n    ve=10,\n    show=False,\n    image=False,\n    transformed_data=False,\n    kwargs_pyvista_bounds={\n            'show_xlabels': True,\n            'show_ylabels': True,\n            'show_zlabels': False,\n    },\n    kwargs_plot_data={\n            'arrow_size': 100.001000\n    }\n)\n\nwell_mesh = to_pyvista_line(\n    line_set=spremberg_boreholes.combined_trajectory,\n    active_scalar=\"lith_ids\",\n    radius=10\n)\nunits_limit = [0, 20]\ncollars = to_pyvista_points(spremberg_boreholes.collars.collar_loc)\ngempy_plot.p.add_mesh(\n    well_mesh.threshold(units_limit),\n    cmap=\"tab20c\",\n    clim=units_limit\n)\n\ngempy_plot.p.add_mesh(\n    collars,\n    point_size=10,\n    render_points_as_spheres=True\n)\n\ngempy_plot.p.add_point_labels(\n    points=spremberg_boreholes.collars.collar_loc.points,\n    labels=spremberg_boreholes.collars.ids,\n    point_size=3,\n    shape_opacity=0.5,\n    font_size=12,\n    bold=True\n)\n\ngempy_plot.p.show()"
      ]
    },
    {
      "cell_type": "markdown",
      "metadata": {},
      "source": [
        "## LiquidEarth Integration\nBeyond the classical plotting capabilities introduced in GemPy v3, users can now also upload models to LiquidEarth. \n[LiquidEarth](https://www.terranigma-solutions.com/liquidearth) is a collaborative platform designed for 3D visualization,\ndeveloped by many of the main `gempy` maintainers,  with a strong focus on collaboration and sharing. \nThis makes it an excellent tool for sharing your models with others and viewing them across different platforms.\nTo upload a model to LiquidEarth, you must have an account and a user token. Once your model is uploaded, \nyou can easily share the link with anyone.\n\n"
      ]
    },
    {
      "cell_type": "code",
      "execution_count": null,
      "metadata": {
        "collapsed": false
      },
      "outputs": [],
      "source": [
        "# # %%\nif True:\n    link = gpv.plot_to_liquid_earth(\n        geo_model=geo_model,\n        space_name=\"Spremberg\",\n        file_name=\"gempy_model\",\n        user_token=None,  # If None, it will try to grab it from the environment\n        grab_link=True,\n    )\n\n    print(f\"Generated Link: {link}\")"
      ]
    }
  ],
  "metadata": {
    "kernelspec": {
      "display_name": "Python 3",
      "language": "python",
      "name": "python3"
    },
    "language_info": {
      "codemirror_mode": {
        "name": "ipython",
        "version": 3
      },
      "file_extension": ".py",
      "mimetype": "text/x-python",
      "name": "python",
      "nbconvert_exporter": "python",
      "pygments_lexer": "ipython3",
      "version": "3.10.12"
    }
  },
  "nbformat": 4,
  "nbformat_minor": 0
}