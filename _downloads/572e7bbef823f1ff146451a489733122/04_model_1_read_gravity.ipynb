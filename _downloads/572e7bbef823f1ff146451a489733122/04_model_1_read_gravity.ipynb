{
  "cells": [
    {
      "cell_type": "code",
      "execution_count": null,
      "metadata": {
        "collapsed": false
      },
      "outputs": [],
      "source": [
        "%matplotlib inline\nfrom pyvista import set_plot_theme\nset_plot_theme('document')"
      ]
    },
    {
      "cell_type": "markdown",
      "metadata": {},
      "source": [
        "\n# Gravity Data Visualization\n\nThis example illustrates how to read gravity data from the Stonepark project and visualize it. \nThe data is converted for subsurface analysis.\n"
      ]
    },
    {
      "cell_type": "code",
      "execution_count": null,
      "metadata": {
        "collapsed": false
      },
      "outputs": [],
      "source": [
        "import numpy as np\nimport pandas as pd\nimport matplotlib.pyplot as plt\n\n# Import additional necessary libraries\nfrom dotenv import dotenv_values\n\n# Load environment variables and file path\nconfig = dotenv_values()\npath = config.get(\"PATH_TO_MODEL_1_BOUGUER\")\n\n# Read the data into a pandas DataFrame\ndf = pd.read_csv(path, sep=',', header=0)\n\n# Selecting the columns of interest\ninteresting_columns = df[['X', 'Y', 'Bouguer_267_complete']]\n\n# Define the extent of the observation area\nomf_extent = np.array([559902.8297554839, 564955.6824703198 * 1.01, 644278.2600910577,\n                       650608.7353560531, -1753.4, 160.3266042185512])"
      ]
    },
    {
      "cell_type": "markdown",
      "metadata": {},
      "source": [
        "Plot the gravity data\n\n"
      ]
    },
    {
      "cell_type": "code",
      "execution_count": null,
      "metadata": {
        "collapsed": false
      },
      "outputs": [],
      "source": [
        "plt.figure(figsize=(10, 10))\nplt.scatter(df['X'], df['Y'], c=df['Bouguer_267_complete'], cmap='viridis')\nplt.title('Gravity Data Plot for Stonepark Project')\nplt.xlabel('X Coordinate')\nplt.ylabel('Y Coordinate')\nplt.colorbar(label='Bouguer Anomaly')\n\n# Set the extent of the plot\nplt.xlim(omf_extent[0], omf_extent[1])\nplt.ylim(omf_extent[2], omf_extent[3])\n\n# Optional: Hide axis labels for a cleaner look\nplt.gca().axes.xaxis.set_ticklabels([])\nplt.gca().axes.yaxis.set_ticklabels([])\n\n# Display the plot\nplt.show()"
      ]
    }
  ],
  "metadata": {
    "kernelspec": {
      "display_name": "Python 3",
      "language": "python",
      "name": "python3"
    },
    "language_info": {
      "codemirror_mode": {
        "name": "ipython",
        "version": 3
      },
      "file_extension": ".py",
      "mimetype": "text/x-python",
      "name": "python",
      "nbconvert_exporter": "python",
      "pygments_lexer": "ipython3",
      "version": "3.10.12"
    }
  },
  "nbformat": 4,
  "nbformat_minor": 0
}