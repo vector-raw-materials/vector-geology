{
  "cells": [
    {
      "cell_type": "code",
      "execution_count": null,
      "metadata": {
        "collapsed": false
      },
      "outputs": [],
      "source": [
        "%matplotlib inline\nfrom pyvista import set_plot_theme\nset_plot_theme('document')"
      ]
    },
    {
      "cell_type": "markdown",
      "metadata": {},
      "source": [
        "\n# Construct Spremberg: Importing borehole data\n\nThis example demonstrates how to construct a 3D geological model of the Model 1 deposit using GemPy. \nIt leverages custom APIs to streamline the modeling process.\n"
      ]
    },
    {
      "cell_type": "markdown",
      "metadata": {},
      "source": [
        "Import the necessary libraries for geological modeling and visualization.\nsphinx_gallery_thumbnail_number = -1\n\n"
      ]
    },
    {
      "cell_type": "code",
      "execution_count": null,
      "metadata": {
        "collapsed": false
      },
      "outputs": [],
      "source": [
        "import os\nimport pandas as pd\nimport pyvista\n\nimport gempy as gp\nimport gempy_viewer as gpv\nfrom subsurface.core.geological_formats.boreholes.boreholes import BoreholeSet, MergeOptions\nfrom subsurface.core.geological_formats.boreholes.collars import Collars\nfrom subsurface.core.geological_formats.boreholes.survey import Survey\nfrom subsurface.core.reader_helpers.readers_data import GenericReaderFilesHelper\nfrom subsurface.modules.reader.wells.read_borehole_interface import read_lith, read_survey, read_collar\nfrom subsurface.modules.visualization import to_pyvista_line, to_pyvista_points, init_plotter"
      ]
    },
    {
      "cell_type": "markdown",
      "metadata": {},
      "source": [
        "Initialize the reader for the lithological data. Specify the file path and column mappings.\n\n"
      ]
    },
    {
      "cell_type": "code",
      "execution_count": null,
      "metadata": {
        "collapsed": false
      },
      "outputs": [],
      "source": [
        "import dotenv\ndotenv.load_dotenv()\nreader: GenericReaderFilesHelper = GenericReaderFilesHelper(\n    file_or_buffer=os.getenv(\"PATH_TO_SPREMBERG_STRATIGRAPHY\"),\n    columns_map={\n            'hole_id'   : 'id',\n            'depth_from': 'top',\n            'depth_to'  : 'base',\n            'lit_code'  : 'component lith'\n    }\n)\n\n# Read the lithological data into a DataFrame.\nlith: pd.DataFrame = read_lith(reader)"
      ]
    },
    {
      "cell_type": "markdown",
      "metadata": {},
      "source": [
        "Initialize the reader for the survey data. Specify the file path and column mappings.\n\n"
      ]
    },
    {
      "cell_type": "code",
      "execution_count": null,
      "metadata": {
        "collapsed": false
      },
      "outputs": [],
      "source": [
        "reader: GenericReaderFilesHelper = GenericReaderFilesHelper(\n    file_or_buffer=os.getenv(\"PATH_TO_SPREMBERG_SURVEY\"),\n    columns_map={\n            'depth'  : 'md',\n            'dip'    : 'dip',\n            'azimuth': 'azi'\n    },\n)\n\n# Read the survey data into a DataFrame.\ndf = read_survey(reader)"
      ]
    },
    {
      "cell_type": "markdown",
      "metadata": {},
      "source": [
        "Create a Survey object from the DataFrame and update it with lithological data.\n\n"
      ]
    },
    {
      "cell_type": "code",
      "execution_count": null,
      "metadata": {
        "collapsed": false
      },
      "outputs": [],
      "source": [
        "survey: Survey = Survey.from_df(df)\nsurvey.update_survey_with_lith(lith)"
      ]
    },
    {
      "cell_type": "markdown",
      "metadata": {},
      "source": [
        "Initialize the reader for the collar data. Specify the file path, header, and column mappings.\n\n"
      ]
    },
    {
      "cell_type": "code",
      "execution_count": null,
      "metadata": {
        "collapsed": false
      },
      "outputs": [],
      "source": [
        "reader_collar: GenericReaderFilesHelper = GenericReaderFilesHelper(\n    file_or_buffer=os.getenv(\"PATH_TO_SPREMBERG_COLLAR\"),\n    header=0,\n    usecols=[0, 1, 2, 4],\n    columns_map={\n            \"hole_id\"            : \"id\",\n            \"X_GK5_incl_inserted\": \"x\",\n            \"Y__incl_inserted\"   : \"y\",\n            \"Z_GK\"               : \"z\"\n    }\n)\n\n# Read the collar data into a DataFrame and create a Collars object.\ndf_collar = read_collar(reader_collar)\ncollar = Collars.from_df(df_collar)"
      ]
    },
    {
      "cell_type": "markdown",
      "metadata": {},
      "source": [
        "Combine the collar and survey data into a BoreholeSet.\n\n"
      ]
    },
    {
      "cell_type": "code",
      "execution_count": null,
      "metadata": {
        "collapsed": false
      },
      "outputs": [],
      "source": [
        "borehole_set = BoreholeSet(\n    collars=collar,\n    survey=survey,\n    merge_option=MergeOptions.INTERSECT\n)"
      ]
    },
    {
      "cell_type": "markdown",
      "metadata": {},
      "source": [
        "Visualize the borehole trajectories and collars using PyVista.\n\n"
      ]
    },
    {
      "cell_type": "code",
      "execution_count": null,
      "metadata": {
        "collapsed": false
      },
      "outputs": [],
      "source": [
        "well_mesh = to_pyvista_line(\n    line_set=borehole_set.combined_trajectory,\n    active_scalar=\"lith_ids\",\n    radius=10\n)\n\ncollars = to_pyvista_points(\n    borehole_set.collars.collar_loc,\n)\n\n# Initialize the PyVista plotter.\npyvista_plotter = init_plotter()\n\n# Define the units limit for thresholding the well mesh.\nunits_limit = [0, 20]\n\n# Add the well mesh and collars to the plotter and display.\npyvista_plotter.add_mesh(\n    well_mesh.threshold(units_limit),\n    cmap=\"tab20c\",\n    clim=units_limit\n)\n\npyvista_plotter.add_mesh(\n    collars,\n    point_size=10,\n    render_points_as_spheres=True\n)\n\npyvista_plotter.show()"
      ]
    },
    {
      "cell_type": "markdown",
      "metadata": {},
      "source": [
        "Create structural elements from the borehole set for different lithological units.\n\n"
      ]
    },
    {
      "cell_type": "code",
      "execution_count": null,
      "metadata": {
        "collapsed": false
      },
      "outputs": [],
      "source": [
        "elements: list[gp.data.StructuralElement] = gp.structural_elements_from_borehole_set(\n    borehole_set=borehole_set,\n    elements_dict={\n            \"Buntsandstein\"       : {\n                    \"id\"   : 53_300,\n                    \"color\": \"#983999\"\n            },\n            \"Werra-Anhydrit\"      : {\n                    \"id\"   : 61_730,\n                    \"color\": \"#00923f\"\n            },\n            \"Kupfershiefer\"       : {\n                    \"id\"   : 61_760,\n                    \"color\": \"#da251d\"\n            },\n            \"Zechsteinkonglomerat\": {\n                    \"id\"   : 61_770,\n                    \"color\": \"#f8c300\"\n            },\n            \"Rotliegend\"          : {\n                    \"id\"   : 62_000,\n                    \"color\": \"#bb825b\"\n            }\n    }\n)"
      ]
    },
    {
      "cell_type": "markdown",
      "metadata": {},
      "source": [
        "Group the structural elements into a StructuralGroup and create a StructuralFrame.\n\n"
      ]
    },
    {
      "cell_type": "code",
      "execution_count": null,
      "metadata": {
        "collapsed": false
      },
      "outputs": [],
      "source": [
        "group = gp.data.StructuralGroup(\n    name=\"Stratigraphic Pile\",\n    elements=elements,\n    structural_relation=gp.data.StackRelationType.ERODE\n)\nstructural_frame = gp.data.StructuralFrame(\n    structural_groups=[group],\n    color_gen=gp.data.ColorsGenerator()\n)"
      ]
    },
    {
      "cell_type": "markdown",
      "metadata": {},
      "source": [
        "Determine the extent of the geological model from the surface points coordinates.\n\n"
      ]
    },
    {
      "cell_type": "code",
      "execution_count": null,
      "metadata": {
        "collapsed": false
      },
      "outputs": [],
      "source": [
        "all_surface_points_coords: gp.data.SurfacePointsTable = structural_frame.surface_points_copy\nextent_from_data = all_surface_points_coords.xyz.min(axis=0), all_surface_points_coords.xyz.max(axis=0)"
      ]
    },
    {
      "cell_type": "markdown",
      "metadata": {},
      "source": [
        "Create a GeoModel with the specified extent, grid resolution, and interpolation options.\n\n"
      ]
    },
    {
      "cell_type": "code",
      "execution_count": null,
      "metadata": {
        "collapsed": false
      },
      "outputs": [],
      "source": [
        "geo_model = gp.data.GeoModel(\n    name=\"Stratigraphic Pile\",\n    structural_frame=structural_frame,\n    grid=gp.data.Grid(\n        extent=[extent_from_data[0][0], extent_from_data[1][0], extent_from_data[0][1], extent_from_data[1][1], extent_from_data[0][2], extent_from_data[1][2]],\n        resolution=(50, 50, 50)\n    ),\n    interpolation_options=gp.data.InterpolationOptions(\n        range=5,\n        c_o=10,\n        mesh_extraction=True,\n        number_octree_levels=3,\n    ),\n)"
      ]
    },
    {
      "cell_type": "markdown",
      "metadata": {},
      "source": [
        "Visualize the 3D geological model using GemPy's plot_3d function.\n\n"
      ]
    },
    {
      "cell_type": "code",
      "execution_count": null,
      "metadata": {
        "collapsed": false
      },
      "outputs": [],
      "source": [
        "gempy_plot = gpv.plot_3d(\n    model=geo_model,\n    kwargs_pyvista_bounds={\n            'show_xlabels': False,\n            'show_ylabels': False,\n    },\n    show=True,\n    image=True\n)"
      ]
    },
    {
      "cell_type": "markdown",
      "metadata": {},
      "source": [
        "Combine all visual elements and display them together.\n\n"
      ]
    },
    {
      "cell_type": "code",
      "execution_count": null,
      "metadata": {
        "collapsed": false
      },
      "outputs": [],
      "source": [
        "sp_mesh: pyvista.PolyData = gempy_plot.surface_points_mesh\n\npyvista_plotter = init_plotter()\npyvista_plotter.show_bounds(all_edges=True)\n\npyvista_plotter.add_mesh(\n    well_mesh.threshold(units_limit),\n    cmap=\"tab20c\",\n    clim=units_limit\n)\n\npyvista_plotter.add_mesh(\n    collars,\n    point_size=10,\n    render_points_as_spheres=True\n)\n\npyvista_plotter.add_point_labels(\n    points=collar.collar_loc.points,\n    labels=collar.ids,\n    point_size=10,\n    shape_opacity=0.5,\n    font_size=12,\n    bold=True\n)\npyvista_plotter.add_actor(gempy_plot.surface_points_actor)\n\npyvista_plotter.show()"
      ]
    }
  ],
  "metadata": {
    "kernelspec": {
      "display_name": "Python 3",
      "language": "python",
      "name": "python3"
    },
    "language_info": {
      "codemirror_mode": {
        "name": "ipython",
        "version": 3
      },
      "file_extension": ".py",
      "mimetype": "text/x-python",
      "name": "python",
      "nbconvert_exporter": "python",
      "pygments_lexer": "ipython3",
      "version": "3.10.12"
    }
  },
  "nbformat": 4,
  "nbformat_minor": 0
}