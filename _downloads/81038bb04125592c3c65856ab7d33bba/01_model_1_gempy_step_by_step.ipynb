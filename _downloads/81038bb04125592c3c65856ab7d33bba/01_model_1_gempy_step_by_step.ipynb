{
  "cells": [
    {
      "cell_type": "code",
      "execution_count": null,
      "metadata": {
        "collapsed": false
      },
      "outputs": [],
      "source": [
        "%matplotlib inline\nfrom pyvista import set_plot_theme\nset_plot_theme('document')"
      ]
    },
    {
      "cell_type": "markdown",
      "metadata": {},
      "source": [
        "\n# Constructing Structural Geological Model\n\nThis example illustrates how to construct a 3D geological model of a deposit using GemPy.\n"
      ]
    },
    {
      "cell_type": "code",
      "execution_count": null,
      "metadata": {
        "collapsed": false
      },
      "outputs": [],
      "source": [
        "# Import necessary libraries\nimport time\nimport numpy as np\nimport os\nfrom dotenv import dotenv_values\nfrom vector_geology.omf_to_gempy import process_file\nimport gempy as gp\nimport gempy_viewer as gpv\nfrom vector_geology.model_building_functions import optimize_nuggets_for_group\nfrom gempy_engine.core.data.kernel_classes.kernel_functions import AvailableKernelFunctions\n\n# Start timer to track execution time\nstart_time = time.time()"
      ]
    },
    {
      "cell_type": "markdown",
      "metadata": {},
      "source": [
        "Load the data necessary for model construction. This involves processing data from nc files\nand organizing it for use in the geological model.\n\n"
      ]
    },
    {
      "cell_type": "code",
      "execution_count": null,
      "metadata": {
        "collapsed": false
      },
      "outputs": [],
      "source": [
        "config = dotenv_values()\npath = config.get(\"PATH_TO_MODEL_1_Subsurface\")\nstructural_elements = []\nglobal_extent = None\ncolor_gen = gp.data.ColorsGenerator()\n\nfor filename in os.listdir(path):\n    base, ext = os.path.splitext(filename)\n    if ext == '.nc':\n        structural_element, global_extent = process_file(os.path.join(path, filename), global_extent, color_gen)\n        structural_elements.append(structural_element)"
      ]
    },
    {
      "cell_type": "markdown",
      "metadata": {},
      "source": [
        "# Setting Up GemPy Model\nConfigure the GemPy model object, including defining structural groups and configuring their properties.\nThis is a crucial step in setting up the structural framework of the geological model.\n\n"
      ]
    },
    {
      "cell_type": "code",
      "execution_count": null,
      "metadata": {
        "collapsed": false
      },
      "outputs": [],
      "source": [
        "# Define structural groups and their relationships\nstructural_group_red = gp.data.StructuralGroup(\n    name=\"Red\",\n    elements=[structural_elements[i] for i in [0, 4, 8]],\n    structural_relation=gp.data.StackRelationType.ERODE\n)\nstructural_group_green = gp.data.StructuralGroup(\n    name=\"Green\",\n    elements=[structural_elements[i] for i in [5]],\n    structural_relation=gp.data.StackRelationType.ERODE\n)\nstructural_group_blue = gp.data.StructuralGroup(\n    name=\"Blue\",\n    elements=[structural_elements[i] for i in [2, 3]],\n    structural_relation=gp.data.StackRelationType.ERODE\n)\nstructural_group_intrusion = gp.data.StructuralGroup(\n    name=\"Intrusion\",\n    elements=[structural_elements[i] for i in [1]],\n    structural_relation=gp.data.StackRelationType.ERODE\n)\n\n# Combine structural groups into a frame\nstructural_groups = [structural_group_intrusion, structural_group_green, structural_group_blue, structural_group_red]\nstructural_frame = gp.data.StructuralFrame(\n    structural_groups=structural_groups[2:],\n    color_gen=color_gen\n)\n\n# Create the GeoModel object\ngeo_model: gp.data.GeoModel = gp.create_geomodel(\n    project_name='Tutorial_ch1_1_Basics',\n    extent=global_extent,\n    refinement=5,\n    structural_frame=structural_frame\n)"
      ]
    },
    {
      "cell_type": "markdown",
      "metadata": {},
      "source": [
        "Incorporate topography into the model using a dataset in nc format. This adds realism to the model\nby including surface variations.\n\n"
      ]
    },
    {
      "cell_type": "code",
      "execution_count": null,
      "metadata": {
        "collapsed": false
      },
      "outputs": [],
      "source": [
        "import xarray as xr\n\ndataset: xr.Dataset = xr.open_dataset(os.path.join(path, \"Topography.nc\"))\ngp.set_topography_from_arrays(\n    grid=geo_model.grid,\n    xyz_vertices=dataset.vertex.values\n)"
      ]
    },
    {
      "cell_type": "markdown",
      "metadata": {},
      "source": [
        "# Optimizing Nuggets\nNuggets add a small random noise to the data to account for discrepancies in complex geometries.\nHere, we optimize the nugget value to balance between overfitting and underfitting the data.\n\n"
      ]
    },
    {
      "cell_type": "code",
      "execution_count": null,
      "metadata": {
        "collapsed": false
      },
      "outputs": [],
      "source": [
        "TRIGGER_OPTIMIZE_NUGGETS = False\nAPPLY_OPTIMIZED_NUGGETS = True\nif TRIGGER_OPTIMIZE_NUGGETS:\n    geo_model.interpolation_options.cache_mode = gp.data.InterpolationOptions.CacheMode.NO_CACHE\n    \n    # Optimization process for different structural groups\n    geo_model.interpolation_options.kernel_options.range = 0.7\n    geo_model.interpolation_options.kernel_options.c_o = 4\n    optimize_nuggets_for_group(\n        geo_model=geo_model,\n        structural_group=structural_group_red,\n        plot_evaluation=False,\n        plot_result=True\n    )\n    geo_model.interpolation_options.kernel_options.range = 2\n    geo_model.interpolation_options.kernel_options.c_o = 4\n    optimize_nuggets_for_group(\n        geo_model=geo_model,\n        structural_group=structural_group_blue,\n        plot_evaluation=False,\n        plot_result=False\n    )\n    optimize_nuggets_for_group(\n        geo_model=geo_model,\n        structural_group=structural_group_green,\n        plot_evaluation=False,\n        plot_result=True\n    )\n\nif APPLY_OPTIMIZED_NUGGETS:\n    # Apply optimized nuggets to the model\n    loaded_nuggets_red = np.load(\"../temp/nuggets_Red.npy\")\n    loaded_nuggets_green = np.load(\"../temp/nuggets_Green.npy\")\n    loaded_nuggets_blue = np.load(\"../temp/nuggets_Blue.npy\")\n    gp.modify_surface_points(\n        geo_model,\n        slice=None,\n        elements_names=[element.name for element in geo_model.structural_frame.get_group_by_name('Red').elements],\n        nugget=loaded_nuggets_red\n    )\n    if True:  # Conditional application of nuggets\n        gp.modify_surface_points(\n            geo_model,\n            slice=None,\n            elements_names=[element.name for element in geo_model.structural_frame.get_group_by_name('Blue').elements],\n            nugget=loaded_nuggets_blue\n        )"
      ]
    },
    {
      "cell_type": "markdown",
      "metadata": {},
      "source": [
        "Compute the geological model. This involves setting interpolation options and executing the computation\nto generate the 3D geological structure.\n\n"
      ]
    },
    {
      "cell_type": "code",
      "execution_count": null,
      "metadata": {
        "collapsed": false
      },
      "outputs": [],
      "source": [
        "geo_model.interpolation_options.mesh_extraction = True\ngeo_model.interpolation_options.kernel_options.range = .7\ngeo_model.interpolation_options.kernel_options.c_o = 3\ngeo_model.interpolation_options.kernel_options.compute_condition_number = True\ngeo_model.interpolation_options.kernel_options.kernel_function = AvailableKernelFunctions.cubic\n\n# Update color and transformation settings for visual distinction\ngeo_model.structural_frame.get_element_by_name(\"KKR\").color = \"#A46283\"\ngeo_model.structural_frame.get_element_by_name(\"LGR\").color = \"#6394A4\"\ngeo_model.structural_frame.get_element_by_name(\"WAL\").color = \"#72A473\"\ngeo_model.structural_frame.get_element_by_name(\"ABL\").color = \"#1D3943\"\ngeo_model.structural_frame.basement_color = \"#8B4220\"\n\ngeo_model.update_transform()\n\n# Execute the model computation\ngp.compute_model(\n    geo_model,\n    engine_config=gp.data.GemPyEngineConfig(\n        backend=gp.data.AvailableBackends.PYTORCH,\n        dtype=\"float64\"\n    ),\n)"
      ]
    },
    {
      "cell_type": "markdown",
      "metadata": {},
      "source": [
        "Visualize the constructed geological model in both 2D and 3D formats to assess the structure and layout.\n\n"
      ]
    },
    {
      "cell_type": "code",
      "execution_count": null,
      "metadata": {
        "collapsed": false
      },
      "outputs": [],
      "source": [
        "# 2D visualization of the model\ngpv.plot_2d(geo_model, show_scalar=False)"
      ]
    },
    {
      "cell_type": "markdown",
      "metadata": {},
      "source": [
        "3D visualization in GemPy viewer\n\n"
      ]
    },
    {
      "cell_type": "code",
      "execution_count": null,
      "metadata": {
        "collapsed": false
      },
      "outputs": [],
      "source": [
        "gempy_vista = gpv.plot_3d(\n    model=geo_model,\n    show=True,\n    kwargs_plot_structured_grid={'opacity': 0.8}\n)"
      ]
    },
    {
      "cell_type": "markdown",
      "metadata": {},
      "source": [
        "Measure the total time taken to execute the script, providing insights into performance.\n\n"
      ]
    },
    {
      "cell_type": "code",
      "execution_count": null,
      "metadata": {
        "collapsed": false
      },
      "outputs": [],
      "source": [
        "end_time = time.time()\nexecution_time = end_time - start_time\nprint(f\"The function executed in {execution_time} seconds.\")\n\n# sphinx_gallery_thumbnail_number = -1"
      ]
    }
  ],
  "metadata": {
    "kernelspec": {
      "display_name": "Python 3",
      "language": "python",
      "name": "python3"
    },
    "language_info": {
      "codemirror_mode": {
        "name": "ipython",
        "version": 3
      },
      "file_extension": ".py",
      "mimetype": "text/x-python",
      "name": "python",
      "nbconvert_exporter": "python",
      "pygments_lexer": "ipython3",
      "version": "3.10.12"
    }
  },
  "nbformat": 4,
  "nbformat_minor": 0
}