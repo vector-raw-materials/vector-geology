{
  "cells": [
    {
      "cell_type": "code",
      "execution_count": null,
      "metadata": {
        "collapsed": false
      },
      "outputs": [],
      "source": [
        "%matplotlib inline\nfrom pyvista import set_plot_theme\nset_plot_theme('document')"
      ]
    },
    {
      "cell_type": "markdown",
      "metadata": {},
      "source": [
        "\n# Probabilistic Inversion Example: Geological Model\n\nThis example demonstrates a probabilistic inversion of a geological model using Bayesian methods.\n"
      ]
    },
    {
      "cell_type": "code",
      "execution_count": null,
      "metadata": {
        "collapsed": false
      },
      "outputs": [],
      "source": [
        "import time\nimport os\nimport numpy as np\nimport xarray as xr\nimport pandas as pd\nimport torch\nimport pyro\nimport pyro.distributions as dist\nimport gempy as gp\nimport gempy_viewer as gpv\nfrom matplotlib import pyplot as plt\nfrom dotenv import dotenv_values\nfrom pyro.infer import MCMC, NUTS, Predictive\nimport arviz as az\n\nfrom gempy_probability.plot_posterior import default_red, default_blue\nfrom vector_geology.bayesian_helpers import calculate_scale_shift, gaussian_kernel\nfrom vector_geology.model_1_builder import initialize_geo_model, setup_geophysics\nfrom vector_geology.omf_to_gempy import process_file\nfrom vector_geology.utils import extend_box\nimport gempy_engine\nfrom gempy_engine.core.backend_tensor import BackendTensor"
      ]
    },
    {
      "cell_type": "markdown",
      "metadata": {},
      "source": [
        "Start the timer for benchmarking purposes\n\n"
      ]
    },
    {
      "cell_type": "code",
      "execution_count": null,
      "metadata": {
        "collapsed": false
      },
      "outputs": [],
      "source": [
        "start_time = time.time()"
      ]
    },
    {
      "cell_type": "markdown",
      "metadata": {},
      "source": [
        "Load necessary configuration and paths from environment variables\n\n"
      ]
    },
    {
      "cell_type": "code",
      "execution_count": null,
      "metadata": {
        "collapsed": false
      },
      "outputs": [],
      "source": [
        "config = dotenv_values()\npath = config.get(\"PATH_TO_MODEL_1_Subsurface\")"
      ]
    },
    {
      "cell_type": "markdown",
      "metadata": {},
      "source": [
        "Initialize lists to store structural elements for the geological model\n\n"
      ]
    },
    {
      "cell_type": "code",
      "execution_count": null,
      "metadata": {
        "collapsed": false
      },
      "outputs": [],
      "source": [
        "structural_elements = []\nglobal_extent = None\ncolor_gen = gp.data.ColorsGenerator()"
      ]
    },
    {
      "cell_type": "markdown",
      "metadata": {},
      "source": [
        "Process each .nc file in the specified directory for model construction\n\n"
      ]
    },
    {
      "cell_type": "code",
      "execution_count": null,
      "metadata": {
        "collapsed": false
      },
      "outputs": [],
      "source": [
        "for filename in os.listdir(path):\n    base, ext = os.path.splitext(filename)\n    if ext == '.nc':\n        structural_element, global_extent = process_file(os.path.join(path, filename), global_extent, color_gen)\n        structural_elements.append(structural_element)"
      ]
    },
    {
      "cell_type": "markdown",
      "metadata": {},
      "source": [
        "Configure GemPy for geological modeling with PyTorch backend\n\n"
      ]
    },
    {
      "cell_type": "code",
      "execution_count": null,
      "metadata": {
        "collapsed": false
      },
      "outputs": [],
      "source": [
        "BackendTensor.change_backend_gempy(engine_backend=gp.data.AvailableBackends.PYTORCH, dtype=\"float64\")\ngeo_model = initialize_geo_model(\n    structural_elements=structural_elements,\n    extent=(np.array(global_extent)),\n    topography=(xr.open_dataset(os.path.join(path, \"Topography.nc\"))),\n    load_nuggets=True\n)"
      ]
    },
    {
      "cell_type": "markdown",
      "metadata": {},
      "source": [
        "Setup geophysics configuration for the model\n\n"
      ]
    },
    {
      "cell_type": "code",
      "execution_count": null,
      "metadata": {
        "collapsed": false
      },
      "outputs": [],
      "source": [
        "geophysics_input = setup_geophysics(\n    env_path=\"PATH_TO_MODEL_1_BOUGUER\",\n    geo_model=geo_model\n)"
      ]
    },
    {
      "cell_type": "markdown",
      "metadata": {},
      "source": [
        "Adjust interpolation options for geological modeling\n\n"
      ]
    },
    {
      "cell_type": "code",
      "execution_count": null,
      "metadata": {
        "collapsed": false
      },
      "outputs": [],
      "source": [
        "interpolation_options = geo_model.interpolation_options\ninterpolation_options.kernel_options.range = .7\ninterpolation_options.kernel_options.c_o = 3\ninterpolation_options.kernel_options.compute_condition_number = True"
      ]
    },
    {
      "cell_type": "markdown",
      "metadata": {},
      "source": [
        "Compute the geological model\n\n"
      ]
    },
    {
      "cell_type": "code",
      "execution_count": null,
      "metadata": {
        "collapsed": false
      },
      "outputs": [],
      "source": [
        "sol = gp.compute_model(\n    gempy_model=geo_model,\n    engine_config=gp.data.GemPyEngineConfig(\n        backend=gp.data.AvailableBackends.PYTORCH,\n        dtype='float64'\n    )\n)"
      ]
    },
    {
      "cell_type": "markdown",
      "metadata": {},
      "source": [
        "Visualize the computed geological model in 3D\n\n"
      ]
    },
    {
      "cell_type": "code",
      "execution_count": null,
      "metadata": {
        "collapsed": false
      },
      "outputs": [],
      "source": [
        "gempy_vista = gpv.plot_3d(\n    model=geo_model,\n    show=True,\n    kwargs_plot_structured_grid={'opacity': 0.8},\n    image=True\n)"
      ]
    },
    {
      "cell_type": "markdown",
      "metadata": {},
      "source": [
        "Calculate and adapt the observed gravity data for model comparison\n\n"
      ]
    },
    {
      "cell_type": "code",
      "execution_count": null,
      "metadata": {
        "collapsed": false
      },
      "outputs": [],
      "source": [
        "grav = sol.gravity\ns, c = calculate_scale_shift(\n    a=geophysics_input[\"Bouguer_267_complete\"].values,\n    b=(grav.detach().numpy())\n)\nadapted_observed_grav = s * geophysics_input[\"Bouguer_267_complete\"] + c"
      ]
    },
    {
      "cell_type": "markdown",
      "metadata": {},
      "source": [
        "Plot the 2D gravity data for visualization\n\n"
      ]
    },
    {
      "cell_type": "code",
      "execution_count": null,
      "metadata": {
        "collapsed": false
      },
      "outputs": [],
      "source": [
        "plot2d = gpv.plot_2d(geo_model, show_topography=True, section_names=[\"topography\"], show=False)\nsc = plot2d.axes[0].scatter(\n    geophysics_input['X'],\n    geophysics_input['Y'],\n    c=adapted_observed_grav,\n    cmap='viridis',\n    s=100,\n    zorder=10000\n)\nplt.colorbar(sc, label=\"mGal\")\nplt.show()"
      ]
    },
    {
      "cell_type": "markdown",
      "metadata": {},
      "source": [
        "Define hyperparameters for the Bayesian geological model\n\n"
      ]
    },
    {
      "cell_type": "code",
      "execution_count": null,
      "metadata": {
        "collapsed": false
      },
      "outputs": [],
      "source": [
        "length_scale_prior = torch.tensor(1_000.0)\nvariance_prior = torch.tensor(25.0 ** 2)\ncovariance_matrix = gaussian_kernel(geophysics_input[['X', 'Y']], length_scale_prior, variance_prior)"
      ]
    },
    {
      "cell_type": "markdown",
      "metadata": {},
      "source": [
        "Configure the Pyro model for geological data\n\n"
      ]
    },
    {
      "cell_type": "code",
      "execution_count": null,
      "metadata": {
        "collapsed": false
      },
      "outputs": [],
      "source": [
        "prior_tensor = BackendTensor.t.array([2.61, 2.92, 3.1, 2.92, 2.61, 2.61]).to(torch.float64)\ngeo_model.geophysics_input = gp.data.GeophysicsInput(\n    tz=geo_model.geophysics_input.tz,\n    densities=prior_tensor,\n)"
      ]
    },
    {
      "cell_type": "markdown",
      "metadata": {},
      "source": [
        "Define the Pyro probabilistic model for inversion\n\n"
      ]
    },
    {
      "cell_type": "code",
      "execution_count": null,
      "metadata": {
        "collapsed": false
      },
      "outputs": [],
      "source": [
        "def model(y_obs_list, interpolation_input):\n    \"\"\"\n    Pyro model representing the probabilistic aspects of the geological model.\n    \"\"\"\n    prior_mean = 2.62\n    mu_density = pyro.sample(\n        name=r'$\\mu_{density}$',\n        fn=dist.Normal(prior_mean, torch.tensor(0.5, dtype=torch.float64))\n    )\n    geo_model.geophysics_input.densities = torch.index_put(\n        input=prior_tensor,\n        indices=(torch.tensor([3]),),\n        values=mu_density\n    )\n    geo_model.solutions = gempy_engine.compute_model(\n        interpolation_input=interpolation_input,\n        options=geo_model.interpolation_options,\n        data_descriptor=geo_model.input_data_descriptor,\n        geophysics_input=geo_model.geophysics_input\n    )\n    simulated_geophysics = geo_model.solutions.gravity\n    pyro.deterministic(r'$\\mu_{gravity}$', simulated_geophysics)\n    pyro.sample(\n        name=\"obs\",\n        fn=dist.MultivariateNormal(simulated_geophysics, covariance_matrix),\n        obs=y_obs_list\n    )"
      ]
    },
    {
      "cell_type": "markdown",
      "metadata": {},
      "source": [
        "Prepare observed data for Pyro model and optimize mesh settings\n\n"
      ]
    },
    {
      "cell_type": "code",
      "execution_count": null,
      "metadata": {
        "collapsed": false
      },
      "outputs": [],
      "source": [
        "y_obs_list = torch.tensor(adapted_observed_grav.values).view(1, 17)\ninterpolation_options.mesh_extraction = False\ninterpolation_options.number_octree_levels = 1\ngeo_model.grid.set_inactive(\"topography\")\ngeo_model.grid.set_inactive(\"regular\")"
      ]
    },
    {
      "cell_type": "markdown",
      "metadata": {},
      "source": [
        "Perform prior sampling and visualize the results\n\n"
      ]
    },
    {
      "cell_type": "code",
      "execution_count": null,
      "metadata": {
        "collapsed": false
      },
      "outputs": [],
      "source": [
        "if True:\n    prior = Predictive(model, num_samples=50)(y_obs_list, interpolation_input=geo_model.interpolation_input)\n    data = az.from_pyro(prior=prior)\n    az.plot_trace(data.prior)\n    plt.show()"
      ]
    },
    {
      "cell_type": "markdown",
      "metadata": {},
      "source": [
        "Run Markov Chain Monte Carlo (MCMC) using the NUTS algorithm for probabilistic inversion\n\n"
      ]
    },
    {
      "cell_type": "code",
      "execution_count": null,
      "metadata": {
        "collapsed": false
      },
      "outputs": [],
      "source": [
        "pyro.primitives.enable_validation(is_validate=True)\nnuts_kernel = NUTS(model)\nmcmc = MCMC(nuts_kernel, num_samples=1000, warmup_steps=300)\nmcmc.run(y_obs_list, interpolation_input=geo_model.interpolation_input)"
      ]
    },
    {
      "cell_type": "markdown",
      "metadata": {},
      "source": [
        "Analyze posterior samples and predictives, and visualize the results\n\n"
      ]
    },
    {
      "cell_type": "code",
      "execution_count": null,
      "metadata": {
        "collapsed": false
      },
      "outputs": [],
      "source": [
        "posterior_samples = mcmc.get_samples(50)\nposterior_predictive = Predictive(model, posterior_samples)(y_obs_list, interpolation_input=geo_model.interpolation_input)\ndata = az.from_pyro(\n    posterior=mcmc,\n    prior=prior,\n    posterior_predictive=posterior_predictive\n)\naz.plot_trace(data)\nplt.show()"
      ]
    },
    {
      "cell_type": "markdown",
      "metadata": {},
      "source": [
        "Create density plots for posterior and prior distributions\nThese plots provide insights into the parameter distributions and their changes.\n\n"
      ]
    },
    {
      "cell_type": "code",
      "execution_count": null,
      "metadata": {
        "collapsed": false
      },
      "outputs": [],
      "source": [
        "az.plot_density(\n    data=[data, data.prior],\n    shade=.9,\n    hdi_prob=.99,\n    data_labels=[\"Posterior\", \"Prior\"],\n    colors=[default_red, default_blue],\n)\nplt.show()"
      ]
    },
    {
      "cell_type": "code",
      "execution_count": null,
      "metadata": {
        "collapsed": false
      },
      "outputs": [],
      "source": [
        "az.plot_density(\n    data=[data.posterior_predictive, data.prior_predictive],\n    shade=.9,\n    var_names=[r'$\\mu_{gravity}$'],\n    data_labels=[\"Posterior Predictive\", \"Prior Predictive\"],\n    colors=[default_red, default_blue],\n)\nplt.show()\n\n# sphinx_gallery_thumbnail_number = -1"
      ]
    }
  ],
  "metadata": {
    "kernelspec": {
      "display_name": "Python 3",
      "language": "python",
      "name": "python3"
    },
    "language_info": {
      "codemirror_mode": {
        "name": "ipython",
        "version": 3
      },
      "file_extension": ".py",
      "mimetype": "text/x-python",
      "name": "python",
      "nbconvert_exporter": "python",
      "pygments_lexer": "ipython3",
      "version": "3.10.12"
    }
  },
  "nbformat": 4,
  "nbformat_minor": 0
}