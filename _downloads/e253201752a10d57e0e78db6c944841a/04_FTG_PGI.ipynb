{
  "cells": [
    {
      "cell_type": "code",
      "execution_count": null,
      "metadata": {
        "collapsed": false
      },
      "outputs": [],
      "source": [
        "%matplotlib inline\nfrom pyvista import set_plot_theme\nset_plot_theme('document')"
      ]
    },
    {
      "cell_type": "markdown",
      "metadata": {},
      "source": [
        "\n\n# Inversion of Full Tensor Gravity Gradiometry Data\n\nThis example illustrates the inversion of sub-surface density models from Full-Tensor Gravity Gradiometry (FTG-G) data, measured over the Irish Midlands, using Petrophysically and Geologically guided Inversion (PGI). The key steps include:\n\n- Loading necessary modules and data\n- Generating a mesh\n- Initializing the Gaussian Mixture Model\n- Tuning hyper-parameters\n- Visualizing the results\n\nThe process is based on the PGI method introduced by Astic and Oldenburg (2019), and it extends the original example notebook from SimPEG's documentation (see [SimPEG docs](https://docs.simpeg.xyz/index.html) for more information).\n"
      ]
    },
    {
      "cell_type": "code",
      "execution_count": null,
      "metadata": {
        "collapsed": false
      },
      "outputs": [],
      "source": [
        "import os\nimport shutil\nfrom dotenv import dotenv_values\n\nimport SimPEG.potential_fields as pf\n# Import the SimPEG functions\nimport discretize as ds\nimport matplotlib as mpl\nimport matplotlib.pyplot as plt\n# Import the general modules\nimport numpy as np\nimport pandas as pd\nfrom SimPEG import (maps, data, utils, inverse_problem, inversion, optimization, regularization, data_misfit, directives)\nfrom SimPEG.potential_fields import gravity as grav\n# Import the discretize module\nfrom discretize.utils import active_from_xyz\n\n# Import SimpegHelper for plotting and resampling data\nfrom vector_geology import SimpegHelper as SH\n\n# Plot beautification\nformatter = mpl.ticker.ScalarFormatter(useMathText=True)\nformatter.set_scientific(True)\nformatter.set_powerlimits((0, 0))\n\nmpl.rc(\"axes\", titlesize=14, labelsize=12)\nmpl.rc(\"xtick\", labelsize=12)\nmpl.rc(\"ytick\", labelsize=12)"
      ]
    },
    {
      "cell_type": "markdown",
      "metadata": {},
      "source": [
        "## Step 1: Create Directories for Storing Model Iterations and Outputs\n\nPGI is an iterative process, and it's useful to save the model at every iteration. This helps in preventing overfitting and in adjusting the stopping criteria based on the model iterations.\n\n"
      ]
    },
    {
      "cell_type": "code",
      "execution_count": null,
      "metadata": {
        "collapsed": false
      },
      "outputs": [],
      "source": [
        "name = \"Ireland_FTG\"\npath_to_mod_iterations = f\"./{name}/Model Iterations\"\npath_to_output = f\"./{name}/Output\"\n\nif os.path.exists(path_to_mod_iterations):\n    shutil.rmtree(path_to_mod_iterations)\nos.makedirs(path_to_mod_iterations)\n\nif os.path.exists(path_to_output):\n    shutil.rmtree(path_to_output)\nos.makedirs(path_to_output)"
      ]
    },
    {
      "cell_type": "markdown",
      "metadata": {},
      "source": [
        "## Step 2: Load the FTG-G Data\n\nFull Tensor Gradiometry data, a 2-Tensor, contains five independent components due to its symmetric and traceless nature. These components are used for the inversion.\n$$\nG = \\left[\\begin{array}{cc} \nG_{xx} & G_{xy} & G_{xz}\\\\\nG_{xy} & G_{yy} & G_{yz}\\\\\nG_{xz} & G_{yz} & G_{zz}\n\\end{array}\\right]\n$$\n\n"
      ]
    },
    {
      "cell_type": "code",
      "execution_count": null,
      "metadata": {
        "collapsed": false
      },
      "outputs": [],
      "source": [
        "config = dotenv_values()\nfile_path = config.get(\"PATH_TO_GRADIOMETRY\")\nFTG_Data = pd.read_csv(file_path, delimiter=\",\").to_numpy()"
      ]
    },
    {
      "cell_type": "markdown",
      "metadata": {},
      "source": [
        "## Step 3: Resample Data onto a Regular Grid\n\nResampling the data onto a regular grid aids in mesh generation and visualization. The `SimpegHelper.pf_rs()` function resamples potential field data onto a new regular grid.\n\n"
      ]
    },
    {
      "cell_type": "code",
      "execution_count": null,
      "metadata": {
        "collapsed": false
      },
      "outputs": [],
      "source": [
        "inc = 150  # New sampling interval (ground units)\ngrav_new, nx_new, ny_new = SH.pf_rs(FTG_Data, inc, bounds=[156000, 168000, 143000, 148500])\n\n# NOTE: This step is necessary for real data since the convention followed by\n# the SimPEG forward operator is the opposite of the general convention\ngrav_vec = grav_new[:, 3:] * np.array([-1.0, -1.0, 1.0, 1.0, -1.0])[None, :]  # Adjusting sign convention\ninv_topo = grav_new[:, [0, 1, 2]]  # Extracting topography"
      ]
    },
    {
      "cell_type": "markdown",
      "metadata": {},
      "source": [
        "## Step 4: Visualize the Data\n\nThe `SimpegHelper.plot_2D_data()` function is used to visualize the datasets with `matplotlib`.\n\n"
      ]
    },
    {
      "cell_type": "code",
      "execution_count": null,
      "metadata": {
        "collapsed": false
      },
      "outputs": [],
      "source": [
        "SH.plot_2D_data(np.c_[grav_new[:, [0, 1, 2]], grav_vec[:, 0]], [np.nanmin(grav_vec[:, 0]), np.nanmax(grav_vec[:, 0])], cmap=\"jet\", which_data=\"FTG\", comp=\"xx\", path_to_output=path_to_output, name=name)\nSH.plot_2D_data(np.c_[grav_new[:, [0, 1, 2]], inv_topo[:, -1]], [np.nanmin(inv_topo[:, -1]), np.nanmax(inv_topo[:, -1])], cmap=\"terrain\", which_data=\"Topo\", comp=\"xx\", path_to_output=path_to_output, name=name)"
      ]
    },
    {
      "cell_type": "markdown",
      "metadata": {},
      "source": [
        "## Step 5: Create a TensorMesh Object for Inversion\n\nA 3D TensorMesh is created using the `discretize.TensorMesh` utility to invert the gravity gradiometry data. The mesh is designed to have a constant cell size in the core region and expanding/contracting cells in the padding region.\n\n$$\nz_{n+1} = r z_{n}\n$$\n\nWhere $r$ is a multiplicative factor ($<1$ for contracting, $>1$ for expanding cells). $x$ and $y$ increments can be altered as well, but we choose not to, as the data are not spatially clustered (i.e., the entire region is an area of interest).\n\n"
      ]
    },
    {
      "cell_type": "code",
      "execution_count": null,
      "metadata": {
        "collapsed": false
      },
      "outputs": [],
      "source": [
        "dx, dy, dz = inc, inc, 10  # Cell sizes\nnz_core, nz_pad = 10, 18   # Number of cells in core and padding\nfact = 1.1  # Factor for expanding/contracting cells\n\ninv_hx = dx * np.ones(nx_new)\ninv_hy = dy * np.ones(ny_new)\ninv_hz = [(dz, nz_pad, -fact), (dz, nz_core), (dz, nz_pad, fact)]\n\n# Create the inverse tensor mesh\ninv_mesh = ds.TensorMesh([inv_hx, inv_hy, inv_hz], x0=[np.min(inv_topo[:, 0]), np.min(inv_topo[:, 1]), \"C\"])\n\n# Drape the topography over the mesh\nactv = active_from_xyz(inv_mesh, inv_topo)\nndv = np.nan\nactvMap = maps.InjectActiveCells(inv_mesh, actv, ndv)\nnactv = int(actv.sum())\n\n# Print mesh details\nprint(inv_mesh)"
      ]
    },
    {
      "cell_type": "markdown",
      "metadata": {},
      "source": [
        "## Step 6: Visualize the Mesh\n\nA slice of the Tensor Mesh object is visualized using the `discretize.TensorMesh.plot_slice()` utility.\n\n"
      ]
    },
    {
      "cell_type": "markdown",
      "metadata": {},
      "source": [
        "Create a background model.\n\n"
      ]
    },
    {
      "cell_type": "code",
      "execution_count": null,
      "metadata": {
        "collapsed": false
      },
      "outputs": [],
      "source": [
        "bg = np.ones(nactv)\nmod = actvMap * bg\n\n# Plot the mesh slice.\nfig = plt.figure(figsize=(6, 6))\nax = fig.add_axes([0.1, 0.1, 0.8, 0.8])\ncplot = inv_mesh.plot_slice(mod, grid=True, ax=ax, normal=\"Y\", ind=22)\nax.set_title('Tensor Mesh Slice')\nax.set_xlabel('x (m)')\nax.set_ylabel('z (m)')\nax.set_xlim([158000, 159000])\nax.set_ylim([-500, 100])\nax.ticklabel_format(axis=\"both\")\nax.set_aspect('equal')\nplt.savefig(path_to_output + \"/\" + name + \"_TreeMeshSlice.pdf\", bbox_inches=\"tight\")\nplt.show()"
      ]
    },
    {
      "cell_type": "markdown",
      "metadata": {},
      "source": [
        "## Step 7: Set up the Gravity Inverse Problem\n\nThe gravity inverse problem is set up using SimPEG's `pf.gravity` module to generate a forward model based on the mesh and receiver locations.\n\n"
      ]
    },
    {
      "cell_type": "markdown",
      "metadata": {},
      "source": [
        "Create wires for the density model\n\n"
      ]
    },
    {
      "cell_type": "code",
      "execution_count": null,
      "metadata": {
        "collapsed": false
      },
      "outputs": [],
      "source": [
        "wires = maps.Wires((\"density\", nactv))\n\n# Create a density map\ndensity_map = actvMap * wires.density\n\n# Create an identity map\nidentity_map = maps.IdentityMap(nP=nactv)\n\n# Components of the data used as input\ngravity_components = [\"gxx\", \"gyy\", \"gxz\", \"gyz\", \"gxy\"]\n\n# Receiver locations (25 meters above the topography)\ngravity_receiver_locations = inv_topo + 120.\n\n# Create a gravity receiver list\ngravity_receivers = pf.gravity.receivers.Point(gravity_receiver_locations, components=gravity_components)\ngravity_receiver_list = [gravity_receivers]\n\n# Create a gravity source field\ngravity_source_field = pf.gravity.sources.SourceField(receiver_list=gravity_receiver_list)\n\n# Define the gravity survey\ngravity_survey = pf.gravity.survey.Survey(gravity_source_field)\n\n# Set up the gravity simulation problem\ngravity_problem = grav.simulation.Simulation3DIntegral(\n    inv_mesh,\n    survey=gravity_survey,\n    rhoMap=wires.density,\n    ind_active=actv\n)\n\n# Create a gravity data object, with the relative errors and a standard noise floor\ngravity_data = data.Data(gravity_survey, dobs=grav_vec.flatten(), noise_floor=5, relative_error=0.1)\n\n# Define the misfits associated with the gravity data\ngravity_misfit = data_misfit.L2DataMisfit(data=gravity_data, simulation=gravity_problem)"
      ]
    },
    {
      "cell_type": "markdown",
      "metadata": {},
      "source": [
        "## Step 8: Setting up the Gaussian Mixture Model (GMM) Prior\n\nIn PGI, the petrophysical data is used as a constraint in the form of a [Gaussian Mixture Model](https://scikit-learn.org/stable/modules/mixture.html). A GMM is a multimodal probabilistic distribution which is just a weighted sum of multiple gaussian distributions. Given the number of rock units ($n$), the petrophysical distribution can be displayed as an $n$-modal GMM. If you have no petrophysical information available, you can initialize the GMM as below. If you do have a petrophysical dataset, you can fit the GMM to said dataset using the ``gmmref.fit()`` method.\n\n"
      ]
    },
    {
      "cell_type": "markdown",
      "metadata": {},
      "source": [
        "Number of rock units and number of physical properties\n\n"
      ]
    },
    {
      "cell_type": "code",
      "execution_count": null,
      "metadata": {
        "collapsed": false
      },
      "outputs": [],
      "source": [
        "num_rock_units = 5\nnum_physical_props = 1\n\n# Create a weighted Gaussian mixture model with specified parameters\ngmmref = utils.WeightedGaussianMixture(\n    n_components=num_rock_units,\n    mesh=inv_mesh,\n    actv=actv,\n    covariance_type=\"full\",\n)\n\n# Set the background density\nbackground_density = 0.0\n\n# Initialize the GMM fit with random samples, mesh size, and number of physical properties\ngmmref.fit(np.random.randn(nactv, num_physical_props))\n\n# Set the mean values of physical property contrasts for each rock unit\n# One value (density) for each rock unit\ngmmref.means_ = np.c_[\n    [-0.4],\n    [-0.2],\n    [0.0],\n    [0.2],\n    [0.4],\n].T\n\n# Set the original variance for density\ndensity_variance = 8e-5\n\n# Set the covariances of physical properties for each rock unit\n# NOTE: Since we don't have petrophysical information for this example, we keep the covariances\n# same for every unit. The GMM will update itself during the inversion.\ngmmref.covariances_ = np.array(\n    [\n        [[density_variance]],\n        [[density_variance]],\n        [[density_variance]],\n        [[density_variance]],\n        [[density_variance]]\n    ]\n)\n\n# Compute the precision (inverse covariance) of each cluster\ngmmref.compute_clusters_precisions()\n\n# Set the weights for each rock unit\n# NOTE: This determines the size of each peak of the n-modal GMM\ngmmref.weights_ = np.ones((nactv, 1)) * np.c_[0.125, 0.125, 0.5, 0.125, 0.125]"
      ]
    },
    {
      "cell_type": "markdown",
      "metadata": {},
      "source": [
        "## Plot the 1D-GMM\n\nThe initial density distribution is visualized.\n\n"
      ]
    },
    {
      "cell_type": "code",
      "execution_count": null,
      "metadata": {
        "collapsed": false
      },
      "outputs": [],
      "source": [
        "fig = plt.figure(figsize=(6, 6))\nax = gmmref.plot_pdf(flag2d=False, plotting_precision=1000, padding=0.2)\nax[0].set_xlabel(r\"Density Contrast (g/cc)\")\nax[0].set_ylabel(r\"Probability Density Values\")\nax[0].get_legend().remove()\nax[0].set_title(r\"Initial DelRho Distribution\")\nax[0].ticklabel_format(axis=\"both\", style=\"scientific\", scilimits=(0, 0))\nax[0].set_aspect(1 / 20)\nplt.savefig(path_to_output + \"/\" + name + \"_Init_GMM.pdf\", bbox_inches=\"tight\")\nplt.show()"
      ]
    },
    {
      "cell_type": "markdown",
      "metadata": {},
      "source": [
        "## Step 9: Setting the Hyper-parameters and the Sensitivity Weights\n\nEvery PGI is a set of three Maximum-A-Posteriori ([MAP](https://en.wikipedia.org/wiki/Maximum_a_posteriori_estimation)) problems, being solved iteratively. The solver tries to minimize the L2 error of an objective function containing both the FTG Data and the petrophysical GMM. In this section we tune the necessary hyper-parameters, as well as initialise the necessary weights for every voxel (as the contribution of every voxel is dependent on it's depth from the surface). The regularization smallness ($\\alpha_s$) and smoothness ($\\alpha_i,\\ i = x, y, z$) are initialised here. Please check [here](https://giftoolscookbook.readthedocs.io/en/latest/content/fundamentals/index.html) for the physical meaning of these parameters and the fundamentals of a Tikhonov regularized inversion.\n\n<strong> NOTE </strong> : The smoothness parameters ($\\alpha_i$) are static and hence need to be fine-tuned through trial and error.\n\n\n"
      ]
    },
    {
      "cell_type": "code",
      "execution_count": null,
      "metadata": {
        "collapsed": false
      },
      "outputs": [],
      "source": [
        "initial_model = np.r_[background_density * np.ones(actvMap.nP)]"
      ]
    },
    {
      "cell_type": "markdown",
      "metadata": {},
      "source": [
        "Sensitivity weighting\nCompute the sensitivity weights for each cell based on the gravity problem's sensitivity matrix (G)\nThis is done by computing the square root of the sum of the squared elements of G for each cell,\nand then normalizing by the cell volumes and the maximum weight value.\n\n"
      ]
    },
    {
      "cell_type": "code",
      "execution_count": null,
      "metadata": {
        "collapsed": false
      },
      "outputs": [],
      "source": [
        "sensitivity_weights_gravity = np.sum(gravity_problem.G ** 2.0, axis=0) ** 0.5 / (inv_mesh.cell_volumes[actv])\nsensitivity_weights_gravity = sensitivity_weights_gravity / np.nanmax(sensitivity_weights_gravity)\n\n# Regularization multipliers\nsmallness_multiplier = 1e-4\nsmoothness_x_multiplier = 4\nsmoothness_y_multiplier = 4\nsmoothness_z_multiplier = 0.25\n\n# Create joint PGI regularization with smoothness\nregularization_term = regularization.PGI(\n    gmmref=gmmref,\n    mesh=inv_mesh,\n    wiresmap=wires,\n    maplist=[identity_map],\n    active_cells=actv,\n    alpha_pgi=smallness_multiplier,\n    alpha_x=smoothness_x_multiplier,\n    alpha_y=smoothness_y_multiplier,\n    alpha_z=smoothness_z_multiplier,\n    # The second derivative smoothnesses are kept to be zero, since we\n    # don't want to include second derivatives in the objective function\n    alpha_xx=0.0,\n    alpha_yy=0.0,\n    alpha_zz=0.0,\n    weights_list=[sensitivity_weights_gravity]\n)"
      ]
    },
    {
      "cell_type": "markdown",
      "metadata": {},
      "source": [
        "## Step 10: Initialize the Directives\n\nDirectives are set, including instructions on the bounds, update factors, and other hyperparameters for the inversion solver.\n\n"
      ]
    },
    {
      "cell_type": "markdown",
      "metadata": {},
      "source": [
        "Estimate smoothness multipliers\n\n"
      ]
    },
    {
      "cell_type": "code",
      "execution_count": null,
      "metadata": {
        "collapsed": false
      },
      "outputs": [],
      "source": [
        "alphas_directive = directives.AlphasSmoothEstimate_ByEig(verbose=True)\n\n# Initialize beta and beta/alpha_s schedule\nbeta_directive = directives.BetaEstimate_ByEig(beta0_ratio=1e-2)\nbeta_schedule = directives.PGI_BetaAlphaSchedule(\n    coolingFactor=16.0,\n    tolerance=0.2,\n    progress=0.2,\n    verbose=True,\n)\n\n# Define target misfits for geophysical and petrophysical data\ntarget_misfits = directives.MultiTargetMisfits(verbose=True)\n\n# Add reference model once stable\nmref_in_smooth = directives.PGI_AddMrefInSmooth(wait_till_stable=True, verbose=True)\n\n# Update smallness parameters, keeping GMM fixed (L2 Approx of PGI)\nupdate_smallness_directive = directives.PGI_UpdateParameters(\n    update_gmm=True,\n    kappa=0,\n    nu=0.5,\n    zeta=0\n)\n\n# Update preconditioner\nupdate_preconditioner = directives.UpdatePreconditioner()\n\n# Save iteration results\nsave_iteration_directive = directives.SaveOutputEveryIteration(name=name, directory=path_to_output)\n\n# Save model iterations\nsave_model_directive = directives.SaveModelEveryIteration(name=name, directory=path_to_mod_iterations)\n\n# Optimization options for the inversion\nlower_bound = np.r_[-1.0 * np.ones(actvMap.nP)]\nupper_bound = np.r_[1.0 * np.ones(actvMap.nP)]\noptimizer = optimization.ProjectedGNCG(\n    maxIter=20,\n    lower=lower_bound,\n    upper=upper_bound,\n    maxIterLS=20,\n    maxIterCG=100,\n    tolCG=1e-4,\n)\n\n# Inverse problem setup\ninverse_prob = inverse_problem.BaseInvProblem(gravity_misfit, regularization_term, optimizer)\ninversion_algo = inversion.BaseInversion(\n    inverse_prob,\n    directiveList=[\n        alphas_directive,\n        beta_directive,\n        update_smallness_directive,\n        target_misfits,\n        beta_schedule,\n        mref_in_smooth,\n        update_preconditioner,\n        save_iteration_directive,\n        save_model_directive\n    ],\n)\n\n# Step 11: Run the Inversion! \n# ---------------------------\n# \n# The inversion is executed using the initialized settings.\n\ninverted_model = inversion_algo.run(initial_model)"
      ]
    },
    {
      "cell_type": "markdown",
      "metadata": {},
      "source": [
        "## Step 12: Visualize the 3D Model\n\nThe inverted 3D model is visualized using slices in different orientations.\n\n"
      ]
    },
    {
      "cell_type": "code",
      "execution_count": null,
      "metadata": {
        "collapsed": false
      },
      "outputs": [],
      "source": [
        "set = 1\nsave_plots = True\n\n# Indices of the depth sections\nind_plot_x = int(len(inv_mesh.cell_centers_x) / 6) + 25\nind_plot_y = int(len(inv_mesh.cell_centers_y) / 2)\nind_plot_z = int(len(inv_mesh.cell_centers_z) / 2) - 15\n\nind_plot = [ind_plot_x, ind_plot_y, ind_plot_z]\n\n# Extract the results\ninverted_density_model = density_map * inverted_model\nquasi_geology_model = actvMap * regularization_term.objfcts[0].compute_quasi_geology_model()\n\n# Plot Density Contrast Model (Z)\nnormal = \"Z\"\nmodel_to_plot = inverted_density_model\nSH.plot_model_slice(inv_mesh, actv, model_to_plot, normal, ind_plot, [-1.0, 1.0], set, sec_loc=True, gdlines=True, which_prop=\"Den\", cmap=\"Spectral\", save_plt=save_plots, path_to_output=path_to_output, name=name)\n\n# Plot Inverted Model Slices (Y)\nnormal = \"X\"\nmodel_to_plot = inverted_density_model\nSH.plot_model_slice(inv_mesh, actv, model_to_plot, normal, ind_plot, [-1.0, 1.0], set, sec_loc=True, gdlines=True, which_prop=\"Den\", cmap=\"Spectral\", save_plt=save_plots, path_to_output=path_to_output, name=name)\n\n# Plot Inverted Model Slices (X)\nnormal = \"Y\"\nmodel_to_plot = inverted_density_model\nSH.plot_model_slice(inv_mesh, actv, model_to_plot, normal, ind_plot, [-1.0, 1.0], set, sec_loc=True, gdlines=True, which_prop=\"Den\", cmap=\"Spectral\", save_plt=save_plots, path_to_output=path_to_output, name=name)"
      ]
    },
    {
      "cell_type": "markdown",
      "metadata": {},
      "source": [
        "## Step 13: Visualize the Quasi-Geological Model\n\nThe quasi-geological model (as given by [Li et al., 2019](https://doi.org/10.1190/tle38010060.1))is visualized, showing different rock units classified by the GMM.\n\n"
      ]
    },
    {
      "cell_type": "markdown",
      "metadata": {},
      "source": [
        "Plot Density Contrast Model (Z)\n\n"
      ]
    },
    {
      "cell_type": "code",
      "execution_count": null,
      "metadata": {
        "collapsed": false
      },
      "outputs": [],
      "source": [
        "normal = \"Z\"\nmodel_to_plot = quasi_geology_model\nSH.plot_model_slice(inv_mesh, actv, model_to_plot, normal, ind_plot, [0, 4], set, sec_loc=True, gdlines=True, which_prop=\"QGM\", cmap=\"jet\", save_plt=save_plots, path_to_output=path_to_output, name=name)\n\n# Plot Inverted Model Slices (Y)\nnormal = \"X\"\nmodel_to_plot = quasi_geology_model\nSH.plot_model_slice(inv_mesh, actv, model_to_plot, normal, ind_plot, [0, 4], set, sec_loc=True, gdlines=True, which_prop=\"QGM\", cmap=\"jet\", save_plt=save_plots, path_to_output=path_to_output, name=name)\n\n# Plot Inverted Model Slices (X)\nnormal = \"Y\"\nmodel_to_plot = quasi_geology_model\nSH.plot_model_slice(inv_mesh, actv, model_to_plot, normal, ind_plot, [0, 4], set, sec_loc=True, gdlines=True, which_prop=\"QGM\", cmap=\"jet\", save_plt=save_plots, path_to_output=path_to_output, name=name)"
      ]
    },
    {
      "cell_type": "markdown",
      "metadata": {},
      "source": [
        "## Step 14: Plot the Updated 1D-GMM\n\nThe updated GMM, learned through the inversion, is visualized.\n\n"
      ]
    },
    {
      "cell_type": "code",
      "execution_count": null,
      "metadata": {
        "collapsed": false
      },
      "outputs": [],
      "source": [
        "# Plot the learned GMM\nfig = plt.figure(figsize=(6, 6))\nax = regularization_term.objfcts[0].gmm.plot_pdf(flag2d=False, plotting_precision=500, padding=0.4)\nax[0].hist(inverted_density_model[actv], density=True, bins=1000)\nax[0].set_xlabel(r\"Density contrast (g/cc)\")\nax[0].set_ylabel(r\"Probability Density Values\")\nax[0].get_legend().remove()\nax[0].set_title(r\"Learned DelRho Distribution\")\nax[0].ticklabel_format(axis=\"both\", style=\"scientific\", scilimits=(0, 0))\nplt.savefig(path_to_output + \"/\" + name + \"_Learned_GMM.pdf\", bbox_inches=\"tight\")\nplt.show()"
      ]
    }
  ],
  "metadata": {
    "kernelspec": {
      "display_name": "Python 3",
      "language": "python",
      "name": "python3"
    },
    "language_info": {
      "codemirror_mode": {
        "name": "ipython",
        "version": 3
      },
      "file_extension": ".py",
      "mimetype": "text/x-python",
      "name": "python",
      "nbconvert_exporter": "python",
      "pygments_lexer": "ipython3",
      "version": "3.10.12"
    }
  },
  "nbformat": 4,
  "nbformat_minor": 0
}